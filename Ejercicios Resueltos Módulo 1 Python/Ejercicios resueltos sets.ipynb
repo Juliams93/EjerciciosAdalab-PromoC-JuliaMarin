{
 "cells": [
  {
   "cell_type": "markdown",
   "metadata": {},
   "source": [
    "1. Define la *lista* "
   ]
  },
  {
   "cell_type": "code",
   "execution_count": 25,
   "metadata": {},
   "outputs": [],
   "source": [
    "\n",
    "temperaturas_diciembre = [10, 10, 13, 14, 12, 15, \n",
    "                          12, 11, 13, 17, 18, 15, \n",
    "                          15, 17, 17, 13, 13, 11,\n",
    "                          12, 10, 12, 14, 12, 12,\n",
    "                          11, 12, 16, 16, 14, 17, 18]"
   ]
  },
  {
   "cell_type": "markdown",
   "metadata": {},
   "source": [
    "  2. Conviértala en un set  llamado `diciembre`."
   ]
  },
  {
   "cell_type": "code",
   "execution_count": 26,
   "metadata": {},
   "outputs": [
    {
     "name": "stdout",
     "output_type": "stream",
     "text": [
      "{10, 11, 12, 13, 14, 15, 16, 17, 18}\n"
     ]
    }
   ],
   "source": [
    "diciembre = set(temperaturas_diciembre)\n",
    "print(diciembre)"
   ]
  },
  {
   "cell_type": "markdown",
   "metadata": {},
   "source": [
    "  3. Piensa en 6 colores y almacenalos en un set llamado `colores`."
   ]
  },
  {
   "cell_type": "code",
   "execution_count": 27,
   "metadata": {},
   "outputs": [],
   "source": [
    "colores = {\"verde\", \"morado\", \"blanco\", \"negro\", \"turquesa\", \"lavanda\"}"
   ]
  },
  {
   "cell_type": "markdown",
   "metadata": {},
   "source": [
    " 4. Añade `'lila'` a `colores`."
   ]
  },
  {
   "cell_type": "code",
   "execution_count": 28,
   "metadata": {},
   "outputs": [
    {
     "name": "stdout",
     "output_type": "stream",
     "text": [
      "{'negro', 'turquesa', 'verde', 'blanco', 'morado', 'lila', 'lavanda'}\n"
     ]
    }
   ],
   "source": [
    "colores.add(\"lila\")\n",
    "print(colores)"
   ]
  },
  {
   "cell_type": "markdown",
   "metadata": {},
   "source": [
    "5. Añade `'azul'`, `'rojo'`, y `'granate'` a `colores` usando `.update()`"
   ]
  },
  {
   "cell_type": "code",
   "execution_count": 29,
   "metadata": {},
   "outputs": [
    {
     "name": "stdout",
     "output_type": "stream",
     "text": [
      "{'rojo', 'azul', 'lila', 'morado', 'lavanda', 'negro', 'verde', 'blanco', 'turquesa', 'granate'}\n"
     ]
    }
   ],
   "source": [
    "colores_nuevos = [\"azul\", \"rojo\", \"granate\"]\n",
    "colores.update(colores_nuevos)\n",
    "print(colores)"
   ]
  },
  {
   "cell_type": "markdown",
   "metadata": {},
   "source": [
    " 6. Tu set de `colores`, ¿tiene `'verde'`?"
   ]
  },
  {
   "cell_type": "code",
   "execution_count": 30,
   "metadata": {},
   "outputs": [
    {
     "data": {
      "text/plain": [
       "False"
      ]
     },
     "execution_count": 30,
     "metadata": {},
     "output_type": "execute_result"
    }
   ],
   "source": [
    "\"Verde\" in colores"
   ]
  },
  {
   "cell_type": "markdown",
   "metadata": {},
   "source": [
    "  7. ¿Y tiene `'ROJO'`?"
   ]
  },
  {
   "cell_type": "code",
   "execution_count": 31,
   "metadata": {},
   "outputs": [
    {
     "data": {
      "text/plain": [
       "True"
      ]
     },
     "execution_count": 31,
     "metadata": {},
     "output_type": "execute_result"
    }
   ],
   "source": [
    "\"ROJO\" not in colores"
   ]
  },
  {
   "cell_type": "markdown",
   "metadata": {},
   "source": [
    "8. Define el set `enero` para que sea igual a `diciembre`."
   ]
  },
  {
   "cell_type": "code",
   "execution_count": 38,
   "metadata": {},
   "outputs": [
    {
     "name": "stdout",
     "output_type": "stream",
     "text": [
      "{10, 11, 12, 13, 14, 15, 16, 17, 18}\n"
     ]
    }
   ],
   "source": [
    "enero = diciembre.copy()\n",
    "print(enero)"
   ]
  },
  {
   "cell_type": "markdown",
   "metadata": {},
   "source": [
    "9. Quita las temperaturas `17`, y `18` de `enero`."
   ]
  },
  {
   "cell_type": "code",
   "execution_count": 39,
   "metadata": {},
   "outputs": [
    {
     "name": "stdout",
     "output_type": "stream",
     "text": [
      "{10, 11, 12, 13, 14, 15, 16}\n"
     ]
    }
   ],
   "source": [
    "enero.discard(17)\n",
    "enero.discard(18)\n",
    "print(enero)"
   ]
  },
  {
   "cell_type": "markdown",
   "metadata": {},
   "source": [
    "10. ¿Cuántas temperaturas distintas había en diciembre?"
   ]
  },
  {
   "cell_type": "code",
   "execution_count": 40,
   "metadata": {},
   "outputs": [
    {
     "data": {
      "text/plain": [
       "9"
      ]
     },
     "execution_count": 40,
     "metadata": {},
     "output_type": "execute_result"
    }
   ],
   "source": [
    "len(diciembre)"
   ]
  },
  {
   "cell_type": "markdown",
   "metadata": {},
   "source": [
    "11. ¿Y cuántas en enero?"
   ]
  },
  {
   "cell_type": "code",
   "execution_count": 41,
   "metadata": {},
   "outputs": [
    {
     "data": {
      "text/plain": [
       "7"
      ]
     },
     "execution_count": 41,
     "metadata": {},
     "output_type": "execute_result"
    }
   ],
   "source": [
    "len(enero)"
   ]
  },
  {
   "cell_type": "markdown",
   "metadata": {},
   "source": [
    "12. Identifica los elementos que hay en `diciembre` que no están en `enero`."
   ]
  },
  {
   "cell_type": "code",
   "execution_count": 42,
   "metadata": {},
   "outputs": [
    {
     "name": "stdout",
     "output_type": "stream",
     "text": [
      "Los elementos que están en diciembre y no en enero son: {17, 18}\n"
     ]
    }
   ],
   "source": [
    "diferencia_diciembre_enero = diciembre.difference(enero)\n",
    "print('Los elementos que están en diciembre y no en enero son:', diferencia_diciembre_enero)"
   ]
  },
  {
   "cell_type": "markdown",
   "metadata": {},
   "source": [
    "13. Identifica los elementos que hay en `enero` que no están en `diciembre`."
   ]
  },
  {
   "cell_type": "code",
   "execution_count": 43,
   "metadata": {},
   "outputs": [
    {
     "name": "stdout",
     "output_type": "stream",
     "text": [
      "Los elementos que están en enero y no en diciembre son: set()\n"
     ]
    }
   ],
   "source": [
    "diferencia_enero_diciembre = enero.difference(diciembre)\n",
    "print('Los elementos que están en enero y no en diciembre son:', diferencia_enero_diciembre)"
   ]
  },
  {
   "cell_type": "markdown",
   "metadata": {},
   "source": [
    " 14. Identifica los elementos que tienen en común `diciembre` y `enero`."
   ]
  },
  {
   "cell_type": "code",
   "execution_count": 44,
   "metadata": {},
   "outputs": [
    {
     "name": "stdout",
     "output_type": "stream",
     "text": [
      "Los elementos que tienen en común diciembre y enero son: {10, 11, 12, 13, 14, 15, 16}\n"
     ]
    }
   ],
   "source": [
    "conjunto_diciembre_enero = diciembre.intersection(enero)\n",
    "print('Los elementos que tienen en común diciembre y enero son:', conjunto_diciembre_enero)"
   ]
  },
  {
   "cell_type": "markdown",
   "metadata": {},
   "source": [
    "15. Identifica la diferencia simétrica de `colores` y `{'marrón','amarillo','cyan'}`. ¿Qué significa este resultado?"
   ]
  },
  {
   "cell_type": "code",
   "execution_count": 47,
   "metadata": {},
   "outputs": [
    {
     "name": "stdout",
     "output_type": "stream",
     "text": [
      "{'rojo', 'azul', 'lila', 'morado', 'lavanda', 'negro', 'verde', 'blanco', 'turquesa', 'granate'}\n",
      "La diferencia simetrica es: {'rojo', 'amarillo', 'negro', 'azul', 'verde', 'blanco', 'cyan', 'lila', 'morado', 'lavanda', 'turquesa', 'granate', 'marron'}\n"
     ]
    }
   ],
   "source": [
    "colores\n",
    "print(colores)\n",
    "diferencia_simetrica = colores.symmetric_difference({'marron','amarillo','cyan'})\n",
    "print('La diferencia simetrica es:', diferencia_simetrica)"
   ]
  },
  {
   "cell_type": "markdown",
   "metadata": {},
   "source": [
    "El resultado contiene todos los elementos únicos de ambos conjuntos, excluyendo cualquier elemento que pudiera haber estado en ambos"
   ]
  },
  {
   "cell_type": "markdown",
   "metadata": {},
   "source": [
    "16. ¿Son *disjoint* `diciembre` y `enero`? ¿Por qué (no)?"
   ]
  },
  {
   "cell_type": "code",
   "execution_count": 49,
   "metadata": {},
   "outputs": [
    {
     "name": "stdout",
     "output_type": "stream",
     "text": [
      "¿Son disjoint diciembre y enero? False\n"
     ]
    }
   ],
   "source": [
    "disjoint_d_e = diciembre.isdisjoint(enero)\n",
    "print('¿Son disjoint diciembre y enero?', disjoint_d_e)"
   ]
  },
  {
   "cell_type": "markdown",
   "metadata": {},
   "source": [
    "Porque comparten al menos algún elemento."
   ]
  },
  {
   "cell_type": "markdown",
   "metadata": {},
   "source": [
    "17. ¿Es `{'rojo','azul'}` un superset de colores?"
   ]
  },
  {
   "cell_type": "code",
   "execution_count": 50,
   "metadata": {},
   "outputs": [
    {
     "name": "stdout",
     "output_type": "stream",
     "text": [
      "¿Es set 1 un superset de colores? False\n"
     ]
    }
   ],
   "source": [
    "set1 = {'rojo', 'azul'}\n",
    "set_issuperset = set1.issuperset(colores)\n",
    "print('¿Es set 1 un superset de colores?', set_issuperset)"
   ]
  },
  {
   "cell_type": "markdown",
   "metadata": {},
   "source": [
    "18. ¿Y un subset?"
   ]
  },
  {
   "cell_type": "code",
   "execution_count": 52,
   "metadata": {},
   "outputs": [
    {
     "name": "stdout",
     "output_type": "stream",
     "text": [
      "¿Es set 1 un subset de colores? True\n"
     ]
    }
   ],
   "source": [
    "set1 = {'rojo', 'azul'}\n",
    "set_issubset = set1.issubset(colores)\n",
    "print('¿Es set 1 un subset de colores?', set_issubset)"
   ]
  }
 ],
 "metadata": {
  "kernelspec": {
   "display_name": "Python 3",
   "language": "python",
   "name": "python3"
  },
  "language_info": {
   "codemirror_mode": {
    "name": "ipython",
    "version": 3
   },
   "file_extension": ".py",
   "mimetype": "text/x-python",
   "name": "python",
   "nbconvert_exporter": "python",
   "pygments_lexer": "ipython3",
   "version": "3.9.6"
  }
 },
 "nbformat": 4,
 "nbformat_minor": 2
}
