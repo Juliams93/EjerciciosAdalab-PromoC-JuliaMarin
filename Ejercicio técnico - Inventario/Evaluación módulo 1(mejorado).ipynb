{
 "cells": [
  {
   "cell_type": "markdown",
   "metadata": {},
   "source": [
    "# Evaluación Final Módulo 1: #\n",
    "---\n",
    "> Por Julia Marín Salas \n"
   ]
  },
  {
   "cell_type": "markdown",
   "metadata": {},
   "source": [
    "1. Creamos tres estructuras de datos:"
   ]
  },
  {
   "cell_type": "code",
   "execution_count": 2,
   "metadata": {},
   "outputs": [],
   "source": [
    "inventory = []\n",
    "customers = {}\n",
    "total_sales = 0.0"
   ]
  },
  {
   "cell_type": "markdown",
   "metadata": {},
   "source": [
    "2. Inventory's functions:"
   ]
  },
  {
   "cell_type": "code",
   "execution_count": 3,
   "metadata": {},
   "outputs": [],
   "source": [
    "# Con esta función podemos añadir un nuevo producto a nuestro inventario, comprobando previamente si existe.\n",
    "def add_product(name, price, quantity):\n",
    "    for product in inventory:  # Revisamos todos los productos del inventario.\n",
    "        if product['name'] == name: \n",
    "            print('The product already exists and is going to be updated.') \n",
    "            product['quantity'] += quantity # En caso de que el producto ya se encuentre en nuestro inventario, se actualizaría.\n",
    "            return\n",
    "        \n",
    "    # En caso de que no este en nuestro inventario lo agregariamos mediante un diccionario. Y la función append.        \n",
    "    new_product = {  \n",
    "        'name': name,\n",
    "        'price': price,\n",
    "        'quantity': quantity\n",
    "    }\n",
    "    inventory.append(new_product)"
   ]
  },
  {
   "cell_type": "code",
   "execution_count": 4,
   "metadata": {},
   "outputs": [],
   "source": [
    "# Con esta función podemos ver el inventario:\n",
    "def view_inventory():\n",
    "    if len(inventory) == 0: # Aquí verificamos si el inventario está vacío.\n",
    "        print(\"\\nThe inventory is empty.\")\n",
    "    else:\n",
    "        print(f\"\\nInventory :\")\n",
    "        print(f\"-------------\\n\")\n",
    "        for product in inventory: # Si no lo está pedimos que muestre los detalles de cada producto.\n",
    "            print(f\" - Product: {product['name']}, Price: {product['price']}, Quantity: {product['quantity']}\")"
   ]
  },
  {
   "cell_type": "code",
   "execution_count": 5,
   "metadata": {},
   "outputs": [],
   "source": [
    "# Con la siguiente función buscamos cualquier producto en el inventario:\n",
    "def search_product(name):\n",
    "    for product in inventory:\n",
    "        if product['name'].lower() == name.lower():\n",
    "           print(f\"\\nProduct {name} is in inventory.\")\n",
    "           print(f\"Product: {product['name']}, Price: {product['price']}, Quantity: {product['quantity']}\") \n",
    "           return product\n",
    "    print(f'\\nThe product {name} is not in the inventory.')\n",
    "    return None"
   ]
  },
  {
   "cell_type": "code",
   "execution_count": 6,
   "metadata": {},
   "outputs": [],
   "source": [
    "# Con esta función actualizamos el stock del inventario:\n",
    "def update_stock(name, quantity):\n",
    "    product = search_product(name)  # Busca el producto en el inventario\n",
    "    if product:\n",
    "        product['quantity'] += quantity  # Actualiza la cantidad (puede ser positiva o negativa)\n",
    "        \n",
    "        # Si la cantidad es menor a 0, lo ajustamos a 0\n",
    "        if product['quantity'] < 0:\n",
    "            print(f\"Stock for {name} is below 0. Setting quantity to 0.\")\n",
    "            product['quantity'] = 0\n",
    "\n",
    "    # Si el producto no está en el inventario, muestra un mensaje.\n",
    "    else:\n",
    "        print(f\"Product '{name}' not found in inventory.\")"
   ]
  },
  {
   "cell_type": "code",
   "execution_count": 7,
   "metadata": {},
   "outputs": [],
   "source": [
    "# Con esta función eliminamos un producto del inventario:\n",
    "def delete_product(name):\n",
    "    product = search_product(name)  # Busca el producto en el inventario # Busca el producto por nombre.\n",
    "    if product:\n",
    "        inventory.remove(product) #Elimina el producto del inventario.\n",
    "        print(f'Product {name} has been deleted from the inventory.')\n",
    "\n",
    "     # Si el producto no está en el inventario, muestra un mensaje.\n",
    "    else:\n",
    "        print(f\"Product '{name}' not found in inventory.\")\n"
   ]
  },
  {
   "cell_type": "code",
   "execution_count": 8,
   "metadata": {},
   "outputs": [],
   "source": [
    "# Esta función nos permite calcular el valor total del inventario:\n",
    "def calculate_value_inventory():\n",
    "    total_value = 0.0\n",
    "    for product in inventory:\n",
    "        total_value = total_value + product['price'] * product['quantity'] # Calculamos el total: suma el valor de cada producto (precio x cantidad)\n",
    "    return total_value"
   ]
  },
  {
   "cell_type": "code",
   "execution_count": 9,
   "metadata": {},
   "outputs": [],
   "source": [
    "def make_purchase(customer_name):\n",
    "    view_inventory()  # Mostrar el inventario\n",
    "    \n",
    "    # Lista de compras del cliente\n",
    "    customer_purchases = []\n",
    "    total_price = 0.0  # Precio total de la compra\n",
    "\n",
    "    while True:\n",
    "        product_name = input(\"\\nEnter the product name to buy (or 'exit' to finish): \").lower()\n",
    "        \n",
    "        if product_name == 'exit':\n",
    "            break\n",
    "        \n",
    "        # Buscar el producto en el inventario\n",
    "        product_found = None\n",
    "        for product in inventory:\n",
    "            if product['product'] == product_name:\n",
    "                product_found = product\n",
    "                break\n",
    "        \n",
    "        if not product_found:\n",
    "            print(f\"Product '{product_name}' not found in inventory.\")\n",
    "            continue\n",
    "        \n",
    "        # Cantidad a comprar\n",
    "        try:\n",
    "            quantity_to_buy = int(input(f\"Enter the quantity of {product_name}: \"))\n",
    "        except ValueError:\n",
    "            print(\"Invalid input. Please enter a number.\")\n",
    "            continue\n",
    "\n",
    "        if quantity_to_buy > product_found['quantity']:\n",
    "            print(f\"Insufficient stock. Available quantity: {product_found['quantity']}.\")\n",
    "        else:\n",
    "            # Actualizar la cantidad en el inventario\n",
    "            product_found['quantity'] -= quantity_to_buy\n",
    "            \n",
    "            # Añadir la compra a la lista del cliente\n",
    "            customer_purchases.append({\n",
    "                'product': product_name,\n",
    "                'price': product_found['price'],\n",
    "                'quantity': quantity_to_buy\n",
    "            })\n",
    "            \n",
    "            # Calcular el precio total\n",
    "            total_price += product_found['price'] * quantity_to_buy\n",
    "            print(f\"Added {quantity_to_buy} of {product_name} to your cart. Total so far: {total_price:.2f}\")\n",
    "\n",
    "    # Guardar las compras del cliente en su historial\n",
    "    if customer_name in customers:\n",
    "        customers[customer_name]['purchases'].extend(customer_purchases)\n",
    "    else:\n",
    "        print(f\"The customer {customer_name} is not in the database.\")\n",
    "    \n",
    "    return total_price, customer_purchases"
   ]
  },
  {
   "cell_type": "code",
   "execution_count": 10,
   "metadata": {},
   "outputs": [],
   "source": [
    "def process_payment(total_price):\n",
    "    while True:\n",
    "        try:\n",
    "            payment = float(input(f\"\\nThe total is {total_price:.2f}. Enter the payment amount: \"))\n",
    "        except ValueError:\n",
    "            print(\"Invalid input. Please enter a valid amount.\")\n",
    "            continue\n",
    "\n",
    "        if payment < total_price:\n",
    "            print(\"The payment is insufficient. Please enter an amount greater or equal to the total.\")\n",
    "        else:\n",
    "            change = payment - total_price\n",
    "            print(f\"Payment successfully processed. Thank you for your purchase!\")\n",
    "            print(f\"Payment received: {payment:.2f}. The change is: {change:.2f}\")\n",
    "            break"
   ]
  },
  {
   "cell_type": "code",
   "execution_count": 11,
   "metadata": {},
   "outputs": [],
   "source": [
    "# Esta función nos sirve para agregar un cliente a nuestro diccionario de clientes:\n",
    "def add_customer(name_customer, email = 'Not defined'):\n",
    "    new_customer = {'email': email, 'purchase_history': [], 'total_purchase' : 0.0}\n",
    "    customers[name_customer] = new_customer\n"
   ]
  },
  {
   "cell_type": "code",
   "execution_count": 12,
   "metadata": {},
   "outputs": [],
   "source": [
    "# Con la siguiente función podemos ver la lista de clientes registrados:\n",
    "def view_customers():\n",
    "    # Comprobamos si la lista clientes tiene algún cliente añadido.\n",
    "    if len(customers) == 0: \n",
    "        print('\\nThe list of customers is empty.') #La lista está vacia.\n",
    "    else: # Si no, recorremos los clientes.\n",
    "        print(f\"\\nCustomers :\")\n",
    "        print(f\"-------------\\n\")\n",
    "        for name in customers:\n",
    "            customer = customers[name]\n",
    "            email = customer['email']\n",
    "            print(f\"Name: {name}, Email: {email}\") # Y lo mostramos según nombre y email.\n",
    "            print(customer['purchase_history'])"
   ]
  },
  {
   "cell_type": "markdown",
   "metadata": {},
   "source": [
    "3. Additional functions:"
   ]
  },
  {
   "cell_type": "code",
   "execution_count": 13,
   "metadata": {},
   "outputs": [],
   "source": [
    "# Con la siguiente función, podemos registrar una compra:\n",
    "def register_purchase(name_customer, customer_purchases):\n",
    "     # Verificamos si el cliente está en el diccionario.\n",
    "    if name_customer not in customers:\n",
    "        print(f'The action cannot be performed.The customer {name_customer} is not in the database.')\n",
    "        return\n",
    "    \n",
    "    # Calculamos el total de la compra\n",
    "    total_value_c = 0.0\n",
    "    for product in customer_purchases:\n",
    "        total_value_c = total_value_c + product['price'] * product['quantity']\n",
    "\n",
    "    # Registramos la compra.\n",
    "    purchase = {\n",
    "        'products': customer_purchases,\n",
    "        'total_purchase': total_value_c\n",
    "    }\n",
    "\n",
    "    # Actualizamos el historial de clientes.\n",
    "    customers[name_customer]['purchase_history'].append(purchase)\n",
    "    customers[name_customer]['total_purchase'] += total_value_c\n",
    "    print(f\"Purchase registered successfully for {name_customer}. Total: {customer_purchases}.\")"
   ]
  },
  {
   "cell_type": "code",
   "execution_count": 14,
   "metadata": {},
   "outputs": [],
   "source": [
    "# Esta función permite ver el historial de compras de un cliente:\n",
    "def view_customer_purchases(name_customer):\n",
    "     # Verificamos si el cliente está en el diccionario.\n",
    "    if name_customer not in customers:\n",
    "        print(f'The action cannot be performed.The customer {name_customer} is not in the database.')\n",
    "        return\n",
    "    \n",
    "     # Obtener el historial de compras del cliente.\n",
    "    purchase_history = customers[name_customer]['purchase_history']\n",
    "\n",
    "    # Verificar si el cliente tiene compras realizadas.\n",
    "    if not purchase_history:\n",
    "        print(f'The customer {name_customer} has no registered purchases.')\n",
    "        return\n",
    "\n",
    "    # Mostrar detalles: Si tiene compras, recorre cada compra y muestra los productos con su precio, cantidad y el total de la compra.\n",
    "    print(f\"The purchase history of {name_customer}:\")\n",
    "    for i, buy in enumerate(purchase_history, 1): # Obtenemos la compra y su número de compra del historial.\n",
    "        print(f\"\\nbuys {i}:\")\n",
    "        for product in buy['products']:\n",
    "            print(f\"- Product: {product['name']}, Price: {product['price']}, Quantity: {product['quantity']}\")\n",
    "        print(f\"The total puchase is : {buy['total_purchase']}\")\n",
    "    return purchase_history"
   ]
  },
  {
   "cell_type": "code",
   "execution_count": 15,
   "metadata": {},
   "outputs": [],
   "source": [
    "# Esta función calcula el total de las ventas:\n",
    "def calculate_total_sales():\n",
    "    total_sales = 0.0\n",
    "\n",
    "    # Obtenemos el historial de compras.\n",
    "    for name in customers:\n",
    "        total_sales += customers[name]['total_purchase']\n",
    "    \n",
    "    return total_sales"
   ]
  },
  {
   "cell_type": "code",
   "execution_count": 16,
   "metadata": {},
   "outputs": [
    {
     "name": "stdout",
     "output_type": "stream",
     "text": [
      " Mostramos el inventario vacio :\n",
      "********************************************************************************\n",
      "\n",
      "The inventory is empty.\n",
      "\n",
      "The list of customers is empty.\n"
     ]
    }
   ],
   "source": [
    "print(\" Mostramos el inventario y la lista de clientes vacia :\")\n",
    "print(f\"********************************************************************************\")\n",
    "view_inventory()\n",
    "view_customers()"
   ]
  },
  {
   "cell_type": "code",
   "execution_count": 18,
   "metadata": {},
   "outputs": [],
   "source": [
    "add_product('rosal', 8.50, 5)\n",
    "add_product('margarita', 6.50, 10)\n",
    "add_product('lavanda', 3.25, 15)\n",
    "add_product('menta', 2.00, 20)"
   ]
  },
  {
   "cell_type": "code",
   "execution_count": 19,
   "metadata": {},
   "outputs": [],
   "source": [
    "add_customer('Lucia', 'lucia@gmail.com')\n",
    "add_customer('Chris' )\n",
    "add_customer('Daniel', 'daniel@gmail.com')"
   ]
  },
  {
   "cell_type": "code",
   "execution_count": 20,
   "metadata": {},
   "outputs": [
    {
     "name": "stdout",
     "output_type": "stream",
     "text": [
      "\n",
      " Mostramos el inventario y los clientes despues de añadir productos y clientes :\n",
      "********************************************************************************\n",
      "\n",
      "Inventory :\n",
      "-------------\n",
      "\n",
      " - Product: rosal, Price: 8.5, Quantity: 5\n",
      " - Product: margarita, Price: 6.5, Quantity: 10\n",
      " - Product: lavanda, Price: 3.25, Quantity: 15\n",
      " - Product: menta, Price: 2.0, Quantity: 20\n",
      "\n",
      "Customers :\n",
      "-------------\n",
      "\n",
      "Name: Lucia, Email: lucia@gmail.com\n",
      "[]\n",
      "Name: Chris, Email: Not defined\n",
      "[]\n",
      "Name: Daniel, Email: daniel@gmail.com\n",
      "[]\n"
     ]
    }
   ],
   "source": [
    "print(\"\\n Mostramos el inventario y los clientes despues de añadir productos y clientes :\")\n",
    "print(f\"********************************************************************************\")\n",
    "view_inventory()\n",
    "view_customers()"
   ]
  },
  {
   "cell_type": "code",
   "execution_count": 21,
   "metadata": {},
   "outputs": [
    {
     "name": "stdout",
     "output_type": "stream",
     "text": [
      "\n",
      " Estamos buscando un producto:\n",
      "********************************************************************************\n",
      "\n",
      "Product lavanda is in inventory.\n",
      "Product: lavanda, Price: 3.25, Quantity: 15\n"
     ]
    },
    {
     "data": {
      "text/plain": [
       "{'name': 'lavanda', 'price': 3.25, 'quantity': 15}"
      ]
     },
     "execution_count": 21,
     "metadata": {},
     "output_type": "execute_result"
    }
   ],
   "source": [
    "print('\\n Estamos buscando un producto:')\n",
    "print(f\"********************************************************************************\")\n",
    "name_product = input(\"Enter the name of the product: \") \n",
    "search_product(name_product)"
   ]
  },
  {
   "cell_type": "code",
   "execution_count": 22,
   "metadata": {},
   "outputs": [
    {
     "name": "stdout",
     "output_type": "stream",
     "text": [
      "\n",
      " Actualizamos el stock del inventario:\n",
      "********************************************************************************\n",
      "\n",
      "Inventory :\n",
      "-------------\n",
      "\n",
      " - Product: rosal, Price: 8.5, Quantity: 5\n",
      " - Product: margarita, Price: 6.5, Quantity: 10\n",
      " - Product: lavanda, Price: 3.25, Quantity: 15\n",
      " - Product: menta, Price: 2.0, Quantity: 20\n",
      "\n",
      "Product lavanda is in inventory.\n",
      "Product: lavanda, Price: 3.25, Quantity: 15\n"
     ]
    }
   ],
   "source": [
    "\n",
    "print('\\n Actualizamos el stock del inventario:')\n",
    "print(f\"********************************************************************************\")\n",
    "view_inventory()\n",
    "update_stock('lavanda', 50)"
   ]
  },
  {
   "cell_type": "code",
   "execution_count": 23,
   "metadata": {},
   "outputs": [
    {
     "name": "stdout",
     "output_type": "stream",
     "text": [
      "\n",
      "Inventory :\n",
      "-------------\n",
      "\n",
      " - Product: rosal, Price: 8.5, Quantity: 5\n",
      " - Product: margarita, Price: 6.5, Quantity: 10\n",
      " - Product: lavanda, Price: 3.25, Quantity: 65\n",
      " - Product: menta, Price: 2.0, Quantity: 20\n",
      " - Product: Geranio, Price: 10.0, Quantity: 50\n"
     ]
    }
   ],
   "source": [
    "add_product('Geranio', 10.00, 50)\n",
    "view_inventory()"
   ]
  },
  {
   "cell_type": "code",
   "execution_count": 24,
   "metadata": {},
   "outputs": [],
   "source": [
    "add_customer('Almu', 'almu@gmail.com')"
   ]
  },
  {
   "cell_type": "code",
   "execution_count": 25,
   "metadata": {},
   "outputs": [
    {
     "name": "stdout",
     "output_type": "stream",
     "text": [
      "The customer Almu has no registered purchases.\n"
     ]
    }
   ],
   "source": [
    "view_customer_purchases('Almu')"
   ]
  }
 ],
 "metadata": {
  "kernelspec": {
   "display_name": "Python 3",
   "language": "python",
   "name": "python3"
  },
  "language_info": {
   "codemirror_mode": {
    "name": "ipython",
    "version": 3
   },
   "file_extension": ".py",
   "mimetype": "text/x-python",
   "name": "python",
   "nbconvert_exporter": "python",
   "pygments_lexer": "ipython3",
   "version": "3.9.6"
  }
 },
 "nbformat": 4,
 "nbformat_minor": 2
}
