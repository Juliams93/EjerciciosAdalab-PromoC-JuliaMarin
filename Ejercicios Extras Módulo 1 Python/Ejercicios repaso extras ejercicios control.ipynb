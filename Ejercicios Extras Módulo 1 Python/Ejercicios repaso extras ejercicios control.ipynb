{
 "cells": [
  {
   "cell_type": "markdown",
   "metadata": {},
   "source": [
    "## SENTENCIAS DE CONTROL "
   ]
  },
  {
   "cell_type": "markdown",
   "metadata": {},
   "source": [
    "1. Clasificación de triángulos: Pide al usuario que ingrese las longitudes de tres lados de un triángulo. Determina si el triángulo es equilátero (todos los lados iguales), isósceles (dos lados iguales), o escaleno (ningún lado igual)."
   ]
  },
  {
   "cell_type": "code",
   "execution_count": 1,
   "metadata": {},
   "outputs": [],
   "source": [
    "# Solicita al usuario la longitud del primer lado del triángulo y almacena la entrada en la variable lado1.\n",
    "lado1 = input(\"Dime la longitud del primer lado del triángulo\")\n",
    "\n",
    "# Comprueba si la entrada es un número entero (dígitos) utilizando el método .isdigit().\n",
    "if lado1.isdigit():\n",
    "    # Si es un número entero, convierte la cadena en un entero, y asigna el valor a la variable lado1.\n",
    "    lado1 = int(lado1)\n",
    "else:\n",
    "    # Si la entrada no es un número entero, entra en un bucle while hasta que se proporcione una entrada válida.\n",
    "    while lado1.isdigit() == False:\n",
    "        # Solicita nuevamente al usuaurio un número entero.\n",
    "        lado1 = input('Necesito que me pases un número ENTERO')\n",
    "\n",
    "    # Después de obtener una entrada válida, convierte la cadena en un entero y asigna el valor a lado1.\n",
    "    lado1 = int(lado1)\n",
    "\n",
    "# Hacemos lo mismo para el segundo y tercer lado.\n",
    "\n",
    "lado2 = input(\"Dime la longitud del segundo lado del triángulo\")\n",
    "\n",
    "if lado2.isdigit():\n",
    "    lado2 = int(lado2)\n",
    "else:\n",
    "    while lado2.isdigit() == False:\n",
    "        lado2 = input('Necesito que me pases un número ENTERO')\n",
    "\n",
    "    lado2 = int(lado2)\n",
    "\n",
    "\n",
    "lado3 = input(\"Dime la longitud del tercer lado del triángulo\")\n",
    "\n",
    "if lado3.isdigit():\n",
    "    lado3 = int(lado3)\n",
    "else:\n",
    "    while lado3.isdigit() == False:\n",
    "        lado3 = input('Necesito que me pases un número ENTERO')\n",
    "\n",
    "    lado3 = int(lado3)\n",
    "\n",
    "# Solución:\n",
    "if lado1 == lado2 == lado3:\n",
    "    print('Es un triangulo equilatero.')\n",
    "\n",
    "elif lado1 == lado2 or lado1 == lado3 or lado2 == lado3:\n",
    "    print('Es un triangulo isosceles.')\n",
    "\n",
    "else:\n",
    "    print('Es un triangulo escaleno.')"
   ]
  },
  {
   "cell_type": "code",
   "execution_count": 4,
   "metadata": {},
   "outputs": [
    {
     "name": "stdout",
     "output_type": "stream",
     "text": [
      "El triangulo es isosceles\n"
     ]
    }
   ],
   "source": [
    "def numero_entero(idx):\n",
    "    lado = input(f\"Dime la longitud del lado {idx} del triángulo\")\n",
    "    if lado.isdigit():\n",
    "          lado = int(lado)\n",
    "    else:\n",
    "        while lado.isdigit() == False:\n",
    "            lado = input('Necesito que me pases un número ENTERO')\n",
    "    return int(lado)\n",
    "\n",
    "def solución(l1,l2,l3):\n",
    "    if l1 == l2 == l3:\n",
    "        return \"equilatero\"\n",
    "    elif l1 == l2 or l1 == l3 or l2 == l3:\n",
    "        return \"isosceles\"\n",
    "    else:\n",
    "        return \"escaleno\"\n",
    "\n",
    "lado1 = numero_entero(1)\n",
    "lado2 = numero_entero(2)\n",
    "lado3 = numero_entero(3)\n",
    "triangulo = solución(lado1, lado2, lado3)\n",
    "print(f\"El triangulo es {triangulo}\")\n"
   ]
  }
 ],
 "metadata": {
  "kernelspec": {
   "display_name": "Python 3",
   "language": "python",
   "name": "python3"
  },
  "language_info": {
   "codemirror_mode": {
    "name": "ipython",
    "version": 3
   },
   "file_extension": ".py",
   "mimetype": "text/x-python",
   "name": "python",
   "nbconvert_exporter": "python",
   "pygments_lexer": "ipython3",
   "version": "3.9.6"
  }
 },
 "nbformat": 4,
 "nbformat_minor": 2
}
