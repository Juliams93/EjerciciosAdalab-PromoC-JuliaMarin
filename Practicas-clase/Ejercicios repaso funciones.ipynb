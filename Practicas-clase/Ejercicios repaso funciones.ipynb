{
 "cells": [
  {
   "cell_type": "code",
   "execution_count": 1,
   "metadata": {},
   "outputs": [],
   "source": [
    "## Repaso de funciones"
   ]
  },
  {
   "cell_type": "markdown",
   "metadata": {},
   "source": [
    "# Definición\n",
    " - def\n",
    " - nombre_funcion\n",
    " - parámetros(opcionales)\n",
    " - return (opcional)\n",
    " - cuerpo de la función(acciones)\n",
    "\n",
    "# Llamada\n",
    "- nombre_función\n",
    "- argumentos(valores que la función espera)(opcional)\n",
    "- el resultado de la llamada se puede guardar en una variable(opcional) "
   ]
  },
  {
   "cell_type": "markdown",
   "metadata": {},
   "source": [
    "- Cuerpo de la función: de una lista dada, seleccionar los números y almacenarlos en otra lista.\n",
    "- parámetros y argumentos: La lista dada.\n",
    "- la función devuelve una lista de números pares."
   ]
  },
  {
   "cell_type": "markdown",
   "metadata": {},
   "source": [
    "input \n",
    "acciones\n",
    "output"
   ]
  },
  {
   "cell_type": "code",
   "execution_count": 2,
   "metadata": {},
   "outputs": [],
   "source": [
    "# Definición:\n",
    "\n",
    "def seleccion_pares(lista_numeros):\n",
    "    # seleccionar números pares.\n",
    "    # crear lista con números pares.\n",
    "    return lista_pares"
   ]
  },
  {
   "cell_type": "code",
   "execution_count": 8,
   "metadata": {},
   "outputs": [],
   "source": []
  },
  {
   "cell_type": "code",
   "execution_count": 10,
   "metadata": {},
   "outputs": [],
   "source": [
    "\n",
    "def seleccion_pares(lista_numeros):\n",
    "    lista_pares = []\n",
    "    for i in lista_numeros:\n",
    "        if i%2 == 0:\n",
    "            lista_pares.append(i)\n",
    "        else:\n",
    "            continue \n",
    "\n",
    "    return lista_pares"
   ]
  },
  {
   "cell_type": "code",
   "execution_count": null,
   "metadata": {},
   "outputs": [],
   "source": [
    "seleccion_pares([4, 8, 5, 7 , 10])\n",
    "resultado = seleccion_pares([4, 8, 5, 7 , 10])"
   ]
  },
  {
   "cell_type": "code",
   "execution_count": 11,
   "metadata": {},
   "outputs": [],
   "source": [
    "# Ejercicio: crear un inventario de productos con id, nombre, precio, stock: Cada llamada a la función. Introduce un producto y sus caracteristicas.\n"
   ]
  },
  {
   "cell_type": "code",
   "execution_count": 1,
   "metadata": {},
   "outputs": [],
   "source": [
    "inventario = []\n",
    "\n",
    "def agregar_o_modificar_producto(id, producto, precio, stock):\n",
    "    # Si el producto ya existe, se actualizan los datos\n",
    "    if id in inventario:\n",
    "        inventario[id]['producto'] = producto\n",
    "        inventario[id]['precio'] = precio\n",
    "        inventario[id]['stock'] = stock\n",
    "        print(f\"Producto con ID {id} actualizado.\")\n",
    "    else:\n",
    "        # Si no existe, se añade un nuevo producto\n",
    "        inventario[id] = {'producto': producto, 'precio': precio, 'stock': stock}\n",
    "        print(f\"Producto con ID {id} añadido.\")\n",
    "    \n",
    "    return inventario\n",
    "\n",
    "def cambiar_stock(id, nuevo_stock):\n",
    "    if id in inventario:\n",
    "        inventario[id]['stock'] = nuevo_stock\n",
    "        print(f\"Stock del producto con ID {id} actualizado a {nuevo_stock}.\")\n",
    "    else:\n",
    "        print(f\"El producto con ID {id} no existe en el inventario.\")\n",
    "    \n",
    "    return inventario\n",
    "\n",
    "def borrar_producto(id):\n",
    "    if id in inventario:\n",
    "        del inventario[id]  # Eliminar el producto del inventario\n",
    "        print(f\"Producto con ID {id} eliminado.\")\n",
    "    else:\n",
    "        print(f\"El producto con ID {id} no existe en el inventario.\")\n",
    "    \n",
    "    return inventario"
   ]
  },
  {
   "cell_type": "code",
   "execution_count": 21,
   "metadata": {},
   "outputs": [
    {
     "data": {
      "text/plain": [
       "{'id': 1, 'producto': 'mesa', 'precio': 50, 'stock': 1000}"
      ]
     },
     "execution_count": 21,
     "metadata": {},
     "output_type": "execute_result"
    }
   ],
   "source": [
    "agregar_o_modificar_producto(1, 'mesa', 50, 1000 )"
   ]
  },
  {
   "cell_type": "code",
   "execution_count": 15,
   "metadata": {},
   "outputs": [
    {
     "data": {
      "text/plain": [
       "{'id': 2, 'producto': 'silla', 'precio': 15, 'stock': 200}"
      ]
     },
     "execution_count": 15,
     "metadata": {},
     "output_type": "execute_result"
    }
   ],
   "source": [
    "agregar_o_modificar_producto(2, 'silla', 15, 200 )"
   ]
  }
 ],
 "metadata": {
  "kernelspec": {
   "display_name": "Python 3",
   "language": "python",
   "name": "python3"
  },
  "language_info": {
   "codemirror_mode": {
    "name": "ipython",
    "version": 3
   },
   "file_extension": ".py",
   "mimetype": "text/x-python",
   "name": "python",
   "nbconvert_exporter": "python",
   "pygments_lexer": "ipython3",
   "version": "3.9.6"
  }
 },
 "nbformat": 4,
 "nbformat_minor": 2
}
