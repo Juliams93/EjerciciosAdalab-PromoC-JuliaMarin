{
 "cells": [
  {
   "cell_type": "markdown",
   "metadata": {},
   "source": [
    "## Repaso Estructuras de Control:\n",
    "    - if_elif_else\n",
    "    - iteraciones: for/while\n",
    "    - break/continue\n",
    "    - try_except"
   ]
  },
  {
   "cell_type": "code",
   "execution_count": null,
   "metadata": {},
   "outputs": [],
   "source": [
    "# 1. Generar un diccionario con las letras y el número de veces que aparece cada una de ellas en un texto dado."
   ]
  },
  {
   "cell_type": "code",
   "execution_count": 1,
   "metadata": {},
   "outputs": [
    {
     "name": "stdout",
     "output_type": "stream",
     "text": [
      "3\n"
     ]
    }
   ],
   "source": [
    "texto = 'banana'\n",
    "print(texto.count('a'))"
   ]
  },
  {
   "cell_type": "code",
   "execution_count": 5,
   "metadata": {},
   "outputs": [],
   "source": [
    "texto = 'Me gusta mucho Python'"
   ]
  },
  {
   "cell_type": "markdown",
   "metadata": {},
   "source": [
    "- Crear un diccionario vacio.\n",
    "- Separar las letras en caracteres/recorrer el texto letra por letra.\n",
    "- Rellenar el diccionario: clave(letra) -> número de veces que aparece (conteo)"
   ]
  },
  {
   "cell_type": "code",
   "execution_count": 6,
   "metadata": {},
   "outputs": [
    {
     "data": {
      "text/plain": [
       "{'M': 1,\n",
       " 'e': 1,\n",
       " 'g': 1,\n",
       " 'u': 2,\n",
       " 's': 1,\n",
       " 't': 2,\n",
       " 'a': 1,\n",
       " 'm': 1,\n",
       " 'c': 1,\n",
       " 'h': 2,\n",
       " 'o': 2,\n",
       " 'P': 1,\n",
       " 'y': 1,\n",
       " 'n': 1}"
      ]
     },
     "execution_count": 6,
     "metadata": {},
     "output_type": "execute_result"
    }
   ],
   "source": [
    "diccionario_letras = {}\n",
    "\n",
    "for letra in texto:\n",
    "    if letra != ' ':\n",
    "        diccionario_letras[letra] = texto.count(letra)\n",
    "diccionario_letras"
   ]
  },
  {
   "cell_type": "code",
   "execution_count": 8,
   "metadata": {},
   "outputs": [],
   "source": [
    "# 2. Dada una lista de números, crea una variable con la suma solo de los números pares."
   ]
  },
  {
   "cell_type": "markdown",
   "metadata": {},
   "source": [
    "- Definir una lista.\n",
    "- Crear una variable inicializada a 0.\n",
    "- Recorrer la lista.\n",
    "    - Evaluar si es par o no:\n",
    "        - Si es par, se suma.\n",
    "        - Si no es par no."
   ]
  },
  {
   "cell_type": "code",
   "execution_count": 10,
   "metadata": {},
   "outputs": [
    {
     "data": {
      "text/plain": [
       "12"
      ]
     },
     "execution_count": 10,
     "metadata": {},
     "output_type": "execute_result"
    }
   ],
   "source": [
    "numeros = [1, 2, 3, 4, 5, 6]\n",
    "suma_pares = 0 \n",
    "for num in numeros:\n",
    "    if num % 2 == 0:\n",
    "        suma_pares += num\n",
    "\n",
    "suma_pares"
   ]
  },
  {
   "cell_type": "code",
   "execution_count": 11,
   "metadata": {},
   "outputs": [],
   "source": [
    "# Ejercicio: crea un programa que registre la asistencia de los estudiantes a una clase de yoga.\n",
    "\n",
    "# utilizar un while para registrar diferentes estudiantes.\n",
    "# pedir al usuario que meta su nombre o 'salir' si quiere acabar.\n",
    "# guardar los nombres en una lista."
   ]
  },
  {
   "cell_type": "code",
   "execution_count": 1,
   "metadata": {},
   "outputs": [
    {
     "data": {
      "text/plain": [
       "[]"
      ]
     },
     "execution_count": 1,
     "metadata": {},
     "output_type": "execute_result"
    }
   ],
   "source": [
    "asistentes = []\n",
    "\n",
    "while True:\n",
    "\n",
    "    nombre = input('Introduce el nombre del estudiante: (o salir para terminar)')\n",
    "\n",
    "    if nombre.lower() == 'salir':\n",
    "        break\n",
    "\n",
    "    asistentes.append(nombre)\n",
    "\n",
    "asistentes \n"
   ]
  },
  {
   "cell_type": "code",
   "execution_count": null,
   "metadata": {},
   "outputs": [],
   "source": [
    "# Ejercicio: crea un programa que calcule el precio total de las clase de un estudiante.\n",
    "\n",
    "# Usar try - except para gestionar la entrada de datos.\n",
    "# Pedir al usuario que meta el número de clases y precio por clase.\n",
    "# Mostrar el precio total.\n",
    "# Si el usuario introduce un valor no númerico, mostrar error.\n"
   ]
  },
  {
   "cell_type": "code",
   "execution_count": null,
   "metadata": {},
   "outputs": [],
   "source": [
    "try:\n",
    "    numero_clases = int(input('Introduce el número de clases:'))\n",
    "    precio_clase = float(input('Introduce el precio por clase: '))\n",
    "\n",
    "    precio_total = numero_clases*precio_clase\n",
    "    print('El precio total es:', precio_total)\n",
    "\n",
    "except ValueError:\n",
    "    print('Por favor, introduce un valor válido.')"
   ]
  },
  {
   "cell_type": "code",
   "execution_count": null,
   "metadata": {},
   "outputs": [],
   "source": [
    "# Ejercicio : Crea un programa que muestre las clases disponibles y permite al usuario elegir una.\n",
    "\n",
    "# Usar un bucle while.\n",
    "# Si el usuario introduce una clase que no está en la lista, muestra un mensaje de error.\n",
    "# El bucle debe continuar hasta que el usuario elija una clase valida."
   ]
  },
  {
   "cell_type": "markdown",
   "metadata": {},
   "source": [
    "- mostrar clases.\n",
    "- preguntar al usuario, que clase quiere.\n",
    "- Si se introduce algo que no existe, mensaje de error.\n",
    "- Si es algo que existe, mensaje con la clase que ha seleccionado.\n",
    "- Salir de la clase cuando elija una clase correcta.\n"
   ]
  },
  {
   "cell_type": "code",
   "execution_count": 1,
   "metadata": {},
   "outputs": [
    {
     "name": "stdout",
     "output_type": "stream",
     "text": [
      "Las clases disponibles son: ['Vinyasa', 'Hatha', 'Yin', 'Ashtanga']\n",
      "Has seleccionado la clase de:  yin\n"
     ]
    }
   ],
   "source": [
    "clases = ['Vinyasa', 'Hatha', 'Yin', 'Ashtanga']\n",
    "\n",
    "while True:\n",
    "    print('Las clases disponibles son:', clases)\n",
    "\n",
    "    seleccion = input('Selecciona la clase que te apetece (o introduce salir): '). lower()\n",
    "    if seleccion in [clase.lower() for clase in clases]:\n",
    "        print('Has seleccionado la clase de: ', seleccion)\n",
    "        break\n",
    "    elif seleccion.lower() == 'salir':\n",
    "        break\n",
    "    else:\n",
    "        print('Por favor introduce una clase válida.')\n"
   ]
  },
  {
   "cell_type": "code",
   "execution_count": null,
   "metadata": {},
   "outputs": [],
   "source": []
  }
 ],
 "metadata": {
  "kernelspec": {
   "display_name": "Python 3",
   "language": "python",
   "name": "python3"
  },
  "language_info": {
   "codemirror_mode": {
    "name": "ipython",
    "version": 3
   },
   "file_extension": ".py",
   "mimetype": "text/x-python",
   "name": "python",
   "nbconvert_exporter": "python",
   "pygments_lexer": "ipython3",
   "version": "3.9.6"
  }
 },
 "nbformat": 4,
 "nbformat_minor": 2
}
