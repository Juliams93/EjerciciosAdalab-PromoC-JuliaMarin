{
 "cells": [
  {
   "cell_type": "markdown",
   "metadata": {},
   "source": [
    "## EJERCICIOS SETS"
   ]
  },
  {
   "cell_type": "markdown",
   "metadata": {},
   "source": [
    "\n",
    "1. Crear un conjunto vacío\n",
    "\n",
    "Descripción: Crea un conjunto vacío sin ningún elemento."
   ]
  },
  {
   "cell_type": "code",
   "execution_count": 4,
   "metadata": {},
   "outputs": [
    {
     "name": "stdout",
     "output_type": "stream",
     "text": [
      "{}\n"
     ]
    }
   ],
   "source": [
    "dic1 = {}\n",
    "print(dic1)"
   ]
  },
  {
   "cell_type": "markdown",
   "metadata": {},
   "source": [
    "\n",
    "2. Crear un diccionario con elementos\n",
    "\n",
    "Descripción: Crea un diccionario con pares clave-valor predefinidos. Definir el diccionario con las claves y valores que querais. NOTA El diccionario debe tener al menos 5 pares de clave:valor."
   ]
  },
  {
   "cell_type": "code",
   "execution_count": 13,
   "metadata": {},
   "outputs": [
    {
     "name": "stdout",
     "output_type": "stream",
     "text": [
      "Este es mi diccionario: {'Shiba Inu': 'Perro', 'Gato Siamés': 'Gato', 'Periquito': 'Ave', 'Tigre de Bengala': 'Felino', 'Delfín': 'Mamífero'}\n"
     ]
    }
   ],
   "source": [
    "claves = ['Shiba Inu', 'Gato Siamés', 'Periquito', 'Tigre de Bengala', 'Delfín']\n",
    "valores = ['Perro', 'Gato', 'Ave', 'Felino', 'Mamífero']\n",
    "animales = dict(zip(claves, valores))\n",
    "\n",
    "print('Este es mi diccionario:', animales)"
   ]
  },
  {
   "cell_type": "markdown",
   "metadata": {},
   "source": [
    "\n",
    "3. Acceder al valor de una clave en un diccionario\n",
    "\n",
    "Descripción: Usando el diccionario creado en el paso anterior, obtén el valor correspondiente a una clave específica que indique el usuario (debereis usar la función input() para preguntar al usuario)."
   ]
  },
  {
   "cell_type": "code",
   "execution_count": 7,
   "metadata": {},
   "outputs": [
    {
     "name": "stdout",
     "output_type": "stream",
     "text": [
      "El oso es un Animal no encontrado.\n"
     ]
    }
   ],
   "source": [
    "animales = {\n",
    "    \"Shiba Inu\": \"Perro\",\n",
    "    \"Gato Siamés\": \"Gato\",\n",
    "    \"Periquito\": \"Ave\",\n",
    "    \"Tigre de Bengala\": \"Felino\",\n",
    "    \"Delfín\": \"Mamífero\"\n",
    "}\n",
    "\n",
    "# Pedir al usuario que ingrese el nombre del animal\n",
    "animal_buscado = input(\"Introduce el nombre del animal: \")\n",
    "\n",
    "# Obtener el tipo del animal\n",
    "tipo_animal = animales.get(animal_buscado, \"Animal no encontrado\")\n",
    "\n",
    "# Imprimir el resultado\n",
    "print(f\"El {animal_buscado} es un {tipo_animal}.\")\n"
   ]
  },
  {
   "cell_type": "markdown",
   "metadata": {},
   "source": [
    "\n",
    "4. Agregar un nuevo par clave-valor a un diccionario\n",
    "\n",
    "Descripción: Usando el diccionario creado en el ejercicio 2, agrega un nuevo par clave-valor."
   ]
  },
  {
   "cell_type": "code",
   "execution_count": 10,
   "metadata": {},
   "outputs": [
    {
     "name": "stdout",
     "output_type": "stream",
     "text": [
      "{'Shiba Inu': 'Perro', 'Gato Siamés': 'Gato', 'Periquito': 'Ave', 'Tigre de Bengala': 'Felino', 'Delfín': 'Mamífero', 'Serpiente': 'Reptil'}\n"
     ]
    }
   ],
   "source": [
    "nuevo_animal = {\"Serpiente\" : \"Reptil\"}\n",
    "animales.update(nuevo_animal)\n",
    "print(animales)"
   ]
  },
  {
   "cell_type": "markdown",
   "metadata": {},
   "source": [
    "\n",
    "5. Actualizar el valor de una clave en un diccionario\n",
    "\n",
    "Descripción: Usando el diccionario creado en el ejercicio 2, actualiza el valor correspondiente a una clave existente. "
   ]
  },
  {
   "cell_type": "code",
   "execution_count": 17,
   "metadata": {},
   "outputs": [
    {
     "name": "stdout",
     "output_type": "stream",
     "text": [
      "{'Shiba Inu': 'Perro', 'Gato Siamés': 'Gato', 'Periquito': 'Ave de colores', 'Tigre de Bengala': 'Felino', 'Delfín': 'Mamífero'}\n"
     ]
    }
   ],
   "source": [
    "animales['Periquito'] = 'Ave de colores'\n",
    "print(animales)"
   ]
  },
  {
   "cell_type": "markdown",
   "metadata": {},
   "source": [
    "\n",
    "6. Eliminar un par clave-valor de un diccionario\n",
    "\n",
    "Descripción: Usando el diccionario creado en el ejercicio 2, elimina un par clave-valor específico que indique el usuario (debereis usar la función input() para preguntar al usuario)."
   ]
  },
  {
   "cell_type": "code",
   "execution_count": null,
   "metadata": {},
   "outputs": [],
   "source": [
    "# Pedir al usuario que ingrese el nombre del animal:\n",
    "animal_eliminado = input('¿Qué animal quieres eliminar del diccionario?')\n",
    "\n",
    "#Eliminamos la clave-valor elegido por el usuario:\n",
    "print('Eliminamos el valor del diccionario:', animales.pop(animal_eliminado))\n",
    "\n",
    "#Comprobamos si se ha eliminado del diccionario.\n",
    "print(animales)"
   ]
  },
  {
   "cell_type": "markdown",
   "metadata": {},
   "source": [
    "\n",
    "7. Verificar si una clave está presente en un diccionario\n",
    "\n",
    "Descripción: Usando el diccionario creado en el ejercicio 2, verifica si una clave específica está presente en él. La clave a buscar debe ser pasada por el usuario, debereis usar un input()."
   ]
  },
  {
   "cell_type": "code",
   "execution_count": 22,
   "metadata": {},
   "outputs": [
    {
     "name": "stdout",
     "output_type": "stream",
     "text": [
      "La clave está presente en el diccionario: True\n"
     ]
    }
   ],
   "source": [
    "# Pedimos al usuario que busque la clave:\n",
    "buscar_clave = input('¿Está la clave en el diccionario?')\n",
    "\n",
    "#Buscamos la clave.\n",
    "print('La clave está presente en el diccionario:', buscar_clave in animales)\n"
   ]
  },
  {
   "cell_type": "markdown",
   "metadata": {},
   "source": [
    "\n",
    "8. Obtener una lista de todas las claves de un diccionario\n",
    "\n",
    "Descripción: Usando el diccionario creado en el ejercicio 2, obtén una lista con todas las claves que contiene."
   ]
  },
  {
   "cell_type": "code",
   "execution_count": 24,
   "metadata": {},
   "outputs": [
    {
     "name": "stdout",
     "output_type": "stream",
     "text": [
      "['Shiba Inu', 'Gato Siamés', 'Tigre de Bengala', 'Delfín']\n"
     ]
    }
   ],
   "source": [
    "animales_list_claves = list(animales.keys())\n",
    "print('Esta es la lista de los tipos de animales:', animales_list_claves)"
   ]
  },
  {
   "cell_type": "markdown",
   "metadata": {},
   "source": [
    "\n",
    "9. Obtener una lista de todos los valores de un diccionario\n",
    "\n",
    "Descripción: Usando el diccionario creado en el ejercicio 2, obtén una lista con todos los valores que contiene."
   ]
  },
  {
   "cell_type": "code",
   "execution_count": 25,
   "metadata": {},
   "outputs": [
    {
     "name": "stdout",
     "output_type": "stream",
     "text": [
      "Esta es la lista de las clases de animales: ['Perro', 'Gato', 'Felino', 'Mamífero']\n"
     ]
    }
   ],
   "source": [
    "animales_list_valor = list(animales.values())\n",
    "print('Esta es la lista de las clases de animales:', animales_list_valor)"
   ]
  },
  {
   "cell_type": "markdown",
   "metadata": {},
   "source": [
    "\n",
    "10. Utilizar el método setdefault() para establecer un valor predeterminado si la clave no existe\n",
    "\n",
    "Descripción: Usando el diccionario creado en el ejercicio 2, obten el valor correspondiente a una clave. Si la clave no existe, establece un valor predeterminado y devuelve dicho valor."
   ]
  }
 ],
 "metadata": {
  "kernelspec": {
   "display_name": "Python 3",
   "language": "python",
   "name": "python3"
  },
  "language_info": {
   "codemirror_mode": {
    "name": "ipython",
    "version": 3
   },
   "file_extension": ".py",
   "mimetype": "text/x-python",
   "name": "python",
   "nbconvert_exporter": "python",
   "pygments_lexer": "ipython3",
   "version": "3.9.6"
  }
 },
 "nbformat": 4,
 "nbformat_minor": 2
}
