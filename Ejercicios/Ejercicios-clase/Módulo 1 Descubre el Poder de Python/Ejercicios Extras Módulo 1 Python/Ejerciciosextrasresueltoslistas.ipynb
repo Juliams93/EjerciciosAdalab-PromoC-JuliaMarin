{
 "cells": [
  {
   "cell_type": "markdown",
   "metadata": {},
   "source": [
    "### EJERCICIOS DE LISTAS"
   ]
  },
  {
   "cell_type": "markdown",
   "metadata": {},
   "source": [
    "1. Duplicar elementos de una lista. Dada una lista de números, duplica cada elemento en la lista."
   ]
  },
  {
   "cell_type": "code",
   "execution_count": 1,
   "metadata": {},
   "outputs": [
    {
     "name": "stdout",
     "output_type": "stream",
     "text": [
      "[2, 4, 6, 8, 2, 4, 6, 8]\n"
     ]
    }
   ],
   "source": [
    "list = [2,4,6,8]\n",
    "list_duplicated = list*2\n",
    "print(list_duplicated)"
   ]
  },
  {
   "cell_type": "markdown",
   "metadata": {},
   "source": [
    "\n",
    "2. Combinar dos listas. Dadas dos listas, crea una nueva lista que contenga todos loselementos de ambas listas. "
   ]
  },
  {
   "cell_type": "code",
   "execution_count": 5,
   "metadata": {},
   "outputs": [
    {
     "name": "stdout",
     "output_type": "stream",
     "text": [
      "[1, 2, 3, 4, 5, 6]\n"
     ]
    }
   ],
   "source": [
    "lista1 = [1, 2, 3]\n",
    "lista2 = [4, 5, 6]\n",
    "lista_combinada = lista1 + lista2\n",
    "print(lista_combinada)"
   ]
  },
  {
   "cell_type": "markdown",
   "metadata": {},
   "source": [
    "3. Calcular la suma de una lista de números. Dada una lista de números, calcula la suma de todos los elementos"
   ]
  },
  {
   "cell_type": "code",
   "execution_count": 8,
   "metadata": {},
   "outputs": [
    {
     "name": "stdout",
     "output_type": "stream",
     "text": [
      "42\n"
     ]
    }
   ],
   "source": [
    "lista = [2, 4, 6, 8, 10, 12]\n",
    "lista_sum = sum(lista)\n",
    "print(lista_sum)"
   ]
  },
  {
   "cell_type": "markdown",
   "metadata": {},
   "source": [
    "4. Encontrar el valor máximo en una lista. Dada una lista de números, encuentra el valor máximo."
   ]
  },
  {
   "cell_type": "code",
   "execution_count": 9,
   "metadata": {},
   "outputs": [
    {
     "name": "stdout",
     "output_type": "stream",
     "text": [
      "12\n"
     ]
    }
   ],
   "source": [
    "lista = [2, 4, 6, 8, 10, 12]\n",
    "lista_maxvalor = max(lista)\n",
    "print(lista_maxvalor)"
   ]
  },
  {
   "cell_type": "markdown",
   "metadata": {},
   "source": [
    "5. Calcular la longitud de una lista. Dada una lista, calcula la cantidad de elementos que contiene."
   ]
  },
  {
   "cell_type": "code",
   "execution_count": 10,
   "metadata": {},
   "outputs": [
    {
     "name": "stdout",
     "output_type": "stream",
     "text": [
      "6\n"
     ]
    }
   ],
   "source": [
    "lista5 = [4, 6, 9, 12, 20, 15]\n",
    "lista_long = len(lista5)\n",
    "print(lista_long)"
   ]
  },
  {
   "cell_type": "markdown",
   "metadata": {},
   "source": [
    "6. Encontrar el índice de un elemento en una lista. Dada una lista y un valor objetivo, encuentra el índice del primerelemento que coincida con el valor objetivo."
   ]
  },
  {
   "cell_type": "code",
   "execution_count": 12,
   "metadata": {},
   "outputs": [
    {
     "data": {
      "text/plain": [
       "2"
      ]
     },
     "execution_count": 12,
     "metadata": {},
     "output_type": "execute_result"
    }
   ],
   "source": [
    "lista6 = [2, 5, 7, 3, 10, 13]\n",
    "lista6[2]\n",
    "lista6.index(7)"
   ]
  },
  {
   "cell_type": "markdown",
   "metadata": {},
   "source": [
    "7. Contar ocurrencias de un elemento en una lista. Dada una lista y un valor objetivo, cuenta cuántas veces apareceel valor objetivo en la lista."
   ]
  },
  {
   "cell_type": "code",
   "execution_count": 17,
   "metadata": {},
   "outputs": [
    {
     "name": "stdout",
     "output_type": "stream",
     "text": [
      "2\n"
     ]
    }
   ],
   "source": [
    "lista7 = [2, 5, 6, 9, 5, 3, 10]\n",
    "lista_ocur = lista7.count(5)\n",
    "print(lista_ocur)"
   ]
  },
  {
   "cell_type": "markdown",
   "metadata": {},
   "source": [
    "8. Obtener una sublista de una lista. Dada una lista, crea una nueva lista que contenga los elementosdesde el índice 2 hasta el índice 5 (sin incluirlo)."
   ]
  },
  {
   "cell_type": "code",
   "execution_count": 16,
   "metadata": {},
   "outputs": [
    {
     "name": "stdout",
     "output_type": "stream",
     "text": [
      "[6, 9, 5]\n"
     ]
    }
   ],
   "source": [
    "lista8 = [2, 5, 6, 9, 5, 3, 10, 15]\n",
    "lista_new = lista8[2:5]\n",
    "print(lista_new)"
   ]
  },
  {
   "cell_type": "markdown",
   "metadata": {},
   "source": [
    "9. Obtener el último elemento de una lista. Dada una lista, obtén el último elemento."
   ]
  },
  {
   "cell_type": "code",
   "execution_count": 19,
   "metadata": {},
   "outputs": [
    {
     "data": {
      "text/plain": [
       "6"
      ]
     },
     "execution_count": 19,
     "metadata": {},
     "output_type": "execute_result"
    }
   ],
   "source": [
    "lista = [1, 2, 3, 4, 5, 6]\n",
    "lista[-1]"
   ]
  },
  {
   "cell_type": "markdown",
   "metadata": {},
   "source": [
    "10. Obtener el último elemento de una lista. Dada una lista, obtén el último elemento."
   ]
  },
  {
   "cell_type": "code",
   "execution_count": 20,
   "metadata": {},
   "outputs": [
    {
     "data": {
      "text/plain": [
       "8"
      ]
     },
     "execution_count": 20,
     "metadata": {},
     "output_type": "execute_result"
    }
   ],
   "source": [
    "lista = [1, 3, 5, 6, 8]\n",
    "lista[-1]"
   ]
  },
  {
   "cell_type": "markdown",
   "metadata": {},
   "source": [
    "11. Obtener una sublista de una lista. Dada una lista, obtén una sublista que contenga los elementosdesde el índice 1 hasta el índice 3 (sin incluirlo)"
   ]
  },
  {
   "cell_type": "code",
   "execution_count": 21,
   "metadata": {},
   "outputs": [
    {
     "name": "stdout",
     "output_type": "stream",
     "text": [
      "[5, 7]\n"
     ]
    }
   ],
   "source": [
    "lista = [1, 5, 7, 9, 3, 11]\n",
    "lista_n = lista[1:3]\n",
    "print(lista_n)"
   ]
  },
  {
   "cell_type": "markdown",
   "metadata": {},
   "source": [
    "12. Reemplazar un elemento en una lista. Dada una lista, reemplaza el segundo elemento con un nuevo valor."
   ]
  },
  {
   "cell_type": "code",
   "execution_count": 23,
   "metadata": {},
   "outputs": [
    {
     "data": {
      "text/plain": [
       "[1, 8, 7, 9, 3, 11]"
      ]
     },
     "execution_count": 23,
     "metadata": {},
     "output_type": "execute_result"
    }
   ],
   "source": [
    "lista = [1, 5, 7, 9, 3, 11]\n",
    "lista[1] = 8\n",
    "lista"
   ]
  },
  {
   "cell_type": "markdown",
   "metadata": {},
   "source": [
    "13. Obtener una lista inversa. Dada una lista, obtén una nueva lista que contenga loselementos en orden inverso."
   ]
  },
  {
   "cell_type": "code",
   "execution_count": 26,
   "metadata": {},
   "outputs": [
    {
     "name": "stdout",
     "output_type": "stream",
     "text": [
      "[12, 10, 8, 6, 4, 2]\n"
     ]
    }
   ],
   "source": [
    "lista = [2, 4, 6, 8, 10, 12]\n",
    "lista.reverse()\n",
    "print(lista)"
   ]
  },
  {
   "cell_type": "markdown",
   "metadata": {},
   "source": [
    "14. Ordenar una lista en orden ascendente. Dada una lista de números, ordénala en orden ascendente."
   ]
  },
  {
   "cell_type": "code",
   "execution_count": 28,
   "metadata": {},
   "outputs": [
    {
     "name": "stdout",
     "output_type": "stream",
     "text": [
      "[1, 3, 4, 5, 8, 12]\n"
     ]
    }
   ],
   "source": [
    "lista = [1, 5, 3, 8, 4, 12]\n",
    "lista.sort()\n",
    "print(lista)"
   ]
  },
  {
   "cell_type": "markdown",
   "metadata": {},
   "source": [
    "15. Obtener elementos pares de una lista. Dada una lista, obtén una nueva lista que contenga solo los elementos en posiciones pares."
   ]
  },
  {
   "cell_type": "code",
   "execution_count": 36,
   "metadata": {},
   "outputs": [
    {
     "name": "stdout",
     "output_type": "stream",
     "text": [
      "[1, 4, 9]\n"
     ]
    }
   ],
   "source": [
    "lista = [1, 2, 4, 7, 9, 10]\n",
    "lista_nev = lista[0:len(lista):2]\n",
    "print(lista_nev)"
   ]
  },
  {
   "cell_type": "markdown",
   "metadata": {},
   "source": [
    "16. Obtener una sublista saltando elementos. Dada una lista, obtén una sublista que contenga los elementossaltando de 3 en 3."
   ]
  },
  {
   "cell_type": "code",
   "execution_count": 35,
   "metadata": {},
   "outputs": [
    {
     "name": "stdout",
     "output_type": "stream",
     "text": [
      "[1, 3, 20]\n"
     ]
    }
   ],
   "source": [
    "lista = [1, 5, 9, 3, 7, 13, 20]\n",
    "lista_n = lista[0:len(lista):3]\n",
    "print(lista_n)"
   ]
  },
  {
   "cell_type": "markdown",
   "metadata": {},
   "source": [
    "17. Encontrar el segundo valor máximo en una lista. Dada una lista de números, encuentra el segundo valor máximo."
   ]
  },
  {
   "cell_type": "code",
   "execution_count": 44,
   "metadata": {},
   "outputs": [
    {
     "name": "stdout",
     "output_type": "stream",
     "text": [
      "13\n"
     ]
    }
   ],
   "source": [
    "lista = [1, 5, 9, 3, 7, 13, 20]\n",
    "\n",
    "lista2 = lista.copy()\n",
    "lista2.remove(max(lista))\n",
    "print(max(lista2))\n"
   ]
  },
  {
   "cell_type": "code",
   "execution_count": 43,
   "metadata": {},
   "outputs": [
    {
     "name": "stdout",
     "output_type": "stream",
     "text": [
      "13\n"
     ]
    }
   ],
   "source": [
    "lista = [1, 5, 9, 3, 7, 13, 20]\n",
    "segundo_maximo = sorted(lista)[-2]\n",
    "print(segundo_maximo)"
   ]
  },
  {
   "cell_type": "markdown",
   "metadata": {},
   "source": [
    "18. Teórico. Debereis contestar la pregunta en una celda de markdown. ¿Qué diferencia existe entre el .sort() y el sorted()\n",
    "\n",
    "- La primera diferencia entre sort y sorted, es que la función sort modifica la lista original. Mientras que sorted, devuelve una nueva lista ordenada. La segunda diferencia, es que sort solo funciona con objetos de tipo lista, mientras que sorted funciona con cualquier iterable.  \n"
   ]
  },
  {
   "cell_type": "markdown",
   "metadata": {},
   "source": [
    "19. Agregar elementos a una lista utilizando append y extend.\n",
    "Dada una lista inicial, agrega nuevos elementos utilizando tanto\n",
    "append como extend y observa las diferencias en el resultado final. El elemento que deberéis usar para añadir a la lista original tiene que ser una lista."
   ]
  },
  {
   "cell_type": "code",
   "execution_count": 47,
   "metadata": {},
   "outputs": [
    {
     "name": "stdout",
     "output_type": "stream",
     "text": [
      "Usando append: [1, 2, 3, 4, 5, [7, 8]]\n",
      "Usando extend: [1, 2, 3, 4, 5, 6, 7]\n"
     ]
    }
   ],
   "source": [
    "mi_lista = [1, 2, 3, 4, 5]\n",
    "mi_lista.append([7, 8])\n",
    "print(\"Usando append:\", mi_lista)\n",
    "mi_lista2 = [1, 2, 3, 4, 5]\n",
    "mi_lista2.extend([6, 7])\n",
    "print(\"Usando extend:\", mi_lista2)"
   ]
  },
  {
   "cell_type": "markdown",
   "metadata": {},
   "source": [
    "Diferencia:\n",
    "\n",
    "append() agrega la lista completa como un solo elemento, por lo que la lista agregada aparece como una sublista.\n",
    "\n",
    "extend() agrega cada elemento de la lista de manera individual, extendiendo la lista original."
   ]
  },
  {
   "cell_type": "markdown",
   "metadata": {},
   "source": [
    "20. Insertar un elemento en una posición específica. Dada una lista, inserta un nuevo elemento en una posición específica determinada por el usuario (debereis usar la función input para preguntar al usuario en que posición quiere insertar el elemento).\n"
   ]
  },
  {
   "cell_type": "code",
   "execution_count": 48,
   "metadata": {},
   "outputs": [
    {
     "name": "stdout",
     "output_type": "stream",
     "text": [
      "Lista después de la inserción: [1, 5, '4', 16, 3, 7, 13, 20]\n"
     ]
    }
   ],
   "source": [
    "lista = [1, 5, 16, 3, 7, 13, 20]\n",
    "elemento_nuevo  = input('Introduce el elemento que quieres insertar: ')\n",
    "posicion = int(input('Introduce la posición donde quieres insertarlo: '))\n",
    "lista.insert(posicion, elemento_nuevo)\n",
    "print(\"Lista después de la inserción:\", lista)"
   ]
  },
  {
   "cell_type": "markdown",
   "metadata": {},
   "source": [
    "21. Verificar si un elemento está presente en una lista. Dada una lista, verifica si un elemento específico está presente en ella. Igual que el caso anterior, debereis preguntar al usuario que elemento quiere buscar en la lista. El resultado deberá ser True o False."
   ]
  },
  {
   "cell_type": "code",
   "execution_count": 53,
   "metadata": {},
   "outputs": [
    {
     "name": "stdout",
     "output_type": "stream",
     "text": [
      "True\n"
     ]
    }
   ],
   "source": [
    "lista = [2, 5, 16, 6, 7, 13, 20]\n",
    "elemento_lista = int(input('¿Qué elemento estás buscando?'))\n",
    "resultado = elemento_lista in lista\n",
    "print(resultado)"
   ]
  },
  {
   "cell_type": "markdown",
   "metadata": {},
   "source": [
    "22. Manipulación de una lista utilizando remove(), pop() y clear()\n",
    "Crea una lista inicial, realiza operaciones de eliminación y limpieza utilizando los métodos remove(), pop() y clear(), y observa cómo afectan a la lista."
   ]
  },
  {
   "cell_type": "code",
   "execution_count": 59,
   "metadata": {},
   "outputs": [
    {
     "name": "stdout",
     "output_type": "stream",
     "text": [
      "[5, 16, 6, 7, 13, 20]\n",
      "[5, 6, 7, 13, 20]\n",
      "[]\n"
     ]
    }
   ],
   "source": [
    "lista = [2, 5, 16, 6, 7, 13, 20]\n",
    "lista.remove(2)\n",
    "print(lista)\n",
    "lista.pop(1)\n",
    "print(lista)\n",
    "lista.clear()\n",
    "print(lista)"
   ]
  }
 ],
 "metadata": {
  "kernelspec": {
   "display_name": "Python 3",
   "language": "python",
   "name": "python3"
  },
  "language_info": {
   "codemirror_mode": {
    "name": "ipython",
    "version": 3
   },
   "file_extension": ".py",
   "mimetype": "text/x-python",
   "name": "python",
   "nbconvert_exporter": "python",
   "pygments_lexer": "ipython3",
   "version": "3.9.6"
  }
 },
 "nbformat": 4,
 "nbformat_minor": 2
}
