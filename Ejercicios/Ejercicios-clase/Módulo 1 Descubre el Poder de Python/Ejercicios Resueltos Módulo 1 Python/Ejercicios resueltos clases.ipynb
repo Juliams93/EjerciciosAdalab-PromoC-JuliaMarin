{
 "cells": [
  {
   "cell_type": "markdown",
   "metadata": {},
   "source": [
    "# ¿Qué es la OOP? "
   ]
  },
  {
   "cell_type": "markdown",
   "metadata": {},
   "source": [
    "La [OOP] es conocida como la programación orientada a objetos."
   ]
  },
  {
   "cell_type": "markdown",
   "metadata": {},
   "source": [
    "- Con la OPP podemos crear estructuras de código más organizadas,reutilizables y fáciles de mantener.\n",
    "- En la OPP los objetos son instancias de clases.\n",
    "\n",
    "<u> Una clase es una plantilla o un plano que define las propiedades y comportamientos de un objeto. </u>\n",
    "\n",
    "- Las propiedades se conocen como atributos y los comportamientos como métodos.\n",
    "Ejemplo : Un objeto puede representar a una fruta, con propiedades como el color, forma, sabor, etc.\n",
    "\n"
   ]
  },
  {
   "cell_type": "markdown",
   "metadata": {},
   "source": [
    "La [OOP] ofrece varios beneficios:"
   ]
  },
  {
   "cell_type": "markdown",
   "metadata": {},
   "source": [
    "- **Modularidad y reutilización de código**: Los objetos encapsulan datos y comportamientos relacionados, lo que permite reutilizar código en diferentes partes del programa.\n",
    "\n",
    "- **Organización y estructura**: Las clases proporcionan una estructura clara y jerárquica para el código, lo que facilita su comprensión y mantenimiento.\n",
    "\n",
    "- **Abstracción y encapsulamiento**: Los objetos ocultan detalles internos y solo exponen una interfaz para interactuar con ellos, lo que permite manejar complejidad reduciendo la dependencia entre diferentes partes del código.\n",
    "\n",
    "- **Polimorfismo**: Permite que objetos de diferentes clases respondan de manera diferente a los mismos mensajes o llamadas a métodos, lo que facilita la implementación de comportamientos genéricos."
   ]
  },
  {
   "cell_type": "markdown",
   "metadata": {},
   "source": [
    "# Conceptos básicos:"
   ]
  },
  {
   "cell_type": "markdown",
   "metadata": {},
   "source": [
    "- **Clase (class)**: Una clase es un esquema del objeto. (un molde) sobre el que crearemos los objetos o instancias con las mismas características. Objeto o instancia: Es la entidad individual.\n",
    "\n",
    "Ejemplo: Fruta concreta como mandarina, de color naranja , redonda, y con sabore dulce/ácido.\n",
    "\n",
    "- **Atributos**: Caracteristicas que le damos a un objeto dado.\n",
    "    - Color: naranja\n",
    "    - Forma: redonda\n",
    "    - Sabor: dulce/ácido\n",
    "\n",
    "- **Métodos**: son las funciones que definen cada objeto."
   ]
  },
  {
   "cell_type": "code",
   "execution_count": 155,
   "metadata": {},
   "outputs": [],
   "source": [
    "# 1️⃣ Creamos nuestra clase, que llamaremos Mascota.\n",
    "# Iniciamos nuestra primera clase usando la palabra clave, \"class\"\n",
    "\n",
    "class Mascota:\n",
    "    pass"
   ]
  },
  {
   "cell_type": "code",
   "execution_count": 156,
   "metadata": {},
   "outputs": [
    {
     "data": {
      "text/plain": [
       "<__main__.Mascota at 0x108019550>"
      ]
     },
     "execution_count": 156,
     "metadata": {},
     "output_type": "execute_result"
    }
   ],
   "source": [
    "# Llamaremos a la clase y la almacenaremos en una variable.\n",
    "felix = Mascota()\n",
    "felix"
   ]
  },
  {
   "cell_type": "code",
   "execution_count": 157,
   "metadata": {},
   "outputs": [],
   "source": [
    "# 2️⃣ Debemos pensar en que propiedades (lo que serán los atributos que definan a una mascota en concreto) estamos interesados. Todos las propiedades o atributos en los que estamos interesados deben estar definidos en un método llamado `constructor`.\n",
    "\n",
    "class Mascota:\n",
    "    # Cada vez que se crea un nuevo objeto Mascota, `.init()` establece el estado inicial del objeto asignando los valores de las propiedades del objeto. Es decir, `.init()` inicializa cada nueva instancia de la clase.\n",
    "    # Los atributos creados en el `__init__` son llamados atributos de instancia \n",
    "    # Podemos entender el constructor como los parámetros de las funciones. Es decir, ¿qué parámetros van a ser los que determinen las carácteristicas de nuestra mascota?\n",
    "    def __init__(self, animal, edad, raza):\n",
    "\n",
    "        # Lo primero que queremos definir es el tipo de animal que es:\n",
    "        self.animal = animal\n",
    "\n",
    "        # qué edad tiene:\n",
    "        self.edad = edad\n",
    "\n",
    "        # y cuál es su raza:\n",
    "        self.raza = raza\n",
    "\n",
    "        # al igual que en las funciones podíamos utilizar parámetros por defecto, en las clases también podemos.\n",
    "        self.hogar = 'domicilio'"
   ]
  },
  {
   "cell_type": "markdown",
   "metadata": {},
   "source": [
    "**Importante**: Cada vez que se crea un nuevo objeto Mascota, `.init()` establece el estado inicial del objeto asignando los valores de las propiedades del objeto. Es decir, `.init()` inicializa cada nueva instancia de la clase.\n",
    "\n",
    "    Los atributos creados en el `__init__` son llamados atributos de instancia (*instance atributes*)"
   ]
  },
  {
   "cell_type": "code",
   "execution_count": 158,
   "metadata": {},
   "outputs": [],
   "source": [
    "# 3️⃣ Instanciar un objeto, es decir, crear un nuevo objeto de la clase Mascota.\n",
    "# volvemos a llamar a nuestra clase. Para eso, al igual que en las funciones, lo que tenemos que hacer es llamar a nuestra clase y entre paréntesis indicar los parámetros, es decir, las variables que pusimos en el constructor. \n",
    "# en este caso, nuestra mascota será un gato\n",
    "\n",
    "felix = Mascota('gato', 1,  'gato común')"
   ]
  },
  {
   "cell_type": "code",
   "execution_count": 159,
   "metadata": {},
   "outputs": [
    {
     "data": {
      "text/plain": [
       "<__main__.Mascota at 0x1080169a0>"
      ]
     },
     "execution_count": 159,
     "metadata": {},
     "output_type": "execute_result"
    }
   ],
   "source": [
    "# llamamos a la función y nos devuelve el \"identificador\" de la función. \n",
    "felix"
   ]
  },
  {
   "cell_type": "markdown",
   "metadata": {},
   "source": [
    "En este punto nos podemos estar preguntando, como podemos acceder a los distintos atributos que hemos definido para nuestra mascota. \n",
    "\n",
    "Para eso tendremos que: \n",
    "\n",
    "nombre_clase.nombre_atributo"
   ]
  },
  {
   "cell_type": "code",
   "execution_count": 160,
   "metadata": {},
   "outputs": [
    {
     "data": {
      "text/plain": [
       "'gato'"
      ]
     },
     "execution_count": 160,
     "metadata": {},
     "output_type": "execute_result"
    }
   ],
   "source": [
    "# en nuestro caso, almacenamos la clase en la variable \"felix\". Si quisieramos acceder a que tipo de animal es, escribiremos felix.animal ya que así definimos ese atributo en nuestra clase.\n",
    "\n",
    "# ¿Qué tipo de animal es nuestra mascota? \n",
    "felix.animal"
   ]
  },
  {
   "cell_type": "code",
   "execution_count": 161,
   "metadata": {},
   "outputs": [
    {
     "data": {
      "text/plain": [
       "'domicilio'"
      ]
     },
     "execution_count": 161,
     "metadata": {},
     "output_type": "execute_result"
    }
   ],
   "source": [
    "# ¿Cuál es el hogar de nuestra mascota? \n",
    "felix.hogar"
   ]
  },
  {
   "cell_type": "code",
   "execution_count": 162,
   "metadata": {},
   "outputs": [
    {
     "data": {
      "text/plain": [
       "'gato común'"
      ]
     },
     "execution_count": 162,
     "metadata": {},
     "output_type": "execute_result"
    }
   ],
   "source": [
    "# ¿qué raza es? \n",
    "felix.raza"
   ]
  },
  {
   "cell_type": "code",
   "execution_count": 163,
   "metadata": {},
   "outputs": [
    {
     "data": {
      "text/plain": [
       "1"
      ]
     },
     "execution_count": 163,
     "metadata": {},
     "output_type": "execute_result"
    }
   ],
   "source": [
    "# y ¿qué edad tiene?\n",
    "felix.edad"
   ]
  },
  {
   "cell_type": "markdown",
   "metadata": {},
   "source": [
    "**DUDA**: ¿Podemos cambiar los valores que definimos en la clase sin tener que volver a definirla? Y la respuesta es SI!!! Lo haremos de una forma similar a como lo hacíamos en listas o diccionarios. Veamos un ejemplo: "
   ]
  },
  {
   "cell_type": "code",
   "execution_count": 164,
   "metadata": {},
   "outputs": [],
   "source": [
    "# a nuestro gato le pusimos que tenía un año de eddad, pero nos hemos equivocado, y en realidad tiene 2. Para cambiarlo tendremos que hacer 👇🏽\n",
    "\n",
    "felix.edad = 2"
   ]
  },
  {
   "cell_type": "code",
   "execution_count": 165,
   "metadata": {},
   "outputs": [
    {
     "data": {
      "text/plain": [
       "2"
      ]
     },
     "execution_count": 165,
     "metadata": {},
     "output_type": "execute_result"
    }
   ],
   "source": [
    "# si ahora vemos la edad de nuestro gato\n",
    "\n",
    "felix.edad"
   ]
  },
  {
   "cell_type": "code",
   "execution_count": 166,
   "metadata": {},
   "outputs": [],
   "source": [
    "# 4️⃣ definimos nuestro primer método\n",
    "\n",
    "class Mascota:\n",
    "\n",
    "    # podemos entender el constructor como los parámetros de las funciones. Es decir, ¿qué parámetros van a ser los que determinen las carácteristicas de nuestra mascota?\n",
    "    def __init__(self, animal, edad, raza):\n",
    "\n",
    "        # lo primero que querremos definir es que tipo de animal es. \n",
    "        self.animal = animal\n",
    "\n",
    "        # qué edad tiene\n",
    "        self.edad = edad\n",
    "\n",
    "        # y cuál es su raza\n",
    "        self.raza = raza\n",
    "\n",
    "        # al igual que en las funciones podíamos utilizar parámetros por defecto, en el caso de las clases también lo podemos hacer, como lo hacemos en la siguiente línea de código. \n",
    "        self.hogar = 'domicilio'\n",
    "\n",
    "\n",
    "        # definimos nuestro primer método\n",
    "    def cumple(self):\n",
    "        self.edad += 1\n",
    "        return f'La edad de nuestra mascota es de {self.edad}'\n",
    "        \n",
    "        # definimos nuestro segundo método. En este caso clasificar a las mascotas en función de su edad.\n",
    "    def rango_edad(self):\n",
    "        if self.edad < 2:\n",
    "            return 'junior'\n",
    "        elif self.edad > 10:\n",
    "            return 'senior'\n",
    "        else:\n",
    "            return 'adulto'\n",
    "            \n",
    "        # el último método que definiremos será la vacunación.\n",
    "    def vacunas(self, numero_vacunas):\n",
    "        self.numero_vacunas = numero_vacunas\n",
    "\n",
    "        if self.animal == 'gato':\n",
    "            if numero_vacunas < 3:\n",
    "                return 'Deberías ponerle todas las vacunas.'\n",
    "            else:\n",
    "                return 'Tu gatito está seguro.'\n",
    "            \n",
    "        elif self.animal == 'perro':\n",
    "            if numero_vacunas < 5:\n",
    "                return 'Deberías ponerle todas las vacunas.'\n",
    "            else: \n",
    "                return ' Tu perrito está seguro.'\n",
    "        \n",
    "        elif self.animal == 'pez':\n",
    "            return 'Tu mascota no necesita vacunas.'\n",
    "        \n",
    "        else:\n",
    "            return 'Todavía no sabemos cuantas vacunas necesita tu mascota.'"
   ]
  },
  {
   "cell_type": "markdown",
   "metadata": {},
   "source": [
    " - En cada método que hemos definido hemos incluido la palabra clave `self`, ¿por qué?. Lo primero que tenemos que hacer, es fijarnos que usamos el `.self` en aquellas variables que habíamos definido en el método constructor, en el `.__init__`. Esto nos servirá para poder usar los atributos definidos al inicio de nuestra clase, en cada uno de los métodos que definamos. \n",
    "\n",
    " - En los métodos podemos escribir lo que queramos. Al final podemos entenderlos como las funciones. Lo único, se deben cumplir las reglas de Python, pero podremos poner lo que queramos!\n",
    "\n",
    " - En los métodos podremos definir también variables propias de ese método, como en el caso del método para vacunas. "
   ]
  },
  {
   "cell_type": "code",
   "execution_count": 167,
   "metadata": {},
   "outputs": [],
   "source": [
    "# como hicimos cambios en la clase, la tenemos que volver a llamar\n",
    "felix = Mascota('gato', 1, \"gato común\")"
   ]
  },
  {
   "cell_type": "code",
   "execution_count": 168,
   "metadata": {},
   "outputs": [
    {
     "data": {
      "text/plain": [
       "'La edad de nuestra mascota es de 2'"
      ]
     },
     "execution_count": 168,
     "metadata": {},
     "output_type": "execute_result"
    }
   ],
   "source": [
    "# ha llegado el momento del cumpleaños de nuestra mascota, asi que tenemos que sumarle un año. Para eso usamos el método que usamos para sumarle un año. ¿Cómo lo hacemos? llamamos a nuestra clase (en nuestro caso felix) seguido del nombre del método con paréntesis. \n",
    "felix.cumple()"
   ]
  },
  {
   "cell_type": "code",
   "execution_count": 169,
   "metadata": {},
   "outputs": [
    {
     "data": {
      "text/plain": [
       "2"
      ]
     },
     "execution_count": 169,
     "metadata": {},
     "output_type": "execute_result"
    }
   ],
   "source": [
    "# si chequearamos ahora la edad de nuestra mascota, debería salir 2. Comprobemoslo!\n",
    "\n",
    "felix.edad"
   ]
  },
  {
   "cell_type": "code",
   "execution_count": 170,
   "metadata": {},
   "outputs": [
    {
     "data": {
      "text/plain": [
       "'Deberías ponerle todas las vacunas.'"
      ]
     },
     "execution_count": 170,
     "metadata": {},
     "output_type": "execute_result"
    }
   ],
   "source": [
    "# en nuestro caso nuestro gato tiene dos vacunas\n",
    "felix.vacunas(2)"
   ]
  },
  {
   "cell_type": "code",
   "execution_count": 171,
   "metadata": {},
   "outputs": [
    {
     "data": {
      "text/plain": [
       "2"
      ]
     },
     "execution_count": 171,
     "metadata": {},
     "output_type": "execute_result"
    }
   ],
   "source": [
    "# al igual que en los atributos definidos en el método constructor, para saber el número de vacunas tendremos que hacer: \n",
    "\n",
    "felix.numero_vacunas"
   ]
  },
  {
   "cell_type": "code",
   "execution_count": 172,
   "metadata": {},
   "outputs": [
    {
     "data": {
      "text/plain": [
       "'adulto'"
      ]
     },
     "execution_count": 172,
     "metadata": {},
     "output_type": "execute_result"
    }
   ],
   "source": [
    "# y en que rango de edad esta nuestra mascota?  Como este método no recibe ningún parámetro propio, no tendremos que pasarle nada entre paréntesis. \n",
    "\n",
    "felix.rango_edad()"
   ]
  },
  {
   "cell_type": "markdown",
   "metadata": {},
   "source": [
    "Y con esto ya hemos definido nuestra primera clase!!! 🥳\n",
    "\n",
    "- ✔️ 1️⃣ Creamos nuestra clase, que llamaremos Mascota.\n",
    "\n",
    "- ✔️ 2️⃣ Debemos pensar en que propiedades (lo que serán los atributos que definan a una mascota en concreto) estamos interesados. Todos las propiedades o atributos en los que estamos interesados deben estar definidos en un método llamado `constructor`\n",
    "\n",
    "\n",
    "    Cada vez que se crea un nuevo objeto Mascota, `.init()` establece el estado inicial del objeto asignando los valores de las propiedades del objeto. Es decir, `.init()` inicializa cada nueva instancia de la clase.\n",
    "\n",
    "    Los atributos creados en el `__init__` son llamados atributos de instancia (*instance atributes*)\n",
    "    \n",
    "\n",
    "-  ✔️ 3️⃣ Instanciar un objeto, es decir, crear un nuevo objeto de la clase Mascota.\n",
    "\n",
    "- ✔️ 4️⃣ Creamos diferentes métodos, es decir, las propiedades que le vamos a dar a cada uno de nuestros objetos."
   ]
  },
  {
   "cell_type": "markdown",
   "metadata": {},
   "source": [
    "Pero antes de seguir, la clase la hemos definido arriba, y podríamos pensar si hay alguna forma de ver cuales son los atributos de nuestra clase sin necesidad de subir hasta el punto donde definimos la función. De nuevo la respuesta es si! Veamos como:"
   ]
  },
  {
   "cell_type": "code",
   "execution_count": 173,
   "metadata": {},
   "outputs": [
    {
     "data": {
      "text/plain": [
       "{'animal': 'gato',\n",
       " 'edad': 2,\n",
       " 'raza': 'gato común',\n",
       " 'hogar': 'domicilio',\n",
       " 'numero_vacunas': 2}"
      ]
     },
     "execution_count": 173,
     "metadata": {},
     "output_type": "execute_result"
    }
   ],
   "source": [
    "felix.__dict__"
   ]
  },
  {
   "cell_type": "code",
   "execution_count": 174,
   "metadata": {},
   "outputs": [],
   "source": [
    "pez = Mascota('pez', 6, 'pez payaso')"
   ]
  },
  {
   "cell_type": "markdown",
   "metadata": {},
   "source": [
    "Veamos algunos de sus métodos:"
   ]
  },
  {
   "cell_type": "code",
   "execution_count": 175,
   "metadata": {},
   "outputs": [
    {
     "data": {
      "text/plain": [
       "'adulto'"
      ]
     },
     "execution_count": 175,
     "metadata": {},
     "output_type": "execute_result"
    }
   ],
   "source": [
    "# ¿ a qué rango de edad pertenece nuestra mascota? \n",
    "pez.rango_edad()"
   ]
  },
  {
   "cell_type": "code",
   "execution_count": 176,
   "metadata": {},
   "outputs": [
    {
     "data": {
      "text/plain": [
       "'Tu mascota no necesita vacunas.'"
      ]
     },
     "execution_count": 176,
     "metadata": {},
     "output_type": "execute_result"
    }
   ],
   "source": [
    "# y que pasa con las vacunas? \n",
    "pez.vacunas(0)"
   ]
  },
  {
   "cell_type": "markdown",
   "metadata": {},
   "source": [
    "Veamos sus atributos:"
   ]
  },
  {
   "cell_type": "code",
   "execution_count": 177,
   "metadata": {},
   "outputs": [
    {
     "data": {
      "text/plain": [
       "6"
      ]
     },
     "execution_count": 177,
     "metadata": {},
     "output_type": "execute_result"
    }
   ],
   "source": [
    "# ¿qué edad tiene nuestro pez?\n",
    "pez.edad"
   ]
  },
  {
   "cell_type": "code",
   "execution_count": 178,
   "metadata": {},
   "outputs": [
    {
     "data": {
      "text/plain": [
       "'pez payaso'"
      ]
     },
     "execution_count": 178,
     "metadata": {},
     "output_type": "execute_result"
    }
   ],
   "source": [
    "# ¿A qué raza pertenece?\n",
    "pez.raza "
   ]
  },
  {
   "cell_type": "markdown",
   "metadata": {},
   "source": [
    "**Resumen**\n",
    "- Hemos creado una clase que se llama Mascota\n",
    "\n",
    "- Hemos definido algunos atributos que caracterizan a nuestras mascotas:\n",
    "{'animal': 'gato', 'edad': 1, 'raza': 'gato común', 'hogar': 'domicilio'}\n",
    "\n",
    "    - animal\n",
    "    - edad\n",
    "    - raza\n",
    "    - hogar\n",
    "- Hemos creado algunas instancias u objetos:\n",
    "\n",
    "    - felix\n",
    "    - pez\n",
    "\n",
    "- Hemos definido algunos métodos:\n",
    "\n",
    "    - cumple\n",
    "    - rango_edades\n",
    "    - vacunas "
   ]
  },
  {
   "cell_type": "markdown",
   "metadata": {},
   "source": [
    "# Herencias de las clases\n",
    "\n",
    "Las herencias nos van a permitir crear nuevas clases a partir de clases que ya hemos definido previamente.\n",
    "\n",
    "- Clase que hereda --> CLASE HIJA, SUBCLASE o CHILD\n",
    "\n",
    "- Clase de la que hereda --> CLASE MADRE, SUPERCLASE o PARENT\n",
    "\n",
    "Las clases hijas heredan todos los atributos y métodos de las clases padre, pero también pueden tener atributos y métodos que son exclusivos de ellas mismas.\n",
    "\n",
    "<La ventaja principal... nos ayuda a reutilizar código.>"
   ]
  },
  {
   "cell_type": "code",
   "execution_count": 192,
   "metadata": {},
   "outputs": [],
   "source": [
    "# recordemos como era nuestra clase\n",
    "\n",
    "class Mascota:\n",
    "\n",
    "    def __init__(self, animal, edad, raza):\n",
    "\n",
    "        self.animal = animal\n",
    "\n",
    "        self.edad = edad\n",
    "\n",
    "        self.raza = raza\n",
    "\n",
    "        self.hogar = 'domicilio'\n",
    "\n",
    "    def cumple(self):\n",
    "        self.edad += 1\n",
    "        return f'la edad de nuestra mascota es de {self.edad}'\n",
    "\n",
    "    def rango_edad(self):\n",
    "        if self.edad < 2:\n",
    "            return 'junior'\n",
    "        elif self.edad > 10:\n",
    "            return 'senior'\n",
    "        else:\n",
    "            return 'adulto'\n",
    "\n",
    "    def vacunas(self, numero_vacunas):\n",
    "\n",
    "        self.numero_vacunas = numero_vacunas\n",
    "        \n",
    "        if self.animal == \"gato\":\n",
    "            if numero_vacunas < 3:\n",
    "                return \"deberías ponerle todas las vacunas\"\n",
    "            else:\n",
    "                return \"Tu gatito está seguro\"\n",
    "\n",
    "        elif self.animal == \"perro\":\n",
    "            if numero_vacunas < 5:\n",
    "                return \"deberías ponerle todas las vacunas\"\n",
    "            else:\n",
    "                return \"Tu perrete está seguro\"\n",
    "\n",
    "        elif self.animal == \"pez\":\n",
    "            return \"Tu mascota no necesita vacunas\"\n",
    "            \n",
    "        else:\n",
    "            return \"todavía no sabemos cuantas vacunas necesita tu mascota\""
   ]
  },
  {
   "cell_type": "markdown",
   "metadata": {},
   "source": [
    "Para indicar que una Clase hereda de otra lo que hacemos es:\n",
    "\n",
    "```python\n",
    "class NUEVA_CLASE(CLASE DE LA QUE HEREDA):\n",
    "    # pasan cosas que vamos a ver ahora"
   ]
  },
  {
   "cell_type": "code",
   "execution_count": 196,
   "metadata": {},
   "outputs": [],
   "source": [
    "# Creamos una nueva clase que hereda de mascota:\n",
    "class Perros (Mascota):\n",
    "    pass\n",
    "\n",
    "# El uso de pass en la definición de la clase Perros indica que, por el momento, no se quiere agregar ninguna funcionalidad adicional a la clase más allá de lo que ya hereda de la clase base Mascota. \n",
    "#En Python, la palabra clave pass es un marcador de posición que se usa cuando necesitas una declaración sintácticamente válida pero no deseas que haga nada (todavía)."
   ]
  },
  {
   "cell_type": "code",
   "execution_count": 183,
   "metadata": {},
   "outputs": [
    {
     "ename": "TypeError",
     "evalue": "__init__() missing 3 required positional arguments: 'animal', 'edad', and 'raza'",
     "output_type": "error",
     "traceback": [
      "\u001b[0;31m---------------------------------------------------------------------------\u001b[0m",
      "\u001b[0;31mTypeError\u001b[0m                                 Traceback (most recent call last)",
      "Cell \u001b[0;32mIn[183], line 2\u001b[0m\n\u001b[1;32m      1\u001b[0m \u001b[38;5;66;03m# Llamaremos ahora a nuestra clase hija.\u001b[39;00m\n\u001b[0;32m----> 2\u001b[0m perro \u001b[38;5;241m=\u001b[39m \u001b[43mPerros\u001b[49m\u001b[43m(\u001b[49m\u001b[43m)\u001b[49m\n",
      "\u001b[0;31mTypeError\u001b[0m: __init__() missing 3 required positional arguments: 'animal', 'edad', and 'raza'"
     ]
    }
   ],
   "source": [
    "# Llamaremos ahora a nuestra clase hija.\n",
    "perro = Perros()"
   ]
  },
  {
   "cell_type": "code",
   "execution_count": 197,
   "metadata": {},
   "outputs": [],
   "source": [
    "perro = Perros('perro', 15, 'coli')"
   ]
  },
  {
   "cell_type": "code",
   "execution_count": 198,
   "metadata": {},
   "outputs": [
    {
     "data": {
      "text/plain": [
       "'coli'"
      ]
     },
     "execution_count": 198,
     "metadata": {},
     "output_type": "execute_result"
    }
   ],
   "source": [
    "# Veamos cual es su raza.\n",
    "perro.raza"
   ]
  },
  {
   "cell_type": "code",
   "execution_count": 187,
   "metadata": {},
   "outputs": [
    {
     "data": {
      "text/plain": [
       "15"
      ]
     },
     "execution_count": 187,
     "metadata": {},
     "output_type": "execute_result"
    }
   ],
   "source": [
    "# Su edad.\n",
    "perro.edad"
   ]
  },
  {
   "cell_type": "code",
   "execution_count": 188,
   "metadata": {},
   "outputs": [
    {
     "data": {
      "text/plain": [
       "'perro'"
      ]
     },
     "execution_count": 188,
     "metadata": {},
     "output_type": "execute_result"
    }
   ],
   "source": [
    "# Tipo de animal.\n",
    "perro.animal"
   ]
  },
  {
   "cell_type": "code",
   "execution_count": 189,
   "metadata": {},
   "outputs": [],
   "source": [
    "# También podemos llamar a los métodos definidos en clase Mascota()"
   ]
  },
  {
   "cell_type": "code",
   "execution_count": 190,
   "metadata": {},
   "outputs": [
    {
     "data": {
      "text/plain": [
       "'senior'"
      ]
     },
     "execution_count": 190,
     "metadata": {},
     "output_type": "execute_result"
    }
   ],
   "source": [
    "perro.rango_edad()"
   ]
  },
  {
   "cell_type": "code",
   "execution_count": 191,
   "metadata": {},
   "outputs": [
    {
     "data": {
      "text/plain": [
       "'tu perrete esta seguro'"
      ]
     },
     "execution_count": 191,
     "metadata": {},
     "output_type": "execute_result"
    }
   ],
   "source": [
    "perro.vacunas(7)"
   ]
  },
  {
   "cell_type": "code",
   "execution_count": 199,
   "metadata": {},
   "outputs": [
    {
     "data": {
      "text/plain": [
       "True"
      ]
     },
     "execution_count": 199,
     "metadata": {},
     "output_type": "execute_result"
    }
   ],
   "source": [
    "# Con el método isinstance podemos saber si un objeto es herencia de una superclase.\n",
    "\n",
    "isinstance(perro, Mascota)"
   ]
  },
  {
   "cell_type": "markdown",
   "metadata": {},
   "source": [
    "- Vamos a crear métodos que no estaban en la clase madre. En este caso, crearemos un nuevo nuevo que se llama `pasear`. En este punto tendremos que hacer dos cosas: \n",
    "\n",
    "- 1️⃣ Crear el constructor (`.__init__`) que en este caso es un poco diferente, ya que incluiremos la palabra clave `super()` para indicar que atributos de la clase madre heredamos. En este caso, los herederemos todos. La sintaxis la tenéis en la siguiente celda. \n",
    "\n",
    "- 2️⃣ Crear el nuevo método, lo haremos de la misma forma que lo hicimos en la clase madre. "
   ]
  },
  {
   "cell_type": "code",
   "execution_count": 200,
   "metadata": {},
   "outputs": [],
   "source": [
    "class Perros(Mascota):\n",
    "\n",
    "    # Creamos el constructor con el super():\n",
    "    def __init__(self, animal, edad, raza):\n",
    "        super().__init__(animal, edad, raza)\n",
    "\n",
    "    # Creamos el nuevo método al que llamaremos pasear:\n",
    "\n",
    "    def pasear(self, optimo_paseos = 5):\n",
    "\n",
    "        num_paseos = int(input(\"¿Cuántos paseos le das a tu perro?\"))\n",
    "        print(f\"Sacas {num_paseos} veces a tu perro.\")\n",
    "\n",
    "        if num_paseos < optimo_paseos:\n",
    "            return \"Saca a tu perrito!!!\"\n",
    "        else: \n",
    "            return \"Que bien! Tu perrito sale mucho a la calle a correr!\""
   ]
  },
  {
   "cell_type": "code",
   "execution_count": 201,
   "metadata": {},
   "outputs": [],
   "source": [
    "# Como hemos cambiado la clase hija volvemos a crear la instancia:\n",
    "\n",
    "perro = Perros(\"perro\", 15, \"coli\")"
   ]
  },
  {
   "cell_type": "code",
   "execution_count": 202,
   "metadata": {},
   "outputs": [
    {
     "name": "stdout",
     "output_type": "stream",
     "text": [
      "Sacas 7 veces a tu perro.\n"
     ]
    },
    {
     "data": {
      "text/plain": [
       "'Que bien! Tu perrito sale mucho a la calle a correr!'"
      ]
     },
     "execution_count": 202,
     "metadata": {},
     "output_type": "execute_result"
    }
   ],
   "source": [
    "# Llamemos ahora al nuevo método que hemos creado.\n",
    "perro.pasear()"
   ]
  },
  {
   "cell_type": "markdown",
   "metadata": {},
   "source": [
    "**Información que nos puede resultar interesante:**\n",
    "\n",
    "Si queremos ver la información sobre una clase pondremos:"
   ]
  },
  {
   "cell_type": "code",
   "execution_count": null,
   "metadata": {},
   "outputs": [],
   "source": [
    "# Para ver la info de la clase:\n",
    "print(help(Perros))"
   ]
  },
  {
   "cell_type": "code",
   "execution_count": null,
   "metadata": {},
   "outputs": [],
   "source": [
    "print(help(Mascota))"
   ]
  },
  {
   "cell_type": "markdown",
   "metadata": {},
   "source": [
    "## **Ejercicios** "
   ]
  },
  {
   "cell_type": "markdown",
   "metadata": {},
   "source": [
    "Crea una clase llamada `Vehiculo` que representa un vehículo genérico. Esta clase tiene la capacidad de realizar acciones relacionadas con el vehículo, como encenderlo, apagarlo, acelerar, frenar y detenerlo gradualmente. Cada método en la clase tiene una descripción específica de su función. A continuación, se detallan los aspectos clave de esta clase:"
   ]
  },
  {
   "cell_type": "code",
   "execution_count": null,
   "metadata": {},
   "outputs": [],
   "source": [
    "class Vehiculo:\n",
    "    \n",
    "    def __init__(self, marca, modelo, año):\n",
    "        self.marca = marca\n",
    "\n",
    "        self.modelo = modelo\n",
    "\n",
    "        self.año = año\n",
    "\n",
    "\n",
    "    def informacion(self):\n",
    "        print(f'El vehículo es de la marca: {self.marca}, del modelo: {self.modelo} y del año: {self.año}.')\n",
    "\n",
    "    def encender(self):\n",
    "        if not self.encendido:\n",
    "            self.encendido = True\n",
    "            return f\"El vehículo {self.marca} ha sido encendido.\"\n",
    "        else:\n",
    "            return f\"El vehículo {self.marca} ya está encendido.\"\n",
    "    \n",
    "    def apagar(self):\n",
    "        if self.encendido:\n",
    "            self.encendido = False\n",
    "            self.velocidad_actual = 0\n",
    "            return f\"El vehículo {self.marca} ha sido apagado. La velocidad actual es 0.\"\n",
    "        else:\n",
    "            return f\"El vehículo {self.marca} ya está apagado.\"\n",
    "\n",
    "    def acelerar(self, velocidad):\n",
    "        if self.encendido:\n",
    "            self.velocidad_actual += velocidad\n",
    "            return f\"El vehículo {self.marca} ha acelerado. Velocidad actual: {self.velocidad_actual} km/h.\"\n",
    "        else:\n",
    "            return f\"No se puede acelerar. El vehículo {self.marca} está apagado.\"\n",
    "\n"
   ]
  }
 ],
 "metadata": {
  "kernelspec": {
   "display_name": "Python 3",
   "language": "python",
   "name": "python3"
  },
  "language_info": {
   "codemirror_mode": {
    "name": "ipython",
    "version": 3
   },
   "file_extension": ".py",
   "mimetype": "text/x-python",
   "name": "python",
   "nbconvert_exporter": "python",
   "pygments_lexer": "ipython3",
   "version": "3.9.6"
  }
 },
 "nbformat": 4,
 "nbformat_minor": 2
}
