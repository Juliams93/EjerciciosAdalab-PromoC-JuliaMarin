{
 "cells": [
  {
   "cell_type": "markdown",
   "metadata": {},
   "source": [
    "\n",
    "1. Crea las siguientes variables:\n",
    "\n",
    "  - `var1` sea un número con el valor `8`.\n",
    "\n",
    "  - `var2` sea un número con el valor `2`.\n",
    "\n",
    "  - `var3` sea un número con el valor `8`."
   ]
  },
  {
   "cell_type": "code",
   "execution_count": 1,
   "metadata": {},
   "outputs": [],
   "source": [
    "var1 = 8\n",
    "var2 = 2\n",
    "var3 = 8"
   ]
  },
  {
   "cell_type": "markdown",
   "metadata": {},
   "source": [
    "2. Comprueba si `var1` es mayor que 6, y si es así imprime `¡Es enorme!`."
   ]
  },
  {
   "cell_type": "code",
   "execution_count": 7,
   "metadata": {},
   "outputs": [
    {
     "name": "stdout",
     "output_type": "stream",
     "text": [
      "¡Es enorme!\n"
     ]
    }
   ],
   "source": [
    "if var1 > 6:\n",
    "    print('¡Es enorme!')\n",
    "else:\n",
    "    print('Es menor que 6')"
   ]
  },
  {
   "cell_type": "markdown",
   "metadata": {},
   "source": [
    "3. Comprueba si `var2` es mayor que 6, y si es así imprime `¡Es enorme también!`."
   ]
  },
  {
   "cell_type": "code",
   "execution_count": 8,
   "metadata": {},
   "outputs": [
    {
     "name": "stdout",
     "output_type": "stream",
     "text": [
      "Es menor que 6\n"
     ]
    }
   ],
   "source": [
    "if var2 > 6:\n",
    "    print('¡Es enorme también!')\n",
    "else:\n",
    "    print('Es menor que 6')"
   ]
  },
  {
   "cell_type": "markdown",
   "metadata": {},
   "source": [
    "4. Comprueba si `var3` es mayor que 6, y si es así imprime `¡Es enorme!` seguido por `¡Pero de verdad!` en otra línea (deberéis tener dos *print*)."
   ]
  },
  {
   "cell_type": "code",
   "execution_count": 9,
   "metadata": {},
   "outputs": [
    {
     "name": "stdout",
     "output_type": "stream",
     "text": [
      "¡Es enorme!\n",
      "¡Pero de verdad!\n"
     ]
    }
   ],
   "source": [
    "if var3 > 6:\n",
    "    print('¡Es enorme!')\n",
    "    if var3 > 6:\n",
    "        print('¡Pero de verdad!')"
   ]
  },
  {
   "cell_type": "markdown",
   "metadata": {},
   "source": [
    "5. Comprueba si `var1` es igual que `var3`, y si es así imprime `Son iguales.`."
   ]
  },
  {
   "cell_type": "code",
   "execution_count": 11,
   "metadata": {},
   "outputs": [
    {
     "name": "stdout",
     "output_type": "stream",
     "text": [
      "Son iguales.\n"
     ]
    }
   ],
   "source": [
    "if var1 == var3:\n",
    "    print('Son iguales.')\n",
    "else:\n",
    "    print('Son diferentes.')"
   ]
  },
  {
   "cell_type": "markdown",
   "metadata": {},
   "source": [
    "6. Comprueba si `var1` es igual que `var2`, y si es así imprime `Son iguales.`"
   ]
  },
  {
   "cell_type": "code",
   "execution_count": 12,
   "metadata": {},
   "outputs": [
    {
     "name": "stdout",
     "output_type": "stream",
     "text": [
      "Son diferentes.\n"
     ]
    }
   ],
   "source": [
    "if var1 == var2:\n",
    "    print('Son iguales.')\n",
    "else:\n",
    "    print('Son diferentes.')"
   ]
  },
  {
   "cell_type": "markdown",
   "metadata": {},
   "source": [
    "7. Comprueba si `var1` es mayor o igual que `var2`, y si es así calcula la diferencia entre `var1` y `var2`, guardala en la variable `dif`, e imprime `'La diferencia es',dif`. "
   ]
  },
  {
   "cell_type": "code",
   "execution_count": 13,
   "metadata": {},
   "outputs": [
    {
     "name": "stdout",
     "output_type": "stream",
     "text": [
      "La diferencia es: 6\n"
     ]
    }
   ],
   "source": [
    "if var1 >= var2:\n",
    "    dif = var1 - var2\n",
    "    print('La diferencia es:', dif)"
   ]
  },
  {
   "cell_type": "markdown",
   "metadata": {},
   "source": [
    "8. Comprueba si `var1` es mayor que 6, y si es así imprime `¡Es enorme!`. Si no es así imprime `Es chiquitín.`."
   ]
  },
  {
   "cell_type": "code",
   "execution_count": 16,
   "metadata": {},
   "outputs": [
    {
     "name": "stdout",
     "output_type": "stream",
     "text": [
      "¡Es enorme!\n"
     ]
    }
   ],
   "source": [
    "if var1 > 6:\n",
    "    print('¡Es enorme!')\n",
    "else: \n",
    "    print('Es chiquitín.')"
   ]
  },
  {
   "cell_type": "markdown",
   "metadata": {},
   "source": [
    "9. Comprueba si `var2` es mayor que 6, y si es así imprime `¡Es enorme también!`. Si no es así imprime `Es chiquitín también.`."
   ]
  },
  {
   "cell_type": "code",
   "execution_count": 17,
   "metadata": {},
   "outputs": [
    {
     "name": "stdout",
     "output_type": "stream",
     "text": [
      "Es chiquitín también.\n"
     ]
    }
   ],
   "source": [
    "if var2 > 6:\n",
    "    print('¡Es enorme también!')\n",
    "else:\n",
    "    print('Es chiquitín también.')"
   ]
  },
  {
   "cell_type": "markdown",
   "metadata": {},
   "source": [
    "\n",
    "10. Comprueba si `var1` es igual a `var3`, y si es así imprime `Son iguales.` Si no es así imprime `Son distintos.`"
   ]
  },
  {
   "cell_type": "code",
   "execution_count": 18,
   "metadata": {},
   "outputs": [
    {
     "name": "stdout",
     "output_type": "stream",
     "text": [
      "Son iguales.\n"
     ]
    }
   ],
   "source": [
    "if var1 == var3:\n",
    "    print('Son iguales.')\n",
    "else:\n",
    "    print('Son distintos.')"
   ]
  },
  {
   "cell_type": "markdown",
   "metadata": {},
   "source": [
    "11. Escribe un programa para una empresa que tiene salas de juegos para todas las edades y quiere calcular de forma automática el precio que debe cobrar a sus clientes por entrar. El programa debe preguntar al usuario:\n",
    "\n",
    "    - La edad del cliente. \n",
    "    - Las condiciones que tendremos que chequear: \n",
    "\n",
    "      - Si el cliente es menor de 4 años puede entrar gratis, \n",
    "\n",
    "      - Si tiene entre 4 y 18 años debe pagar 5€ y \n",
    "\n",
    "      - Si es mayor de 18 años, 10€."
   ]
  },
  {
   "cell_type": "code",
   "execution_count": 14,
   "metadata": {},
   "outputs": [
    {
     "name": "stdout",
     "output_type": "stream",
     "text": [
      "Debe pagar 5€\n"
     ]
    }
   ],
   "source": [
    "edad = int(input('¿Que edad tiene el cliente?'))\n",
    "if edad < 4:\n",
    "    print('Puede entrar gratis')\n",
    "elif edad > 4 < 18:\n",
    "    print('Debe pagar 5€')\n",
    "elif edad > 18:\n",
    "    print('Debe pagar 10€')\n",
    "else:\n",
    "    print('Has puesto un valor equivocado')"
   ]
  },
  {
   "cell_type": "markdown",
   "metadata": {},
   "source": [
    "12. Inicia la varible `ahorros` con un valor de `5`. Crea un bucle while que mientras los ahorros sean igual o menor que `20` imprima por pantalla la cantidad de ahorros que tenemos, y añádele `5` más. Cuando la variable ahorros supere el valor de 20 el bucle deberá parar. "
   ]
  },
  {
   "cell_type": "code",
   "execution_count": 20,
   "metadata": {},
   "outputs": [
    {
     "name": "stdout",
     "output_type": "stream",
     "text": [
      "5\n",
      "10\n",
      "15\n",
      "20\n"
     ]
    }
   ],
   "source": [
    "ahorros = 5\n",
    "while ahorros <= 20:\n",
    "    print(ahorros)\n",
    "    ahorros+=5"
   ]
  },
  {
   "cell_type": "markdown",
   "metadata": {},
   "source": [
    "13. Escribe un programa que convierta grados Celsius a grados Fahrenheit o viceversa, según la elección del usuario. Para eso tendrás que preguntar: \n",
    "\n",
    "  - Desde que unidades va a convertir la temperatura, Celsius o Fahrenheit. \n",
    "\n",
    "  - Cuál es valor de la temperatura que quiere convertir. "
   ]
  },
  {
   "cell_type": "code",
   "execution_count": 23,
   "metadata": {},
   "outputs": [
    {
     "name": "stdout",
     "output_type": "stream",
     "text": [
      "16.0 grados Celsius equivalen a 60.8 grados Fahrenheit.\n"
     ]
    }
   ],
   "source": [
    "grados = (input('¿Desde que unidades va a convertir la temperatura, Celsius o Fahrenheit?'))\n",
    "valor = float(input('¿Cuál es el valor de la temperatura que quiere convertir?'))\n",
    "if grados == \"Celsius\":\n",
    "    fahrenheit = (valor * 9/5) + 32\n",
    "    print(f'{valor} grados Celsius equivalen a {fahrenheit} grados Fahrenheit.')\n",
    "elif grados == 'Fahrenheit':\n",
    "    celsius = (valor - 32) * 5/9\n",
    "    print(f'{valor} grados Fahrenheit equivalen a {celsius} grados Celsius.')\n",
    "else: \n",
    "     print('Prueba de nuevo, por favor introduce \"Celsius\" o \"Fahrenheit\".')"
   ]
  },
  {
   "cell_type": "markdown",
   "metadata": {},
   "source": [
    "14.  Crea un programa que calcule el impuesto sobre la renta de una persona basado en su ingreso anual y su estado civil (soltero o casado). Para eso deberás: \n",
    "\n",
    "  - Solicitar al usuario su ingreso anual.\n",
    "\n",
    "  - Preguntar al usuario su estado civil, permitiendo dos opciones: \"soltero\" (S) o \"casado\" (C).\n",
    "\n",
    "  - Calcular el impuesto sobre la renta utilizando las siguientes reglas:\n",
    " \n",
    " - Si el estado civil es \"soltero\" (S):\n",
    "\n",
    "      - Si el ingreso anual es menor o igual a $9,875, el impuesto es el 10% del ingreso anual.\n",
    "\n",
    "      - Si el ingreso anual está entre $9,876 y $40,125, el impuesto es el 10% de los primeros $9,875 más el 12% de la cantidad que excede los $9,875.\n",
    "     \n",
    "\n",
    " - Si el estado civil es \"casado\" (C):\n",
    "    \n",
    "      - Si el ingreso anual es menor o igual a $19,850, el impuesto es el 10% del ingreso anual.\n",
    "\n",
    "      - Si el ingreso anual está entre $19,851 y $80,250, el impuesto es el 10% de los primeros $19,850 más el 12% de la cantidad que excede los $19,850.\n"
   ]
  },
  {
   "cell_type": "code",
   "execution_count": null,
   "metadata": {},
   "outputs": [],
   "source": [
    "Ingreso_anual = float(input('¿Cuál es tu ingreso anual?'))\n",
    "Estado_civil = input('¿Cuál es tu estado civil?')\n",
    "if Estado_civil.upper == 'S':\n",
    "    if Ingreso_anual <= 9.875:\n",
    "        Impuesto = Ingreso_anual * 0.10\n",
    "    elif 9.875 <= Ingreso_anual <= 40.125:\n",
    "        Impuesto = (9.875* 0.10) + ((Ingreso_anual - 9.875) * 0.12)\n",
    "    else:\n",
    "        print(\"Este cálculo solo cubre ingresos hasta $40,125 para solteros.\")\n",
    "elif Estado_civil.upper == 'C':\n",
    "    if Ingreso_anual <= 19.850:\n",
    "        Impuesto = Ingreso_anual * 0.10\n",
    "    elif  19.850 <= Ingreso_anual <= 80.250:\n",
    "          Impuesto = (19.850* 0.10) + ((Ingreso_anual - 19.850) * 0.12)\n",
    "    else:\n",
    "        print(\"Este cálculo solo cubre ingresos hasta $80,250 para casados.\")\n",
    "else:\n",
    "     print('Estado civil no válido. Usa 'S' para soltero o 'C' para casado.')\n"
   ]
  },
  {
   "cell_type": "markdown",
   "metadata": {},
   "source": [
    "15. Crea un programa que evalúe el nivel de contaminación del aire en función de la concentración de partículas en suspensión (PM2.5) en microgramos por metro cúbico (µg/m³). Para eso deberás: \n",
    "\n",
    "  - Solicita al usuario que ingrese la concentración de PM2.5 en el aire en µg/m³. El usuario debe ingresar un valor numérico.\n",
    "\n",
    "  - Evalua el nivel de contaminación del aire según la siguiente escala:\n",
    "\n",
    "    - Si la concentración de PM2.5 es menor o igual a 12 µg/m³, el aire se considera \"Excelente\".\n",
    "\n",
    "    - Si la concentración de PM2.5 está entre 13 µg/m³ y 35 µg/m³, el aire se considera \"Bueno\".\n",
    "\n",
    "    - Si la concentración de PM2.5 está entre 36 µg/m³ y 55 µg/m³, el aire se considera \"Aceptable\".\n",
    "\n",
    "    - Si la concentración de PM2.5 está entre 56 µg/m³ y 150 µg/m³, el aire se considera \"No Saludable para Grupos Sensibles\".\n",
    "\n",
    "    - Si la concentración de PM2.5 es mayor a 150 µg/m³, el aire se considera \"No Saludable\".\n",
    "\n",
    "  - Muestra un mensaje indicando el estado de la calidad del aire. Por ejemplo, si la concentración de PM2.5 es 25 µg/m³, el programa debe mostrar: \"La calidad del aire es Buena\".\n",
    "\n",
    "  -  Además, si la concentración de PM2.5 está en la categoría \"No Saludable para Grupos Sensibles\" o \"No Saludable\", el programa debe advertir al usuario sobre los posibles efectos en la salud.\n",
    "\n",
    "  - Si la concentración ingresada por el usuario es negativa o no es un número válido, el programa debe mostrar un mensaje de error."
   ]
  },
  {
   "cell_type": "code",
   "execution_count": 15,
   "metadata": {},
   "outputs": [
    {
     "name": "stdout",
     "output_type": "stream",
     "text": [
      "La calidad del aire es Aceptable.\n"
     ]
    }
   ],
   "source": [
    "\n",
    "try:\n",
    "        concentracion = float(input(\"Ingresa la concentración de PM2.5 en µg/m³: \"))\n",
    "        \n",
    "        if concentracion <= 12:\n",
    "            print(\"La calidad del aire es Excelente.\")\n",
    "        elif 13 <= concentracion <= 35:\n",
    "            print(\"La calidad del aire es Buena.\")\n",
    "            if concentracion == 25:\n",
    "                 print('La calidad del aire es Buena.')\n",
    "        elif 36 <= concentracion <= 55:\n",
    "            print(\"La calidad del aire es Aceptable.\")\n",
    "        elif 56 <= concentracion <= 150:\n",
    "            print(\"La calidad del aire es No Saludable para Grupos Sensibles.\")\n",
    "            print(\"Advertencia: Las personas con afecciones respiratorias o cardíacas, niños y ancianos podrían verse afectados.\")\n",
    "        elif concentracion > 150:\n",
    "            print(\"La calidad del aire es No Saludable.\")\n",
    "            print(\"Advertencia: Todos podrían experimentar efectos en la salud, y los grupos sensibles podrían sufrir efectos graves.\")\n",
    "except ValueError:\n",
    "        print(\"Error: Por favor, ingresa un valor numérico válido.\")\n",
    "\n"
   ]
  },
  {
   "cell_type": "markdown",
   "metadata": {},
   "source": []
  }
 ],
 "metadata": {
  "kernelspec": {
   "display_name": "Python 3",
   "language": "python",
   "name": "python3"
  },
  "language_info": {
   "codemirror_mode": {
    "name": "ipython",
    "version": 3
   },
   "file_extension": ".py",
   "mimetype": "text/x-python",
   "name": "python",
   "nbconvert_exporter": "python",
   "pygments_lexer": "ipython3",
   "version": "3.9.6"
  }
 },
 "nbformat": 4,
 "nbformat_minor": 2
}
