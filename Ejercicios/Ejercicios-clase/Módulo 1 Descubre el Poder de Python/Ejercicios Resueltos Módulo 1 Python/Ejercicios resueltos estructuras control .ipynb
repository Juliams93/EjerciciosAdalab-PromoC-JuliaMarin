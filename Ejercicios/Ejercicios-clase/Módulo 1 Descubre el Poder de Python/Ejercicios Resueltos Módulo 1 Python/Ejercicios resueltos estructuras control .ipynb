{
 "cells": [
  {
   "cell_type": "markdown",
   "metadata": {},
   "source": [
    "1. Crea una variable que sea igual a \"Python\" y genera un código que nos printee todas las letras menos la \"P\" usando la sentencia `continue`.\n"
   ]
  },
  {
   "cell_type": "code",
   "execution_count": 5,
   "metadata": {},
   "outputs": [
    {
     "name": "stdout",
     "output_type": "stream",
     "text": [
      "y\n",
      "t\n",
      "h\n",
      "o\n",
      "n\n"
     ]
    }
   ],
   "source": [
    "var = 'Python'\n",
    "for l in var:\n",
    "    if l == 'P':\n",
    "        continue\n",
    "    else: \n",
    "        print(l)"
   ]
  },
  {
   "cell_type": "markdown",
   "metadata": {},
   "source": [
    "2. De la frase `'Hello'` imprime todas las letras que no sean una `'l'` usando `if`."
   ]
  },
  {
   "cell_type": "code",
   "execution_count": 7,
   "metadata": {},
   "outputs": [
    {
     "name": "stdout",
     "output_type": "stream",
     "text": [
      "H\n",
      "e\n",
      "o\n"
     ]
    }
   ],
   "source": [
    "frase = 'Hello'\n",
    "for l in frase:\n",
    "    if l != 'l':\n",
    "        print(l)"
   ]
  },
  {
   "cell_type": "markdown",
   "metadata": {},
   "source": [
    "3. Haz lo mismo que en 2 usando `continue`."
   ]
  },
  {
   "cell_type": "code",
   "execution_count": 8,
   "metadata": {},
   "outputs": [
    {
     "name": "stdout",
     "output_type": "stream",
     "text": [
      "H\n",
      "e\n",
      "o\n"
     ]
    }
   ],
   "source": [
    "frase = 'Hello'\n",
    "for l in frase:\n",
    "    if l == 'l':\n",
    "        continue\n",
    "    else:\n",
    "        print(l)"
   ]
  },
  {
   "cell_type": "markdown",
   "metadata": {},
   "source": [
    "4. De la frase `'Hello'` imprime todas las letras parando el bucle si encuentras una `'o'`."
   ]
  },
  {
   "cell_type": "code",
   "execution_count": 9,
   "metadata": {},
   "outputs": [
    {
     "name": "stdout",
     "output_type": "stream",
     "text": [
      "H\n",
      "e\n",
      "l\n",
      "l\n"
     ]
    }
   ],
   "source": [
    "frase = 'Hello'\n",
    "for l in frase:\n",
    "    if l == 'o':\n",
    "        break\n",
    "    else:\n",
    "        print(l)"
   ]
  },
  {
   "cell_type": "markdown",
   "metadata": {},
   "source": [
    "5. Define  la variable `doce = '12'` y `seis = 6`. Intenta sumarlos. En el caso de que te salga un error imprime `'¡Un error!'`. Para eso usa un `try` ... `except`"
   ]
  },
  {
   "cell_type": "code",
   "execution_count": 11,
   "metadata": {},
   "outputs": [
    {
     "name": "stdout",
     "output_type": "stream",
     "text": [
      "¡Un error!\n"
     ]
    }
   ],
   "source": [
    "doce = '12'\n",
    "seis = 6\n",
    "\n",
    "try:\n",
    "    suma = doce + seis\n",
    "    print('El resultado de la suma es: ', suma)\n",
    "\n",
    "except TypeError:\n",
    "    print('¡Un error!')\n"
   ]
  },
  {
   "cell_type": "markdown",
   "metadata": {},
   "source": [
    "6. Basándonos en el ejercicio anterior, sin usar un `try` ... `except`, ¿cómo podríamos solucionar el problema? \n"
   ]
  },
  {
   "cell_type": "code",
   "execution_count": 13,
   "metadata": {},
   "outputs": [
    {
     "name": "stdout",
     "output_type": "stream",
     "text": [
      "El resultado de la suma es:  18\n"
     ]
    }
   ],
   "source": [
    "suma = int(doce) + seis\n",
    "print('El resultado de la suma es: ', suma)"
   ]
  },
  {
   "cell_type": "markdown",
   "metadata": {},
   "source": [
    "7. Solicita al usuario ingresar números enteros positivos hasta que ingrese un número negativo. Luego, muestra la suma de todos los números pares ingresados.\n"
   ]
  },
  {
   "cell_type": "code",
   "execution_count": 19,
   "metadata": {},
   "outputs": [
    {
     "name": "stdout",
     "output_type": "stream",
     "text": [
      "La suma de los números enteros positivos es: 1980\n"
     ]
    }
   ],
   "source": [
    "try:\n",
    "    numero_entero_positivo = int(input('Ingresa un número entero positivo:'))\n",
    "\n",
    "    if numero_entero_positivo > 0:\n",
    "        suma_enteros_positivos = []\n",
    "\n",
    "        for num in range(2, numero_entero_positivo + 1, 2):\n",
    "            suma_enteros_positivos.append(num)\n",
    "        print(f'La suma de los números enteros positivos es: {sum(suma_enteros_positivos)}')\n",
    "\n",
    "    else:\n",
    "        print('El número ingresado no es positivo.')\n",
    "\n",
    "except ValueError:\n",
    "        print('Introduce un valor válido.')  \n"
   ]
  },
  {
   "cell_type": "markdown",
   "metadata": {},
   "source": [
    "\n",
    "8. Solicita al usuario ingresar dos números y muestra el resultado de dividir el primero por el segundo. Asegúrate de manejar la excepción si el segundo número es cero."
   ]
  },
  {
   "cell_type": "code",
   "execution_count": 21,
   "metadata": {},
   "outputs": [
    {
     "name": "stdout",
     "output_type": "stream",
     "text": [
      "No se puede dividir entre cero.\n"
     ]
    }
   ],
   "source": [
    "try: \n",
    "    numero1 = int(input('Ingresa el primer número:'))\n",
    "    numero2 = int(input('Ingresa el segundo número:'))\n",
    "    division = numero1/numero2\n",
    "    print('El resultado de la división:', division)\n",
    "\n",
    "except ZeroDivisionError:\n",
    "    print('No se puede dividir entre cero.')"
   ]
  },
  {
   "cell_type": "markdown",
   "metadata": {},
   "source": [
    "9. Solicita al usuario ingresar un número y muestra su raíz cuadrada. Maneja la excepción si el número es negativo."
   ]
  },
  {
   "cell_type": "code",
   "execution_count": 26,
   "metadata": {},
   "outputs": [
    {
     "name": "stdout",
     "output_type": "stream",
     "text": [
      "ERROR El número no puede ser negativo.\n"
     ]
    }
   ],
   "source": [
    "try:\n",
    "    numero1 = float(input('Ingresa un número:'))\n",
    "    if numero1 < 0:\n",
    "        raise ValueError(\"El número no puede ser negativo.\") \n",
    "    raiz_cuadrada = numero1 ** 0.5\n",
    "    print(f'La raiz cuadrada de {numero1} es: ',raiz_cuadrada)\n",
    "except ValueError as e:\n",
    "    print(f'ERROR {e}')"
   ]
  },
  {
   "cell_type": "markdown",
   "metadata": {},
   "source": [
    "10. Crea una lista de números y solicita al usuario ingresar un índice para acceder a un elemento de la lista. Maneja la excepción si el índice está fuera de rango."
   ]
  },
  {
   "cell_type": "code",
   "execution_count": 28,
   "metadata": {},
   "outputs": [
    {
     "name": "stdout",
     "output_type": "stream",
     "text": [
      "Error: El índice está fuera del rango de la lista.\n"
     ]
    }
   ],
   "source": [
    "try:\n",
    "    lista = [2, 8, 10, 3, 12, 22]\n",
    "\n",
    "    indice_lista = int(input('Ingresa un índice para acceder a un elemento:'))\n",
    "    elemento = lista[indice_lista]\n",
    "    print(f\"El elemento en el índice {indice_lista} es: {elemento}\")\n",
    "\n",
    "except IndexError:\n",
    "     print(\"Error: El índice está fuera del rango de la lista.\")\n"
   ]
  },
  {
   "cell_type": "code",
   "execution_count": null,
   "metadata": {},
   "outputs": [],
   "source": []
  }
 ],
 "metadata": {
  "kernelspec": {
   "display_name": "Python 3",
   "language": "python",
   "name": "python3"
  },
  "language_info": {
   "codemirror_mode": {
    "name": "ipython",
    "version": 3
   },
   "file_extension": ".py",
   "mimetype": "text/x-python",
   "name": "python",
   "nbconvert_exporter": "python",
   "pygments_lexer": "ipython3",
   "version": "3.9.6"
  }
 },
 "nbformat": 4,
 "nbformat_minor": 2
}
