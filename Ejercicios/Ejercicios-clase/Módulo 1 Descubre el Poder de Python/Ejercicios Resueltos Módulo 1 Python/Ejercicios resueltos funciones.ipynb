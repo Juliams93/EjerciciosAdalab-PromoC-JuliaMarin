{
 "cells": [
  {
   "cell_type": "markdown",
   "metadata": {},
   "source": [
    "1. Escribe una función que reciba una cadena de texto como parámetro y devuelva un diccionario con las frecuencias de cada letra en la cadena. Los espacios no deben ser considerados."
   ]
  },
  {
   "cell_type": "code",
   "execution_count": 3,
   "metadata": {},
   "outputs": [
    {
     "data": {
      "text/plain": [
       "{'H': 1,\n",
       " 'o': 2,\n",
       " 'l': 2,\n",
       " 'a': 2,\n",
       " ',': 1,\n",
       " 's': 1,\n",
       " 'y': 1,\n",
       " 'J': 1,\n",
       " 'u': 1,\n",
       " 'i': 1}"
      ]
     },
     "execution_count": 3,
     "metadata": {},
     "output_type": "execute_result"
    }
   ],
   "source": [
    "def contar_letras(texto):\n",
    "    diccionario_letras = {}\n",
    "\n",
    "    for letra in texto:\n",
    "        if letra != ' ':\n",
    "            diccionario_letras[letra] = texto.count(letra)\n",
    "            \n",
    "    return diccionario_letras\n",
    "\n",
    "contar_letras('Hola, soy Julia')"
   ]
  },
  {
   "cell_type": "markdown",
   "metadata": {},
   "source": [
    "2. Escribe una función que reciba una cadena de texto como parámetro y devuelva una lista con todas las palabras que tienen más de 5 letras."
   ]
  },
  {
   "cell_type": "code",
   "execution_count": 18,
   "metadata": {},
   "outputs": [
    {
     "name": "stdout",
     "output_type": "stream",
     "text": [
      "['Estamos', 'haciendo', 'ejercicios', 'funciones.']\n"
     ]
    }
   ],
   "source": [
    "def más_de_cinco_letras(texto):\n",
    "    lista_mascincoletras = []\n",
    "    for palabra in texto.split():\n",
    "        if len(palabra) > 5:\n",
    "            lista_mascincoletras.append(palabra)\n",
    "    return lista_mascincoletras\n",
    "  \n",
    "lst = más_de_cinco_letras('Estamos haciendo los ejercicios de funciones.')\n",
    "print(lst)"
   ]
  },
  {
   "cell_type": "markdown",
   "metadata": {},
   "source": [
    "3. Crea una función que tome una lista de palabras como entrada y devuelva una lista de palabras que contengan más de una vocal."
   ]
  },
  {
   "cell_type": "code",
   "execution_count": 23,
   "metadata": {},
   "outputs": [
    {
     "name": "stdout",
     "output_type": "stream",
     "text": [
      "['Julia', 'Mónica', 'Lucía', 'Vicente']\n"
     ]
    }
   ],
   "source": [
    "lista_palabras = ['Julia', 'Mónica', 'Lucía', 'Vicente']\n",
    "\n",
    "def palabras_con_multiples_vocales(lista_palabras):\n",
    "    vocales = 'aeiouáéíóúü'  # Consideramos tanto las vocales normales como las acentuadas y diéresis\n",
    "    palabras_con_vocales = []\n",
    "\n",
    "    for palabra in lista_palabras:\n",
    "        # Contar cuántas vocales tiene cada palabra\n",
    "        contador_vocales = sum(1 for letra in palabra.lower() if letra in vocales)\n",
    "        if contador_vocales > 1:\n",
    "            palabras_con_vocales.append(palabra)\n",
    "\n",
    "    return palabras_con_vocales\n",
    "\n",
    "palabras_con_multiples_vocales# Llamada a la función\n",
    "resultado = palabras_con_multiples_vocales(lista_palabras)\n",
    "\n",
    "# Imprimir el resultado\n",
    "print(resultado)\n"
   ]
  },
  {
   "cell_type": "markdown",
   "metadata": {},
   "source": [
    "4. Crea una función que tome una lista de números y calcule la suma de todos los números pares en la lista."
   ]
  },
  {
   "cell_type": "code",
   "execution_count": 25,
   "metadata": {},
   "outputs": [
    {
     "name": "stdout",
     "output_type": "stream",
     "text": [
      "46\n"
     ]
    }
   ],
   "source": [
    "numeros = [2, 5 ,6, 8, 15, 30]\n",
    "\n",
    "def suma_pares(numeros):\n",
    "    suma_pares = 0\n",
    "\n",
    "    for num in numeros:\n",
    "        if num%2 == 0:\n",
    "            suma_pares += num\n",
    "    \n",
    "    return suma_pares\n",
    "\n",
    "resultado = suma_pares(numeros)\n",
    "print(resultado)"
   ]
  },
  {
   "cell_type": "markdown",
   "metadata": {},
   "source": [
    "5. Escribe una función que tome una lista de números como entrada y calcule el promedio de esos números."
   ]
  },
  {
   "cell_type": "code",
   "execution_count": 26,
   "metadata": {},
   "outputs": [
    {
     "name": "stdout",
     "output_type": "stream",
     "text": [
      "13.0\n"
     ]
    }
   ],
   "source": [
    "numeros = [4, 7, 10, 15, 20, 22]\n",
    "\n",
    "def calcular_promedio(numeros):\n",
    "    if len(numeros) == 0:  # Evitar división por cero\n",
    "        return 0\n",
    "    promedio = sum(numeros) / len(numeros)\n",
    "    return promedio\n",
    "\n",
    "resultado = calcular_promedio(numeros)\n",
    "print(resultado)"
   ]
  },
  {
   "cell_type": "markdown",
   "metadata": {},
   "source": [
    "6. Crea una función que determine el próximo año en el que las cifras del año de tu cumpleaños no se repitan. La función toma un año de tu cumpleaños como entrada y calcula el próximo año en el que las cifras no se repitan, es decir, todas las cifras en el año son diferentes entre sí."
   ]
  },
  {
   "cell_type": "code",
   "execution_count": 1,
   "metadata": {},
   "outputs": [
    {
     "name": "stdout",
     "output_type": "stream",
     "text": [
      "2013\n"
     ]
    }
   ],
   "source": [
    "def proximo_año_unico(año_cumple):\n",
    "    # Empezamos a buscar a partir del año siguiente\n",
    "    año = año_cumple + 1\n",
    "    \n",
    "    # Función auxiliar que verifica si todas las cifras de un año son únicas\n",
    "    def cifras_unicas(año):\n",
    "        return len(set(str(año))) == len(str(año))\n",
    "    \n",
    "    # Bucle que encuentra el próximo año con cifras únicas\n",
    "    while not cifras_unicas(año):\n",
    "        año += 1\n",
    "\n",
    "    return año\n",
    "\n",
    "resultado = proximo_año_unico(1993)\n",
    "print(resultado)"
   ]
  },
  {
   "cell_type": "code",
   "execution_count": 2,
   "metadata": {},
   "outputs": [
    {
     "name": "stdout",
     "output_type": "stream",
     "text": [
      "El próximo año que las cifras no se repiten: 2013\n"
     ]
    }
   ],
   "source": [
    "def proximo_año_unico(año_cumple):\n",
    "    año = año_cumple + 1  # Comenzamos a buscar desde el año siguiente\n",
    "    \n",
    "    while True:\n",
    "        año_str = str(año)  # Convertimos el año en una cadena de texto\n",
    "        if len(año_str) == len(set(año_str)):  # Verificamos si las cifras son únicas\n",
    "            return año  # Si todas las cifras son únicas, devolvemos el año\n",
    "        año += 1  # Si no, seguimos buscando con el siguiente año\n",
    "\n",
    "resultado = proximo_año_unico(1993)\n",
    "print('El próximo año que las cifras no se repiten:',resultado)"
   ]
  },
  {
   "cell_type": "markdown",
   "metadata": {},
   "source": [
    "7. Crea una función que determine cuántos pasteles puedes hornear según una receta y los ingredientes disponibles. La función toma dos diccionarios como entrada: receta, que contiene los ingredientes necesarios para un pastel, y disponible, que contiene la cantidad disponible de cada ingrediente. Sus parámetros de entrada son: \n",
    "\n",
    "    - receta: Un diccionario que representa los ingredientes necesarios para un pastel, donde las claves son los nombres de los ingredientes y los valores son las cantidades necesarias de cada ingrediente.\n",
    "\n",
    "    - disponible: Un diccionario que representa la cantidad disponible de cada ingrediente, donde las claves son los nombres de los ingredientes y los valores son las cantidades disponibles.\n",
    "\n",
    "    ```python\n",
    "    receta1 = {'flour': 500, 'sugar': 200, 'eggs': 1}\n",
    "    ingredientes1 = {'flour': 1200, 'sugar': 1200, 'eggs': 5, 'milk': 200}\n",
    "\n",
    "    pasteles(receta1, ingredientes1)    \n",
    "    # output: con estos ingredientes solo puedo hacer 2 bizcochos\n",
    "    ```"
   ]
  },
  {
   "cell_type": "code",
   "execution_count": 33,
   "metadata": {},
   "outputs": [
    {
     "name": "stdout",
     "output_type": "stream",
     "text": [
      "Con estos ingredientes solo puedo hacer 2 bizcochos\n"
     ]
    }
   ],
   "source": [
    "receta = {'flour': 500, 'sugar': 200, 'eggs': 1}\n",
    "disponible = {'flour': 1200, 'sugar': 1200, 'eggs': 5, 'milk': 200}\n",
    "def pasteles(receta, disponible):\n",
    "    # Inicializamos la cantidad máxima de pasteles como un número muy grande\n",
    "    max_pasteles = float('inf')\n",
    "\n",
    "    # Recorremos cada ingrediente en la receta\n",
    "    for ingrediente, cantidad_necesaria in receta.items():\n",
    "        # Verificamos si el ingrediente está disponible\n",
    "        if ingrediente in disponible:\n",
    "            # Calculamos cuántos pasteles podemos hacer con este ingrediente\n",
    "            cantidad_disponible = disponible[ingrediente]\n",
    "            max_pasteles = min(max_pasteles, cantidad_disponible // cantidad_necesaria)\n",
    "        else:\n",
    "            # Si falta algún ingrediente, no se puede hacer ningún pastel\n",
    "            return 0\n",
    "\n",
    "    return max_pasteles\n",
    "resultado = pasteles(receta,disponible)\n",
    "print(f\"Con estos ingredientes solo puedo hacer {resultado} bizcochos\")"
   ]
  },
  {
   "cell_type": "markdown",
   "metadata": {},
   "source": [
    "8. Crea una función llamada fibonacci que tome un número n como argumento y devuelva una lista con los primeros n números de la serie Fibonacci."
   ]
  },
  {
   "cell_type": "code",
   "execution_count": 3,
   "metadata": {},
   "outputs": [
    {
     "name": "stdout",
     "output_type": "stream",
     "text": [
      "[0, 1, 1, 2, 3, 5, 8, 13, 21, 34]\n"
     ]
    }
   ],
   "source": [
    "def fibonacci(n):\n",
    "    secuencia = [0, 1]  # Los primeros dos números de la secuencia de Fibonacci\n",
    "    \n",
    "    for i in range(2, n):  # Empezamos desde el tercer número\n",
    "        siguiente = secuencia[-1] + secuencia[-2]  # Sumamos los dos últimos números\n",
    "        secuencia.append(siguiente)  # Añadimos el siguiente número a la lista\n",
    "    \n",
    "    return secuencia[:n]  # Devolvemos los primeros 'n' números de la secuencia\n",
    "\n",
    "resultado = fibonacci(10)\n",
    "print(resultado)"
   ]
  }
 ],
 "metadata": {
  "kernelspec": {
   "display_name": "Python 3",
   "language": "python",
   "name": "python3"
  },
  "language_info": {
   "codemirror_mode": {
    "name": "ipython",
    "version": 3
   },
   "file_extension": ".py",
   "mimetype": "text/x-python",
   "name": "python",
   "nbconvert_exporter": "python",
   "pygments_lexer": "ipython3",
   "version": "3.9.6"
  }
 },
 "nbformat": 4,
 "nbformat_minor": 2
}
