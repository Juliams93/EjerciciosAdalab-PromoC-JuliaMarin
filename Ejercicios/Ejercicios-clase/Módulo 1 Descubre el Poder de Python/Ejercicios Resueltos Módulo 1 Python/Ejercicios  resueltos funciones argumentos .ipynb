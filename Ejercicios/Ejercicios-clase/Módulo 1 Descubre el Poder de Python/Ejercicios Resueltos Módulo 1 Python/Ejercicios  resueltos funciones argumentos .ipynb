{
 "cells": [
  {
   "cell_type": "markdown",
   "metadata": {},
   "source": [
    "1. Crea una función que tome un número arbitrario de cadenas de texto como argumentos y devuelva una cadena de texto que sea la concatenación de todas ellas. "
   ]
  },
  {
   "cell_type": "code",
   "execution_count": 3,
   "metadata": {},
   "outputs": [
    {
     "name": "stdout",
     "output_type": "stream",
     "text": [
      "Hola estoy aprendiendo funciones con python\n"
     ]
    }
   ],
   "source": [
    "def concatenar_cadenas(*args):\n",
    "    return ''.join(args)\n",
    "\n",
    "resultado = concatenar_cadenas('Hola',' ','estoy aprendiendo funciones',' ','con python')\n",
    "print(resultado)\n"
   ]
  },
  {
   "cell_type": "markdown",
   "metadata": {},
   "source": [
    "2. Crea una función que tome un número arbitrario de argumentos y devuelva el producto de todos ellos."
   ]
  },
  {
   "cell_type": "code",
   "execution_count": 5,
   "metadata": {},
   "outputs": [
    {
     "name": "stdout",
     "output_type": "stream",
     "text": [
      "10000\n"
     ]
    }
   ],
   "source": [
    "def producto(*args):\n",
    "    resultado = 1  # Inicializamos el producto en 1\n",
    "    for num in args:\n",
    "        resultado *= num  # Multiplicamos cada argumento\n",
    "    return resultado\n",
    "\n",
    "ejercicio = producto(20, 50, 10)\n",
    "print(ejercicio)"
   ]
  },
  {
   "cell_type": "markdown",
   "metadata": {},
   "source": [
    "3. Crea una función que tome un número arbitrario de diccionarios como argumentos y devuelva el valor mínimo entre todos los valores de los diccionarios."
   ]
  },
  {
   "cell_type": "code",
   "execution_count": 7,
   "metadata": {},
   "outputs": [
    {
     "name": "stdout",
     "output_type": "stream",
     "text": [
      "El valor mínimo de estos diccionarios es: 5\n"
     ]
    }
   ],
   "source": [
    "def valor_min_diccionario(*args):\n",
    "\n",
    "    todos_los_valores = []\n",
    "\n",
    "    for diccionario in args:\n",
    "        todos_los_valores.extend(diccionario.values())\n",
    "\n",
    "    return min(todos_los_valores)\n",
    "\n",
    "diccionario1 = {'a': 10, 'b': 20, 'c': 30}\n",
    "diccionario2 = {'x': 5, 'y': 25, 'z': 15}\n",
    "diccionario3 = {'m': 50, 'n': 40}\n",
    "\n",
    "resultado = valor_min_diccionario(diccionario1, diccionario2, diccionario3)\n",
    "print('El valor mínimo de estos diccionarios es:', resultado)\n"
   ]
  },
  {
   "cell_type": "markdown",
   "metadata": {},
   "source": [
    "4. Crea una función que tome un número arbitrario de listas y devuelva un diccionario donde las listas originales se combinan usando los índices como claves."
   ]
  },
  {
   "cell_type": "code",
   "execution_count": 10,
   "metadata": {},
   "outputs": [
    {
     "name": "stdout",
     "output_type": "stream",
     "text": [
      "{0: [1, 'a', True], 1: [2, 'b', False], 2: [3, 'c', True]}\n"
     ]
    }
   ],
   "source": [
    "def combinar_listas_por_indice(*args): #La función acepta varias listas como argumentos.\n",
    "    \n",
    "    diccionario_resultado = {}\n",
    "    \n",
    "    for i in range(len(args[0])): #Bucle principal: Iteramos sobre el índice i de la primera lista (range(len(args[0]))).\n",
    "\n",
    "        diccionario_resultado[i] = [] # Diccionario: Para cada índice i, inicializamos una lista vacía en diccionario_resultado[i] \n",
    "        #y luego recorremos cada lista, agregando el valor correspondiente en la posición i.\n",
    "\n",
    "        for lista in args:\n",
    "            diccionario_resultado[i].append(lista[i])  # Añadimos el valor correspondiente de cada lista a la clave 'i' en el diccionario.\n",
    "    \n",
    "    return diccionario_resultado\n",
    "\n",
    "lista1 = [1, 2, 3]\n",
    "lista2 = ['a', 'b', 'c']\n",
    "lista3 = [True, False, True]\n",
    "\n",
    "resultado = combinar_listas_por_indice(lista1, lista2, lista3)\n",
    "print(resultado)\n"
   ]
  },
  {
   "cell_type": "markdown",
   "metadata": {},
   "source": [
    "5. Crea una función que tome el tipo de figura geométrica (por ejemplo, \"cuadrado\", \"triángulo\", \"círculo\") como argumento de palabra clave y los argumentos necesarios para calcular el área de esa figura. La función debe devolver el área calculada. Soluciona este ejercicio con *kwargs* Por ejemplo: \n",
    "\n",
    "    ```python\n",
    "    # esta función calcula el area de un cuadrado, para hacerlo solo necesitamos saber su lado  \n",
    "    area_figura(tipo=\"cuadrado\", lado=5)\n",
    "\n",
    "    # si quisieramos calcular la de un triángulo necesitaríamos su base y su altura, y si quisieramos calcular de un círculo necesitaríamos su radio. \n",
    "    ```"
   ]
  },
  {
   "cell_type": "code",
   "execution_count": 11,
   "metadata": {},
   "outputs": [
    {
     "name": "stdout",
     "output_type": "stream",
     "text": [
      "25\n",
      "25.0\n",
      "28.2744\n",
      "Tipo de figura no soportado.\n"
     ]
    }
   ],
   "source": [
    "def area_figura(**kwargs): #**kwargs: Permite pasar un número arbitrario de argumentos de palabra clave.\n",
    "\n",
    "# Condicionales por tipo de figura: Dependiendo del tipo (\"cuadrado\", \"triángulo\", \"círculo\"), verificamos \n",
    "# si los argumentos necesarios están presentes (por ejemplo, lado para el cuadrado, \n",
    "# base y altura para el triángulo, radio para el círculo).\n",
    "# Cálculo del área: Calculamos el área dependiendo de la figura y los argumentos proporcionados.\n",
    "\n",
    "    tipo = kwargs.get('tipo')  # Obtener el tipo de figura: Usamos kwargs.get('tipo') para identificar qué tipo de figura geométrica estamos trabajando.\n",
    "    if tipo == \"cuadrado\":\n",
    "        lado = kwargs.get('lado')\n",
    "        if lado is not None:\n",
    "            return lado ** 2\n",
    "        else:\n",
    "            return \"Falta el valor del lado para calcular el área del cuadrado.\"\n",
    "    \n",
    "    elif tipo == \"triángulo\":\n",
    "        base = kwargs.get('base')\n",
    "        altura = kwargs.get('altura')\n",
    "        if base is not None and altura is not None:\n",
    "            return (base * altura) / 2\n",
    "        else:\n",
    "            return \"Faltan la base o la altura para calcular el área del triángulo.\"\n",
    "    \n",
    "    elif tipo == \"círculo\":\n",
    "        radio = kwargs.get('radio')\n",
    "        if radio is not None:\n",
    "            pi = 3.1416  # Usamos un valor aproximado de pi\n",
    "            return pi * radio ** 2\n",
    "        else:\n",
    "            return \"Falta el valor del radio para calcular el área del círculo.\"\n",
    "    \n",
    "    else:\n",
    "        return \"Tipo de figura no soportado.\"\n",
    "    \n",
    "    # Área de un cuadrado con lado 5\n",
    "print(area_figura(tipo=\"cuadrado\", lado=5))  # Output: 25\n",
    "\n",
    "# Área de un triángulo con base 10 y altura 5\n",
    "print(area_figura(tipo=\"triángulo\", base=10, altura=5))  # Output: 25.0\n",
    "\n",
    "# Área de un círculo con radio 3\n",
    "print(area_figura(tipo=\"círculo\", radio=3))  # Output: 28.27...\n",
    "\n",
    "# Llamada con un tipo de figura no soportado\n",
    "print(area_figura(tipo=\"rectángulo\", base=10, altura=5))  # Output: \"Tipo de figura no soportado.\"\n",
    "\n"
   ]
  },
  {
   "cell_type": "markdown",
   "metadata": {},
   "source": [
    "6. Crea una función que tome argumentos de palabra clave para los ingredientes y pasos de una receta y devuelva una descripción completa de la receta. Resuelvelo con *kwargs*.  Esta función toma como entrada una serie de detalles sobre la receta, como el nombre de la receta, los ingredientes necesarios y los pasos para prepararla. Luego, la función genera y devuelve una descripción detallada de la receta en forma de cadena de texto. Los parámetros que debe recibir la función son:\n",
    "\n",
    "    - nombre_receta: Un argumento de palabra clave que representa el nombre de la receta.\n",
    "\n",
    "    - ingredientes: Un argumento de palabra clave que es un diccionario donde las claves son los nombres de los ingredientes y los valores son las cantidades necesarias de cada ingrediente.\n",
    "    \n",
    "    - pasos: Un argumento de palabra clave que contiene los pasos necesarios para preparar la receta en forma de una cadena de texto.\n",
    "\n",
    "    Al final tendremos que ver algo como esto: \n",
    "    ```python\n",
    "    '''\n",
    "    Receta: Pastel de Chocolate\n",
    "    Ingredientes:\n",
    "        - 200g de chocolate\n",
    "        - 150g de harina\n",
    "        - 100g de azúcar\n",
    "    Pasos:\n",
    "        1. Mezclar el chocolate con la harina.\n",
    "        2. Agregar el azúcar y mezclar bien.\n",
    "    '''\n",
    "    ```"
   ]
  },
  {
   "cell_type": "code",
   "execution_count": 13,
   "metadata": {},
   "outputs": [
    {
     "name": "stdout",
     "output_type": "stream",
     "text": [
      "Receta: Tarta de manzana\n",
      "\n",
      "Ingredientes:\n",
      "- 3 manzanas\n",
      "- 200 g de harina\n",
      "- 100 g de azúcar\n",
      "- 50 g de mantequilla\n",
      "- 1 huevo\n",
      "- Canela al gusto\n",
      "\n",
      "Pasos:\n",
      "1. Precalentar el horno a 180°C.\n",
      "2. Pelar y cortar las manzanas en rodajas.\n",
      "3. Mezclar la harina, el azúcar y la mantequilla en un bol.\n",
      "4. Añadir el huevo a la mezcla y batir hasta obtener una masa homogénea.\n",
      "5. Extender la masa en un molde y colocar las rodajas de manzana encima.\n",
      "6. Hornear durante 45 minutos o hasta que esté dorada.\n",
      "\n"
     ]
    }
   ],
   "source": [
    "def crear_receta(**kwargs):\n",
    "    \n",
    "    # Extraemos los valores de kwargs si existen, si no, asignamos un valor por defecto\n",
    "    nombre_receta = kwargs.get('nombre_receta', 'Receta sin nombre')\n",
    "    ingredientes = kwargs.get('ingredientes', [])\n",
    "    pasos = kwargs.get('pasos', [])\n",
    "    \n",
    "    # Construimos la descripción\n",
    "    descripcion = f\"Receta: {nombre_receta}\\n\\n\"\n",
    "    descripcion += \"Ingredientes:\\n\"\n",
    "    \n",
    "    # Agregamos los ingredientes a la descripción\n",
    "    for ingrediente in ingredientes:\n",
    "        descripcion += f\"- {ingrediente}\\n\"\n",
    "    \n",
    "    descripcion += \"\\nPasos:\\n\"\n",
    "    \n",
    "    # Agregamos los pasos a la descripción\n",
    "    for i, paso in enumerate(pasos, start=1):\n",
    "        descripcion += f\"{i}. {paso}\\n\"\n",
    "    \n",
    "    return descripcion\n",
    "\n",
    "# Ejemplo de uso:\n",
    "receta = crear_receta(\n",
    "    nombre_receta=\"Tarta de manzana\",\n",
    "    ingredientes=[\"3 manzanas\", \"200 g de harina\", \"100 g de azúcar\", \"50 g de mantequilla\", \"1 huevo\", \"Canela al gusto\"],\n",
    "    pasos=[\n",
    "        \"Precalentar el horno a 180°C.\",\n",
    "        \"Pelar y cortar las manzanas en rodajas.\",\n",
    "        \"Mezclar la harina, el azúcar y la mantequilla en un bol.\",\n",
    "        \"Añadir el huevo a la mezcla y batir hasta obtener una masa homogénea.\",\n",
    "        \"Extender la masa en un molde y colocar las rodajas de manzana encima.\",\n",
    "        \"Hornear durante 45 minutos o hasta que esté dorada.\"\n",
    "    ]\n",
    ")\n",
    "\n",
    "print(receta)"
   ]
  },
  {
   "cell_type": "markdown",
   "metadata": {},
   "source": [
    "7. Crea una función que tome argumentos de palabra clave para los ingresos y gastos de una empresa y genere un informe financiero. Resyelvelo con *kwargs*. La función calcula y presenta un informe financiero simple. Este informe incluye detalles sobre los ingresos, los gastos y el balance de una entidad financiera, como una empresa o una persona. La función toma como entrada los ingresos y los gastos, y calcula el balance restando los gastos de los ingresos. Luego, genera una descripción del informe financiero en forma de cadena de texto. Los parámetros que recibe la función son: \n",
    "\n",
    "    - ingresos: Un argumento de palabra clave que representa la cantidad total de ingresos (dinero ganado) que se desea informar. Por defecto, se establece en 0 si no se proporciona ningún valor.\n",
    "\n",
    "    - gastos: Un argumento de palabra clave que representa la cantidad total de gastos (dinero gastado) que se desea informar. Por defecto, se establece en 0 si no se proporciona ningún valor.\n",
    "\n",
    "\n",
    "    Al final tendremos algo como esto:\n",
    "\n",
    "    ```python\n",
    "    '''\n",
    "    Ingresos: $50000\n",
    "    Gastos: $35000\n",
    "    Balance: $15000\n",
    "    '''\n",
    "    ```"
   ]
  },
  {
   "cell_type": "code",
   "execution_count": 14,
   "metadata": {},
   "outputs": [
    {
     "name": "stdout",
     "output_type": "stream",
     "text": [
      "\n",
      "    Ingresos: $50000\n",
      "    Gastos: $35000\n",
      "    Balance: $15000\n",
      "    \n"
     ]
    }
   ],
   "source": [
    "def generar_informe_financiero(**kwargs):\n",
    "    \n",
    "    # Valores predeterminados para ingresos y gastos\n",
    "    ingresos = kwargs.get('ingresos', 0)\n",
    "    gastos = kwargs.get('gastos', 0)\n",
    "    \n",
    "    # Cálculo del balance\n",
    "    balance = ingresos - gastos\n",
    "    \n",
    "    # Generación del informe\n",
    "    informe = f'''\n",
    "    Ingresos: ${ingresos}\n",
    "    Gastos: ${gastos}\n",
    "    Balance: ${balance}\n",
    "    '''\n",
    "    \n",
    "    return informe\n",
    "\n",
    "informe = generar_informe_financiero(ingresos=50000, gastos=35000)\n",
    "print(informe)\n",
    "\n"
   ]
  }
 ],
 "metadata": {
  "kernelspec": {
   "display_name": "Python 3",
   "language": "python",
   "name": "python3"
  },
  "language_info": {
   "codemirror_mode": {
    "name": "ipython",
    "version": 3
   },
   "file_extension": ".py",
   "mimetype": "text/x-python",
   "name": "python",
   "nbconvert_exporter": "python",
   "pygments_lexer": "ipython3",
   "version": "3.9.6"
  }
 },
 "nbformat": 4,
 "nbformat_minor": 2
}
