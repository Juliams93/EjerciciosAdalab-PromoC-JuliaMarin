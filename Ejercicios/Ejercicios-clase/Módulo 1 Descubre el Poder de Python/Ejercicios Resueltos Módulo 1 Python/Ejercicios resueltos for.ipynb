{
 "cells": [
  {
   "cell_type": "markdown",
   "metadata": {},
   "source": [
    "\n",
    "1. Usando la siguiente lista: \n",
    "    ```python\n",
    "    temperaturas = [2,45,67,23, 45,66,12,1,34,67,99,98,67,64, 44, 100]\n",
    "    ```\n",
    "\n",
    "    Crea tres listas nuevas, donde: \n",
    "\n",
    "    - En la primera tengamos temperaturas entre 0 - 10, llama a la nueva lista `bajas_temp`.\n",
    "\n",
    "    - En la segunda tengamos temperaturas entre 11- 20, llama a la nueva lista `medias_temp`.\n",
    "\n",
    "    - En la tercera tengamos temperaturas por encima de 20, llama a la nueva lista `altas_temp`"
   ]
  },
  {
   "cell_type": "code",
   "execution_count": 6,
   "metadata": {},
   "outputs": [
    {
     "name": "stdout",
     "output_type": "stream",
     "text": [
      "Las temperaturas entre 0 y 10, consideradas bajas temperaturas son: [2, 1]\n",
      "---------------------\n",
      "\n",
      "Las temperaturas entre 11 y 20, consideradas medias temperaturas son: [12]\n",
      "---------------------\n",
      "\n",
      "Las temperaturas por encima de 20, consideradas temperaturas altas son: [45, 67, 23, 45, 66, 34, 67, 99, 98, 67, 64, 44, 100]\n",
      "---------------------\n",
      "\n"
     ]
    }
   ],
   "source": [
    "temperaturas = [2,45,67,23, 45,66,12,1,34,67,99,98,67,64, 44, 100]\n",
    "\n",
    "bajas_temp = []\n",
    "for numero in temperaturas:\n",
    "    if 0 <= numero <= 10:\n",
    "        bajas_temp.append(numero)\n",
    "\n",
    "print('Las temperaturas entre 0 y 10, consideradas bajas temperaturas son:', bajas_temp)\n",
    "print('---------------------\\n')\n",
    "\n",
    "medias_temp = []\n",
    "for numero in temperaturas:\n",
    "    if 11 <= numero <= 20:\n",
    "        medias_temp.append(numero)\n",
    "\n",
    "print('Las temperaturas entre 11 y 20, consideradas medias temperaturas son:', medias_temp)\n",
    "print('---------------------\\n')\n",
    "\n",
    "altas_temp = []\n",
    "for numero in temperaturas:\n",
    "    if numero >= 20:\n",
    "        altas_temp.append(numero)\n",
    "\n",
    "print('Las temperaturas por encima de 20, consideradas temperaturas altas son:', altas_temp)\n",
    "print('---------------------\\n')\n",
    "\n"
   ]
  },
  {
   "cell_type": "code",
   "execution_count": 14,
   "metadata": {},
   "outputs": [
    {
     "name": "stdout",
     "output_type": "stream",
     "text": [
      "Las temperaturas entre 0 y 10, consideradas bajas temperaturas son: [1, 2]\n",
      "---------------------\n",
      "\n",
      "Las temperaturas entre 11 y 20, consideradas medias temperaturas son: [12]\n",
      "---------------------\n",
      "\n",
      "Las temperaturas por encima de 20, consideradas temperaturas altas son: [23, 34, 44, 45, 45, 64, 66, 67, 67, 67, 98, 99, 100]\n",
      "---------------------\n",
      "\n"
     ]
    }
   ],
   "source": [
    "temperaturas = [2, 45, 67, 23, 45, 66, 12, 1, 34, 67, 99, 98, 67, 64, 44, 100]\n",
    "\n",
    "bajar_filter = lambda temp: 0 <= temp <= 10\n",
    "media_filter = lambda temp: 11 <= temp <= 20\n",
    "alta_filter = lambda temp: temp >= 20\n",
    "\n",
    "def filtrar_temperaturas(temperaturas, condicion):\n",
    "    temps = []\n",
    "    for temp in temperaturas: \n",
    "        if condicion(temp):\n",
    "            temps.append(temp)\n",
    "    temps.sort()\n",
    "    return temps\n",
    "\n",
    "bajas_temp = filtrar_temperaturas(temperaturas, bajar_filter)\n",
    "print('Las temperaturas entre 0 y 10, consideradas bajas temperaturas son:', bajas_temp)\n",
    "print('---------------------\\n')\n",
    "\n",
    "medias_temp = filtrar_temperaturas(temperaturas, media_filter)\n",
    "print('Las temperaturas entre 11 y 20, consideradas medias temperaturas son:', medias_temp)\n",
    "print('---------------------\\n')\n",
    "\n",
    "altas_temp = filtrar_temperaturas(temperaturas, alta_filter)\n",
    "print('Las temperaturas por encima de 20, consideradas temperaturas altas son:', altas_temp)\n",
    "print('---------------------\\n')"
   ]
  },
  {
   "cell_type": "markdown",
   "metadata": {},
   "source": [
    "2. Las temperaturas están grados centígrados. Para cada una de las listas creadas en el ejercicio anterior, convertid las temperaturas a grados fahrenheit\n",
    "\n",
    "    ```\n",
    "    # la relacion de grados celsius y fahrenheit es:\n",
    "    (0 °C × 9 / 5) + 32 = 32 °F\n",
    "    ```"
   ]
  },
  {
   "cell_type": "code",
   "execution_count": 15,
   "metadata": {},
   "outputs": [
    {
     "name": "stdout",
     "output_type": "stream",
     "text": [
      "Las temperaturas entre 0 y 10, consideradas bajas temperaturas son: [1, 2]\n",
      "Las temperaturas entre 0 y 10, convertidas en fahrenheit son: [33.8, 35.6]\n",
      "---------------------\n",
      "\n",
      "Las temperaturas entre 11 y 20, consideradas medias temperaturas son: [12]\n",
      "Las temperaturas entre 11 y 20, convertidas en fahrenheit son: [53.6]\n",
      "---------------------\n",
      "\n",
      "Las temperaturas por encima de 20, consideradas temperaturas altas son: [23, 34, 44, 45, 45, 64, 66, 67, 67, 67, 98, 99, 100]\n",
      "Las temperaturas por encima de 20, convertidas en fahrenheit son: [73.4, 93.2, 111.2, 113.0, 113.0, 147.2, 150.8, 152.6, 152.6, 152.6, 208.4, 210.2, 212.0]\n",
      "---------------------\n",
      "\n"
     ]
    }
   ],
   "source": [
    "temperaturas = [2, 45, 67, 23, 45, 66, 12, 1, 34, 67, 99, 98, 67, 64, 44, 100]\n",
    "\n",
    "bajar_filter = lambda temp: 0 <= temp <= 10\n",
    "media_filter = lambda temp: 11 <= temp <= 20\n",
    "alta_filter = lambda temp: temp >= 20\n",
    "\n",
    "def filtrar_temperaturas(temperaturas, condicion):\n",
    "    temps = []\n",
    "    for temp in temperaturas: \n",
    "        if condicion(temp):\n",
    "            temps.append(temp)\n",
    "    temps.sort()\n",
    "    return temps\n",
    "\n",
    "def convert_fahrenheit(temperaturas):\n",
    "    temp_fahrenheit = []\n",
    "    for temp in temperaturas:\n",
    "        new_temp = (temp * 9 / 5) + 32 \n",
    "        temp_fahrenheit.append(new_temp)\n",
    "    return temp_fahrenheit\n",
    "\n",
    "\n",
    "bajas_temp = filtrar_temperaturas(temperaturas, bajar_filter)\n",
    "bajas_temp_fah = convert_fahrenheit(bajas_temp)\n",
    "print('Las temperaturas entre 0 y 10, consideradas bajas temperaturas son:', bajas_temp)\n",
    "print('Las temperaturas entre 0 y 10, convertidas en fahrenheit son:', bajas_temp_fah)\n",
    "print('---------------------\\n')\n",
    "\n",
    "medias_temp = filtrar_temperaturas(temperaturas, media_filter)\n",
    "medias_temp_fah = convert_fahrenheit(medias_temp)\n",
    "print('Las temperaturas entre 11 y 20, consideradas medias temperaturas son:', medias_temp)\n",
    "print('Las temperaturas entre 11 y 20, convertidas en fahrenheit son:', medias_temp_fah)\n",
    "print('---------------------\\n')\n",
    "\n",
    "altas_temp = filtrar_temperaturas(temperaturas, alta_filter)\n",
    "altas_temp_fah = convert_fahrenheit(altas_temp)\n",
    "print('Las temperaturas por encima de 20, consideradas temperaturas altas son:', altas_temp)\n",
    "print('Las temperaturas por encima de 20, convertidas en fahrenheit son:', altas_temp_fah)\n",
    "print('---------------------\\n')"
   ]
  },
  {
   "cell_type": "markdown",
   "metadata": {},
   "source": [
    "3. Define e imprime un rango de 0 a 6 (excluido)."
   ]
  },
  {
   "cell_type": "code",
   "execution_count": 16,
   "metadata": {},
   "outputs": [
    {
     "name": "stdout",
     "output_type": "stream",
     "text": [
      "0\n",
      "1\n",
      "2\n",
      "3\n",
      "4\n",
      "5\n"
     ]
    }
   ],
   "source": [
    "for num in range (0,6):\n",
    "    print(num)"
   ]
  },
  {
   "cell_type": "markdown",
   "metadata": {},
   "source": [
    "4. Define e imprime un rango de 3 a 6 ambos incluidos."
   ]
  },
  {
   "cell_type": "code",
   "execution_count": 17,
   "metadata": {},
   "outputs": [
    {
     "name": "stdout",
     "output_type": "stream",
     "text": [
      "3\n",
      "4\n",
      "5\n",
      "6\n"
     ]
    }
   ],
   "source": [
    "for num in range(3,7):\n",
    "    print(num)"
   ]
  },
  {
   "cell_type": "markdown",
   "metadata": {},
   "source": [
    "5. Define e imprime un rango de 5 a 9 ambos excluidos."
   ]
  },
  {
   "cell_type": "code",
   "execution_count": 18,
   "metadata": {},
   "outputs": [
    {
     "name": "stdout",
     "output_type": "stream",
     "text": [
      "6\n",
      "7\n",
      "8\n"
     ]
    }
   ],
   "source": [
    "for num in range (6,9):\n",
    "    print(num)"
   ]
  },
  {
   "cell_type": "markdown",
   "metadata": {},
   "source": [
    "6. Define e imprime un rango de 3 números que empiece en 2."
   ]
  },
  {
   "cell_type": "code",
   "execution_count": 19,
   "metadata": {},
   "outputs": [
    {
     "name": "stdout",
     "output_type": "stream",
     "text": [
      "2\n",
      "5\n",
      "8\n"
     ]
    }
   ],
   "source": [
    "for num in range(2,10,3):\n",
    "    print(num)"
   ]
  },
  {
   "cell_type": "markdown",
   "metadata": {},
   "source": [
    "7. Define e imprime un rango que empiece en 2, aumentando cada paso por 3, que pare antes de llegar al número 13."
   ]
  },
  {
   "cell_type": "code",
   "execution_count": 20,
   "metadata": {},
   "outputs": [
    {
     "name": "stdout",
     "output_type": "stream",
     "text": [
      "2\n",
      "5\n",
      "8\n",
      "11\n"
     ]
    }
   ],
   "source": [
    "for num in range(2,12,3):\n",
    "    print(num)"
   ]
  },
  {
   "cell_type": "markdown",
   "metadata": {},
   "source": [
    "8. Define e imprime un rango con todos los valores impares que hay hasta 10."
   ]
  },
  {
   "cell_type": "code",
   "execution_count": 21,
   "metadata": {},
   "outputs": [
    {
     "name": "stdout",
     "output_type": "stream",
     "text": [
      "1\n",
      "3\n",
      "5\n",
      "7\n",
      "9\n"
     ]
    }
   ],
   "source": [
    "for n in range(0,10):\n",
    "    if n%2 !=0:\n",
    "        print(n)"
   ]
  },
  {
   "cell_type": "markdown",
   "metadata": {},
   "source": [
    "9. Crea una lista nueva donde tengamos los números de la lista `temperaturas` elevados al cuadrado."
   ]
  },
  {
   "cell_type": "code",
   "execution_count": 24,
   "metadata": {},
   "outputs": [
    {
     "name": "stdout",
     "output_type": "stream",
     "text": [
      "[4, 2025, 4489, 529, 2025, 4356, 144, 1, 1156, 4489, 9801, 9604, 4489, 4096, 1936, 10000]\n"
     ]
    }
   ],
   "source": [
    "temperaturas = [2,45,67,23, 45,66,12,1,34,67,99,98,67,64, 44, 100]\n",
    "temperaturas_2 = [temp ** 2 for temp in temperaturas]\n",
    "print(temperaturas_2)"
   ]
  },
  {
   "cell_type": "markdown",
   "metadata": {},
   "source": [
    "10. Crea una lista nueva donde tengamos el resto de la división de cada uno de los números entre 2. "
   ]
  },
  {
   "cell_type": "code",
   "execution_count": 25,
   "metadata": {},
   "outputs": [
    {
     "name": "stdout",
     "output_type": "stream",
     "text": [
      "[1, 22, 33, 11, 22, 33, 6, 0, 17, 33, 49, 49, 33, 32, 22, 50]\n"
     ]
    }
   ],
   "source": [
    "temperaturas = [2,45,67,23, 45,66,12,1,34,67,99,98,67,64, 44, 100]\n",
    "temperaturas_3 = [temp // 2 for temp in temperaturas]\n",
    "print(temperaturas_3)"
   ]
  },
  {
   "cell_type": "markdown",
   "metadata": {},
   "source": [
    "11. Crea una lista nueva donde tengamos solo los elementos pares de la lista `temperaturas`"
   ]
  },
  {
   "cell_type": "code",
   "execution_count": 27,
   "metadata": {},
   "outputs": [
    {
     "name": "stdout",
     "output_type": "stream",
     "text": [
      "[2, 66, 12, 34, 98, 64, 44, 100]\n"
     ]
    }
   ],
   "source": [
    "temperaturas = [2,45,67,23, 45,66,12,1,34,67,99,98,67,64, 44, 100]\n",
    "temperaturas_par = []\n",
    "for temp in temperaturas:\n",
    "    if temp%2 ==0:\n",
    "        temperaturas_par.append(temp)\n",
    "print(temperaturas_par)"
   ]
  },
  {
   "cell_type": "markdown",
   "metadata": {},
   "source": [
    "12. Crea una lista nueva donde tengamos solo los elementos que sean menores que 50. \n"
   ]
  },
  {
   "cell_type": "code",
   "execution_count": 28,
   "metadata": {},
   "outputs": [
    {
     "name": "stdout",
     "output_type": "stream",
     "text": [
      "[2, 45, 23, 45, 12, 1, 34, 44]\n"
     ]
    }
   ],
   "source": [
    "temperaturas = [2,45,67,23, 45,66,12,1,34,67,99,98,67,64, 44, 100]\n",
    "nueva_lista_temp = []\n",
    "for temp in temperaturas:\n",
    "    if temp < 50:\n",
    "        nueva_lista_temp.append(temp)\n",
    "print(nueva_lista_temp)"
   ]
  },
  {
   "cell_type": "markdown",
   "metadata": {},
   "source": [
    "13. Crea una lista donde tengamos los valores \"par\" e \"impar\" en función de los valores de la lista original. La lista resultante tiene que ser como la que indicamos a continuación: \n",
    "\n",
    "    ```python\n",
    "    lista_strings = [\"par\",\"impar\",\"impar\",\"impar\", \"impar\",\"par\",\"par\",\"impar\",\"par\",\"impar\",\"impar\",\"par\",\"impar\",\"par\", \"par\", \"par\"]\n",
    "    ```"
   ]
  },
  {
   "cell_type": "code",
   "execution_count": 29,
   "metadata": {},
   "outputs": [
    {
     "name": "stdout",
     "output_type": "stream",
     "text": [
      "['par', 'impar', 'impar', 'impar', 'impar', 'par', 'par', 'impar', 'par', 'impar', 'impar', 'par', 'impar', 'par', 'par', 'par']\n"
     ]
    }
   ],
   "source": [
    "temperaturas = [2,45,67,23, 45,66,12,1,34,67,99,98,67,64, 44, 100]\n",
    "lista_strings = [\"par\" if temp % 2 == 0 else \"impar\" for temp in temperaturas]\n",
    "print(lista_strings)"
   ]
  },
  {
   "cell_type": "markdown",
   "metadata": {},
   "source": [
    "14. Pide al usuario un número entero positivo y suma los números pares e impares por separado hasta ese número."
   ]
  },
  {
   "cell_type": "code",
   "execution_count": 30,
   "metadata": {},
   "outputs": [
    {
     "name": "stdout",
     "output_type": "stream",
     "text": [
      "Suma de los números pares: 240\n",
      "Suma de los números impares: 225\n"
     ]
    }
   ],
   "source": [
    "# Solicitar al usuario un número entero positivo\n",
    "numero = int(input(\"Introduce un número entero positivo: \"))\n",
    "\n",
    "# Inicializar las sumas para los pares e impares\n",
    "suma_pares = 0\n",
    "suma_impares = 0\n",
    "\n",
    "# Recorrer los números desde 1 hasta el número ingresado\n",
    "for i in range(1, numero + 1):\n",
    "    if i % 2 == 0:\n",
    "        suma_pares += i  # Si el número es par, se suma a suma_pares\n",
    "    else:\n",
    "        suma_impares += i  # Si es impar, se suma a suma_impares\n",
    "\n",
    "# Mostrar los resultados\n",
    "print(f\"Suma de los números pares: {suma_pares}\")\n",
    "print(f\"Suma de los números impares: {suma_impares}\")\n",
    "\n"
   ]
  },
  {
   "cell_type": "markdown",
   "metadata": {},
   "source": [
    "15. Pide al usuario ingresar una cadena y cuenta cuántas veces aparece cada vocal (a, e, i, o, u) en la cadena."
   ]
  },
  {
   "cell_type": "code",
   "execution_count": 31,
   "metadata": {},
   "outputs": [
    {
     "name": "stdout",
     "output_type": "stream",
     "text": [
      "La vocal 'a' aparece 3 veces.\n",
      "La vocal 'e' aparece 1 veces.\n",
      "La vocal 'i' aparece 1 veces.\n",
      "La vocal 'o' aparece 2 veces.\n",
      "La vocal 'u' aparece 1 veces.\n"
     ]
    }
   ],
   "source": [
    "# Solicitar al usuario que ingrese una cadena\n",
    "cadena = input(\"Introduce una cadena de texto: \").lower()  # Convertimos a minúsculas para facilitar la búsqueda\n",
    "\n",
    "# Inicializar un diccionario para contar las vocales\n",
    "vocales = {\"a\": 0, \"e\": 0, \"i\": 0, \"o\": 0, \"u\": 0}\n",
    "\n",
    "# Recorrer cada carácter de la cadena\n",
    "for char in cadena:\n",
    "    if char in vocales:\n",
    "        vocales[char] += 1  # Incrementar el contador de la vocal correspondiente\n",
    "\n",
    "# Mostrar los resultados\n",
    "for vocal, count in vocales.items():\n",
    "    print(f\"La vocal '{vocal}' aparece {count} veces.\")\n"
   ]
  }
 ],
 "metadata": {
  "kernelspec": {
   "display_name": "Python 3",
   "language": "python",
   "name": "python3"
  },
  "language_info": {
   "codemirror_mode": {
    "name": "ipython",
    "version": 3
   },
   "file_extension": ".py",
   "mimetype": "text/x-python",
   "name": "python",
   "nbconvert_exporter": "python",
   "pygments_lexer": "ipython3",
   "version": "3.9.6"
  }
 },
 "nbformat": 4,
 "nbformat_minor": 2
}
