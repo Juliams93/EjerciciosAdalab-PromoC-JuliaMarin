{
 "cells": [
  {
   "cell_type": "code",
   "execution_count": 14,
   "metadata": {},
   "outputs": [],
   "source": [
    "import requests\n",
    "import pandas as pd"
   ]
  },
  {
   "cell_type": "code",
   "execution_count": 15,
   "metadata": {},
   "outputs": [],
   "source": [
    "api_key = \"7fbf2dc6-d2a3-46ee-b8f1-6e370afe92b1\""
   ]
  },
  {
   "cell_type": "code",
   "execution_count": 29,
   "metadata": {},
   "outputs": [
    {
     "data": {
      "text/plain": [
       "200"
      ]
     },
     "execution_count": 29,
     "metadata": {},
     "output_type": "execute_result"
    }
   ],
   "source": [
    "url = f\"https://api.balldontlie.io/v1/players\"\n",
    "\n",
    "#llamada = requests.get(\"https://api.balldontlie.io/v1/players\")\n",
    "headers = {\n",
    "    \"Authorization\": api_key\n",
    "}\n",
    "llamada = requests.get(url, headers=headers)\n",
    "\n",
    "llamada.status_code"
   ]
  },
  {
   "cell_type": "code",
   "execution_count": 30,
   "metadata": {},
   "outputs": [
    {
     "data": {
      "text/html": [
       "<div>\n",
       "<style scoped>\n",
       "    .dataframe tbody tr th:only-of-type {\n",
       "        vertical-align: middle;\n",
       "    }\n",
       "\n",
       "    .dataframe tbody tr th {\n",
       "        vertical-align: top;\n",
       "    }\n",
       "\n",
       "    .dataframe thead th {\n",
       "        text-align: right;\n",
       "    }\n",
       "</style>\n",
       "<table border=\"1\" class=\"dataframe\">\n",
       "  <thead>\n",
       "    <tr style=\"text-align: right;\">\n",
       "      <th></th>\n",
       "      <th>0</th>\n",
       "    </tr>\n",
       "  </thead>\n",
       "  <tbody>\n",
       "    <tr>\n",
       "      <th>0</th>\n",
       "      <td>b'{\"data\":[{\"id\":1,\"first_name\":\"Alex\",\"last_n...</td>\n",
       "    </tr>\n",
       "    <tr>\n",
       "      <th>1</th>\n",
       "      <td>b'lege\":\"FC Barcelona\",\"country\":\"Spain\",\"draf...</td>\n",
       "    </tr>\n",
       "    <tr>\n",
       "      <th>2</th>\n",
       "      <td>b'division\":\"Northwest\",\"city\":\"Oklahoma City\"...</td>\n",
       "    </tr>\n",
       "    <tr>\n",
       "      <th>3</th>\n",
       "      <td>b',\"first_name\":\"Jaylen\",\"last_name\":\"Adams\",\"...</td>\n",
       "    </tr>\n",
       "    <tr>\n",
       "      <th>4</th>\n",
       "      <td>b'venture\",\"country\":\"USA\",\"draft_year\":null,\"...</td>\n",
       "    </tr>\n",
       "    <tr>\n",
       "      <th>...</th>\n",
       "      <td>...</td>\n",
       "    </tr>\n",
       "    <tr>\n",
       "      <th>66</th>\n",
       "      <td>b'd\":1,\"draft_number\":2,\"team\":{\"id\":30,\"confe...</td>\n",
       "    </tr>\n",
       "    <tr>\n",
       "      <th>67</th>\n",
       "      <td>b'\":\"Washington Wizards\",\"abbreviation\":\"WAS\"}...</td>\n",
       "    </tr>\n",
       "    <tr>\n",
       "      <th>68</th>\n",
       "      <td>b'ght\":\"220\",\"jersey_number\":\"31\",\"college\":\"W...</td>\n",
       "    </tr>\n",
       "    <tr>\n",
       "      <th>69</th>\n",
       "      <td>b'll,\"team\":{\"id\":20,\"conference\":\"East\",\"divi...</td>\n",
       "    </tr>\n",
       "    <tr>\n",
       "      <th>70</th>\n",
       "      <td>b'breviation\":\"NYK\"}}],\"meta\":{\"next_cursor\":2...</td>\n",
       "    </tr>\n",
       "  </tbody>\n",
       "</table>\n",
       "<p>71 rows × 1 columns</p>\n",
       "</div>"
      ],
      "text/plain": [
       "                                                    0\n",
       "0   b'{\"data\":[{\"id\":1,\"first_name\":\"Alex\",\"last_n...\n",
       "1   b'lege\":\"FC Barcelona\",\"country\":\"Spain\",\"draf...\n",
       "2   b'division\":\"Northwest\",\"city\":\"Oklahoma City\"...\n",
       "3   b',\"first_name\":\"Jaylen\",\"last_name\":\"Adams\",\"...\n",
       "4   b'venture\",\"country\":\"USA\",\"draft_year\":null,\"...\n",
       "..                                                ...\n",
       "66  b'd\":1,\"draft_number\":2,\"team\":{\"id\":30,\"confe...\n",
       "67  b'\":\"Washington Wizards\",\"abbreviation\":\"WAS\"}...\n",
       "68  b'ght\":\"220\",\"jersey_number\":\"31\",\"college\":\"W...\n",
       "69  b'll,\"team\":{\"id\":20,\"conference\":\"East\",\"divi...\n",
       "70  b'breviation\":\"NYK\"}}],\"meta\":{\"next_cursor\":2...\n",
       "\n",
       "[71 rows x 1 columns]"
      ]
     },
     "execution_count": 30,
     "metadata": {},
     "output_type": "execute_result"
    }
   ],
   "source": [
    "contenido = llamada.json()\n",
    "contenido\n",
    "\n",
    "'''url_datos = requests.get(url).json().get('datos')'''\n",
    "\n",
    "df_basket = pd.DataFrame(llamada)\n",
    "df_basket"
   ]
  },
  {
   "cell_type": "code",
   "execution_count": null,
   "metadata": {},
   "outputs": [],
   "source": []
  }
 ],
 "metadata": {
  "kernelspec": {
   "display_name": "base",
   "language": "python",
   "name": "python3"
  },
  "language_info": {
   "codemirror_mode": {
    "name": "ipython",
    "version": 3
   },
   "file_extension": ".py",
   "mimetype": "text/x-python",
   "name": "python",
   "nbconvert_exporter": "python",
   "pygments_lexer": "ipython3",
   "version": "3.11.9"
  }
 },
 "nbformat": 4,
 "nbformat_minor": 2
}
