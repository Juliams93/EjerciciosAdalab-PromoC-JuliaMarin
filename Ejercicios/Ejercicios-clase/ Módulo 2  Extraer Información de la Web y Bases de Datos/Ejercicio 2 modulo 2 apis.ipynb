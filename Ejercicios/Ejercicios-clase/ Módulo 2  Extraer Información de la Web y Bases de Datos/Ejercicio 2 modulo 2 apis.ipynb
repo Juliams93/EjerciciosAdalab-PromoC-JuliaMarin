{
 "cells": [
  {
   "cell_type": "markdown",
   "metadata": {},
   "source": [
    " ## Pair APIs\n",
    "2. Obtener datos energéticos usando la API de Red Eléctrica.Descripción: La empresa para la que trabajamos dispone de una base de datos que contieneinformación sobre el número de personas censadas en las distintas Comunidades Autónomasespañolas desde 1998 hasta 2022. El objetivo es enriquecer estos datos con información sobre lageneración de energía renovable y no renovable, utilizando la API de REData, la cual proporcionainformación sobre el mercado energético en España. "
   ]
  },
  {
   "cell_type": "code",
   "execution_count": 24,
   "metadata": {},
   "outputs": [],
   "source": [
    "import requests\n",
    "import pandas as pd\n",
    "from datetime import datetime, timedelta"
   ]
  },
  {
   "cell_type": "code",
   "execution_count": 29,
   "metadata": {},
   "outputs": [
    {
     "name": "stdout",
     "output_type": "stream",
     "text": [
      "                             fecha      tipo_energia         renovable  \\\n",
      "0    2022-01-01T00:00:00.000+01:00        Hidráulica         Renovable   \n",
      "1    2022-02-01T00:00:00.000+01:00        Hidráulica         Renovable   \n",
      "2    2022-03-01T00:00:00.000+01:00        Hidráulica         Renovable   \n",
      "3    2022-04-01T00:00:00.000+02:00        Hidráulica         Renovable   \n",
      "4    2022-05-01T00:00:00.000+02:00        Hidráulica         Renovable   \n",
      "..                             ...               ...               ...   \n",
      "201  2022-08-01T00:00:00.000+02:00  Generación total  Generación total   \n",
      "202  2022-09-01T00:00:00.000+02:00  Generación total  Generación total   \n",
      "203  2022-10-01T00:00:00.000+02:00  Generación total  Generación total   \n",
      "204  2022-11-01T00:00:00.000+01:00  Generación total  Generación total   \n",
      "205  2022-12-01T00:00:00.000+01:00  Generación total  Generación total   \n",
      "\n",
      "       generacion  \n",
      "0    2.085857e+06  \n",
      "1    1.174970e+06  \n",
      "2    1.775478e+06  \n",
      "3    1.802752e+06  \n",
      "4    1.923715e+06  \n",
      "..            ...  \n",
      "201  2.528589e+07  \n",
      "202  2.366621e+07  \n",
      "203  2.195664e+07  \n",
      "204  2.152262e+07  \n",
      "205  2.223077e+07  \n",
      "\n",
      "[206 rows x 4 columns]\n"
     ]
    }
   ],
   "source": [
    "\n",
    "\n",
    "\n",
    "# Función para obtener datos de energía renovable y no renovable\n",
    "def obtener_datos():\n",
    "    url_red_data = \"https://apidatos.ree.es/es/datos/generacion/estructura-generacion\"  \n",
    "\n",
    "     # Rango de años de interés\n",
    "    for año in range(2011, 2023):  \n",
    "        # Definir inicio y fin del año actual\n",
    "        inicio = datetime(año, 1, 1, 0, 0)\n",
    "        fin = datetime(año, 12, 31, 23, 59)\n",
    "    params = {\n",
    "        \"start_date\": inicio.isoformat('T'),\n",
    "        \"end_date\": fin.isoformat('T'),\n",
    "        \"time_trunc\": \"month\",  # Frecuencia mensual\n",
    "    }\n",
    "\n",
    "    datos_energia = []\n",
    "    response = requests.get(url_red_data, params=params)\n",
    "    if response.status_code == 200:\n",
    "        data = response.json()\n",
    "        for registro in data[\"included\"]:\n",
    "            for month in registro[\"attributes\"][\"values\"]:\n",
    "                datos_energia.append({\n",
    "                    \"fecha\": month[\"datetime\"],\n",
    "                    \"tipo_energia\": registro[\"attributes\"][\"title\"],\n",
    "                    \"renovable\": registro[\"attributes\"][\"type\"],\n",
    "                    \"generacion\": month[\"value\"]\n",
    "                })\n",
    "    else:\n",
    "        print(f\"Error en solicitud: {response.status_code} para fechas {inicio} - {fin}\")\n",
    "\n",
    "    # Convertir datos a DataFrame\n",
    "    df_energia = pd.DataFrame(datos_energia)\n",
    "    return df_energia\n",
    "\n",
    "# Ejecutar la función y obtener datos\n",
    "df_energia = obtener_datos()\n",
    "\n",
    "print(df_energia.head())\n"
   ]
  }
 ],
 "metadata": {
  "kernelspec": {
   "display_name": "base",
   "language": "python",
   "name": "python3"
  },
  "language_info": {
   "codemirror_mode": {
    "name": "ipython",
    "version": 3
   },
   "file_extension": ".py",
   "mimetype": "text/x-python",
   "name": "python",
   "nbconvert_exporter": "python",
   "pygments_lexer": "ipython3",
   "version": "3.11.9"
  }
 },
 "nbformat": 4,
 "nbformat_minor": 2
}
