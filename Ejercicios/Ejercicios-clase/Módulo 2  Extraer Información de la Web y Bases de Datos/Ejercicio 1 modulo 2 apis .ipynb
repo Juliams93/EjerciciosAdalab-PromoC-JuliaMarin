{
 "cells": [
  {
   "cell_type": "code",
   "execution_count": 79,
   "metadata": {},
   "outputs": [],
   "source": [
    "import requests\n",
    "import pandas as pd"
   ]
  },
  {
   "cell_type": "code",
   "execution_count": 80,
   "metadata": {},
   "outputs": [],
   "source": [
    "api_key = \"7fbf2dc6-d2a3-46ee-b8f1-6e370afe92b1\""
   ]
  },
  {
   "cell_type": "code",
   "execution_count": 86,
   "metadata": {},
   "outputs": [],
   "source": [
    "def obtener_jugadores():\n",
    "    jugadores = []\n",
    "    url = \"https://api.balldontlie.io/v1/players\"\n",
    "\n",
    "    headers = {\n",
    "    \"Authorization\": api_key\n",
    "    }\n",
    "    for page in range(1, 3):  # Dos solicitudes para obtener 200 jugadores\n",
    "        params = {\n",
    "            \"per_page\": 100,\n",
    "            \"page\": page\n",
    "        }\n",
    "        response = requests.get(url, headers=headers, params=params)\n",
    "        if response.status_code == 200:\n",
    "            data = response.json()\n",
    "            for player in data['data']:\n",
    "                jugador_info = {\n",
    "                    \"nombre\": player['first_name'],\n",
    "                    \"apellido\": player['last_name'],\n",
    "                    \"equipo\": player['team']['full_name']\n",
    "                }\n",
    "                jugadores.append(jugador_info)\n",
    "\n",
    "        else:\n",
    "            print(f\"Error al obtener jugadores: {response.status_code}\")\n",
    "    \n",
    "    # Crear DataFrame\n",
    "    df_jugadores = pd.DataFrame(jugadores)\n",
    "    return df_jugadores\n",
    "\n",
    "# Función para obtener equipos\n",
    "def obtener_equipos():\n",
    "    url = \"https://api.balldontlie.io/v1/teams\"\n",
    "    headers = {\n",
    "    \"Authorization\": api_key\n",
    "    }\n",
    "    response = requests.get(url,headers=headers)\n",
    "    equipos = []\n",
    "    if response.status_code == 200:\n",
    "        data = response.json()\n",
    "        for team in data['data']:\n",
    "            equipo_info = {\n",
    "                \"nombre\": team['full_name'],\n",
    "                \"abreviacion\": team['abbreviation'],\n",
    "                \"ciudad\": team['city'],\n",
    "                \"conferencia\": team['conference']\n",
    "            }\n",
    "            equipos.append(equipo_info)\n",
    "        # Crear DataFrame si hay datos\n",
    "        df_equipos = pd.DataFrame(equipos)\n",
    "    else:\n",
    "        # Si la solicitud falla, imprime el error y devuelve un DataFrame vacío\n",
    "        print(f\"Error al obtener equipos: {response.status_code}\")\n",
    "        df_equipos = pd.DataFrame()  # DataFrame vacío si hay error\n",
    "    \n",
    "    return df_equipos"
   ]
  },
  {
   "cell_type": "code",
   "execution_count": 87,
   "metadata": {},
   "outputs": [
    {
     "name": "stdout",
     "output_type": "stream",
     "text": [
      "Jugadores:\n",
      "     nombre       apellido                 equipo\n",
      "0      Alex        Abrines  Oklahoma City Thunder\n",
      "1    Jaylen          Adams          Atlanta Hawks\n",
      "2    Steven          Adams        Houston Rockets\n",
      "3       Bam        Adebayo             Miami Heat\n",
      "4  DeVaughn  Akoon-Purcell         Denver Nuggets\n",
      "\n",
      "Equipos:\n",
      "              nombre abreviacion     ciudad conferencia\n",
      "0      Atlanta Hawks         ATL    Atlanta        East\n",
      "1     Boston Celtics         BOS     Boston        East\n",
      "2      Brooklyn Nets         BKN   Brooklyn        East\n",
      "3  Charlotte Hornets         CHA  Charlotte        East\n",
      "4      Chicago Bulls         CHI    Chicago        East\n"
     ]
    }
   ],
   "source": [
    "\n",
    "# Ejecutar las funciones\n",
    "df_jugadores = obtener_jugadores()\n",
    "df_equipos = obtener_equipos()\n",
    "\n",
    "print(\"Jugadores:\")\n",
    "print(df_jugadores.head())\n",
    "print(\"\\nEquipos:\")\n",
    "print(df_equipos.head())\n"
   ]
  }
 ],
 "metadata": {
  "kernelspec": {
   "display_name": "base",
   "language": "python",
   "name": "python3"
  },
  "language_info": {
   "codemirror_mode": {
    "name": "ipython",
    "version": 3
   },
   "file_extension": ".py",
   "mimetype": "text/x-python",
   "name": "python",
   "nbconvert_exporter": "python",
   "pygments_lexer": "ipython3",
   "version": "3.11.9"
  }
 },
 "nbformat": 4,
 "nbformat_minor": 2
}
