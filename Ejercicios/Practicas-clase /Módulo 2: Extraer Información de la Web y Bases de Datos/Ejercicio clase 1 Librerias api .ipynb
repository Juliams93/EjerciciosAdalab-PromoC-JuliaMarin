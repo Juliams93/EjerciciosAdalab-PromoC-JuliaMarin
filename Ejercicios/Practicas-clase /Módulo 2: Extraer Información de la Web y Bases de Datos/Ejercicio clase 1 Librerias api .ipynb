{
 "cells": [
  {
   "cell_type": "code",
   "execution_count": 1,
   "metadata": {},
   "outputs": [],
   "source": [
    "# 1. Instalar librerías:\n",
    "\n",
    "import requests\n",
    "import pandas as pd"
   ]
  },
  {
   "cell_type": "code",
   "execution_count": 2,
   "metadata": {},
   "outputs": [
    {
     "data": {
      "text/plain": [
       "<Response [200]>"
      ]
     },
     "execution_count": 2,
     "metadata": {},
     "output_type": "execute_result"
    }
   ],
   "source": [
    "url = 'https://pokeapi.co/api/v2/pokemon-color/'\n",
    "\n",
    "llamada = requests.get(url)\n",
    "llamada"
   ]
  },
  {
   "cell_type": "code",
   "execution_count": 3,
   "metadata": {},
   "outputs": [
    {
     "name": "stdout",
     "output_type": "stream",
     "text": [
      "200\n",
      "OK\n",
      "b'{\"count\":10,\"next\":null,\"previous\":null,\"results\":[{\"name\":\"black\",\"url\":\"https://pokeapi.co/api/v2/pokemon-color/1/\"},{\"name\":\"blue\",\"url\":\"https://pokeapi.co/api/v2/pokemon-color/2/\"},{\"name\":\"brown\",\"url\":\"https://pokeapi.co/api/v2/pokemon-color/3/\"},{\"name\":\"gray\",\"url\":\"https://pokeapi.co/api/v2/pokemon-color/4/\"},{\"name\":\"green\",\"url\":\"https://pokeapi.co/api/v2/pokemon-color/5/\"},{\"name\":\"pink\",\"url\":\"https://pokeapi.co/api/v2/pokemon-color/6/\"},{\"name\":\"purple\",\"url\":\"https://pokeapi.co/api/v2/pokemon-color/7/\"},{\"name\":\"red\",\"url\":\"https://pokeapi.co/api/v2/pokemon-color/8/\"},{\"name\":\"white\",\"url\":\"https://pokeapi.co/api/v2/pokemon-color/9/\"},{\"name\":\"yellow\",\"url\":\"https://pokeapi.co/api/v2/pokemon-color/10/\"}]}'\n"
     ]
    }
   ],
   "source": [
    "print(llamada.status_code)\n",
    "print(llamada.reason)\n",
    "print(llamada.content)"
   ]
  },
  {
   "cell_type": "code",
   "execution_count": 4,
   "metadata": {},
   "outputs": [
    {
     "data": {
      "text/plain": [
       "{'count': 10,\n",
       " 'next': None,\n",
       " 'previous': None,\n",
       " 'results': [{'name': 'black',\n",
       "   'url': 'https://pokeapi.co/api/v2/pokemon-color/1/'},\n",
       "  {'name': 'blue', 'url': 'https://pokeapi.co/api/v2/pokemon-color/2/'},\n",
       "  {'name': 'brown', 'url': 'https://pokeapi.co/api/v2/pokemon-color/3/'},\n",
       "  {'name': 'gray', 'url': 'https://pokeapi.co/api/v2/pokemon-color/4/'},\n",
       "  {'name': 'green', 'url': 'https://pokeapi.co/api/v2/pokemon-color/5/'},\n",
       "  {'name': 'pink', 'url': 'https://pokeapi.co/api/v2/pokemon-color/6/'},\n",
       "  {'name': 'purple', 'url': 'https://pokeapi.co/api/v2/pokemon-color/7/'},\n",
       "  {'name': 'red', 'url': 'https://pokeapi.co/api/v2/pokemon-color/8/'},\n",
       "  {'name': 'white', 'url': 'https://pokeapi.co/api/v2/pokemon-color/9/'},\n",
       "  {'name': 'yellow', 'url': 'https://pokeapi.co/api/v2/pokemon-color/10/'}]}"
      ]
     },
     "execution_count": 4,
     "metadata": {},
     "output_type": "execute_result"
    }
   ],
   "source": [
    "llamada.json()"
   ]
  },
  {
   "cell_type": "code",
   "execution_count": null,
   "metadata": {},
   "outputs": [],
   "source": [
    "# Instalar las librerías\n",
    "# Leer documentación y detectar el endpoint necesario.\n",
    "# Hacer la llamada con la librería requests y extraer el contenido en formato json\n",
    "# Si todo va bien, manipular los datos para extraer la info necesaria."
   ]
  },
  {
   "cell_type": "code",
   "execution_count": 3,
   "metadata": {},
   "outputs": [
    {
     "data": {
      "text/plain": [
       "<Response [200]>"
      ]
     },
     "execution_count": 3,
     "metadata": {},
     "output_type": "execute_result"
    }
   ],
   "source": [
    "url = 'https://pokeapi.co/api/v2/pokemon-color/black'\n",
    "\n",
    "llamada = requests.get(url)\n",
    "llamada"
   ]
  },
  {
   "cell_type": "code",
   "execution_count": 4,
   "metadata": {},
   "outputs": [
    {
     "data": {
      "text/plain": [
       "{'id': 1,\n",
       " 'name': 'black',\n",
       " 'names': [{'language': {'name': 'ja-Hrkt',\n",
       "    'url': 'https://pokeapi.co/api/v2/language/1/'},\n",
       "   'name': 'くろいろ'},\n",
       "  {'language': {'name': 'ko', 'url': 'https://pokeapi.co/api/v2/language/3/'},\n",
       "   'name': '검정'},\n",
       "  {'language': {'name': 'zh-Hant',\n",
       "    'url': 'https://pokeapi.co/api/v2/language/4/'},\n",
       "   'name': '黑色'},\n",
       "  {'language': {'name': 'fr', 'url': 'https://pokeapi.co/api/v2/language/5/'},\n",
       "   'name': 'Noir'},\n",
       "  {'language': {'name': 'de', 'url': 'https://pokeapi.co/api/v2/language/6/'},\n",
       "   'name': 'Schwarz'},\n",
       "  {'language': {'name': 'es', 'url': 'https://pokeapi.co/api/v2/language/7/'},\n",
       "   'name': 'Negro'},\n",
       "  {'language': {'name': 'it', 'url': 'https://pokeapi.co/api/v2/language/8/'},\n",
       "   'name': 'Nero'},\n",
       "  {'language': {'name': 'en', 'url': 'https://pokeapi.co/api/v2/language/9/'},\n",
       "   'name': 'Black'},\n",
       "  {'language': {'name': 'ja', 'url': 'https://pokeapi.co/api/v2/language/11/'},\n",
       "   'name': '黒色'},\n",
       "  {'language': {'name': 'zh-Hans',\n",
       "    'url': 'https://pokeapi.co/api/v2/language/12/'},\n",
       "   'name': '黑色'}],\n",
       " 'pokemon_species': [{'name': 'snorlax',\n",
       "   'url': 'https://pokeapi.co/api/v2/pokemon-species/143/'},\n",
       "  {'name': 'murkrow', 'url': 'https://pokeapi.co/api/v2/pokemon-species/198/'},\n",
       "  {'name': 'unown', 'url': 'https://pokeapi.co/api/v2/pokemon-species/201/'},\n",
       "  {'name': 'sneasel', 'url': 'https://pokeapi.co/api/v2/pokemon-species/215/'},\n",
       "  {'name': 'umbreon', 'url': 'https://pokeapi.co/api/v2/pokemon-species/197/'},\n",
       "  {'name': 'houndour',\n",
       "   'url': 'https://pokeapi.co/api/v2/pokemon-species/228/'},\n",
       "  {'name': 'mawile', 'url': 'https://pokeapi.co/api/v2/pokemon-species/303/'},\n",
       "  {'name': 'spoink', 'url': 'https://pokeapi.co/api/v2/pokemon-species/325/'},\n",
       "  {'name': 'seviper', 'url': 'https://pokeapi.co/api/v2/pokemon-species/336/'},\n",
       "  {'name': 'shuppet', 'url': 'https://pokeapi.co/api/v2/pokemon-species/353/'},\n",
       "  {'name': 'duskull', 'url': 'https://pokeapi.co/api/v2/pokemon-species/355/'},\n",
       "  {'name': 'chatot', 'url': 'https://pokeapi.co/api/v2/pokemon-species/441/'},\n",
       "  {'name': 'munchlax',\n",
       "   'url': 'https://pokeapi.co/api/v2/pokemon-species/446/'},\n",
       "  {'name': 'giratina',\n",
       "   'url': 'https://pokeapi.co/api/v2/pokemon-species/487/'},\n",
       "  {'name': 'darkrai', 'url': 'https://pokeapi.co/api/v2/pokemon-species/491/'},\n",
       "  {'name': 'blitzle', 'url': 'https://pokeapi.co/api/v2/pokemon-species/522/'},\n",
       "  {'name': 'sigilyph',\n",
       "   'url': 'https://pokeapi.co/api/v2/pokemon-species/561/'},\n",
       "  {'name': 'yamask', 'url': 'https://pokeapi.co/api/v2/pokemon-species/562/'},\n",
       "  {'name': 'zekrom', 'url': 'https://pokeapi.co/api/v2/pokemon-species/644/'},\n",
       "  {'name': 'scatterbug',\n",
       "   'url': 'https://pokeapi.co/api/v2/pokemon-species/664/'},\n",
       "  {'name': 'pikipek', 'url': 'https://pokeapi.co/api/v2/pokemon-species/731/'},\n",
       "  {'name': 'salandit',\n",
       "   'url': 'https://pokeapi.co/api/v2/pokemon-species/757/'},\n",
       "  {'name': 'trumbeak',\n",
       "   'url': 'https://pokeapi.co/api/v2/pokemon-species/732/'},\n",
       "  {'name': 'toucannon',\n",
       "   'url': 'https://pokeapi.co/api/v2/pokemon-species/733/'},\n",
       "  {'name': 'pyukumuku',\n",
       "   'url': 'https://pokeapi.co/api/v2/pokemon-species/771/'},\n",
       "  {'name': 'xurkitree',\n",
       "   'url': 'https://pokeapi.co/api/v2/pokemon-species/796/'},\n",
       "  {'name': 'guzzlord',\n",
       "   'url': 'https://pokeapi.co/api/v2/pokemon-species/799/'},\n",
       "  {'name': 'necrozma',\n",
       "   'url': 'https://pokeapi.co/api/v2/pokemon-species/800/'},\n",
       "  {'name': 'rolycoly',\n",
       "   'url': 'https://pokeapi.co/api/v2/pokemon-species/837/'},\n",
       "  {'name': 'spectrier',\n",
       "   'url': 'https://pokeapi.co/api/v2/pokemon-species/897/'},\n",
       "  {'name': 'wattrel', 'url': 'https://pokeapi.co/api/v2/pokemon-species/940/'},\n",
       "  {'name': 'okidogi',\n",
       "   'url': 'https://pokeapi.co/api/v2/pokemon-species/1014/'},\n",
       "  {'name': 'munkidori',\n",
       "   'url': 'https://pokeapi.co/api/v2/pokemon-species/1015/'},\n",
       "  {'name': 'fezandipiti',\n",
       "   'url': 'https://pokeapi.co/api/v2/pokemon-species/1016/'},\n",
       "  {'name': 'houndoom',\n",
       "   'url': 'https://pokeapi.co/api/v2/pokemon-species/229/'},\n",
       "  {'name': 'claydol', 'url': 'https://pokeapi.co/api/v2/pokemon-species/344/'},\n",
       "  {'name': 'banette', 'url': 'https://pokeapi.co/api/v2/pokemon-species/354/'},\n",
       "  {'name': 'dusclops',\n",
       "   'url': 'https://pokeapi.co/api/v2/pokemon-species/356/'},\n",
       "  {'name': 'honchkrow',\n",
       "   'url': 'https://pokeapi.co/api/v2/pokemon-species/430/'},\n",
       "  {'name': 'weavile', 'url': 'https://pokeapi.co/api/v2/pokemon-species/461/'},\n",
       "  {'name': 'dusknoir',\n",
       "   'url': 'https://pokeapi.co/api/v2/pokemon-species/477/'},\n",
       "  {'name': 'zebstrika',\n",
       "   'url': 'https://pokeapi.co/api/v2/pokemon-species/523/'},\n",
       "  {'name': 'lampent', 'url': 'https://pokeapi.co/api/v2/pokemon-species/608/'},\n",
       "  {'name': 'chandelure',\n",
       "   'url': 'https://pokeapi.co/api/v2/pokemon-species/609/'},\n",
       "  {'name': 'spewpa', 'url': 'https://pokeapi.co/api/v2/pokemon-species/665/'},\n",
       "  {'name': 'salazzle',\n",
       "   'url': 'https://pokeapi.co/api/v2/pokemon-species/758/'},\n",
       "  {'name': 'carkol', 'url': 'https://pokeapi.co/api/v2/pokemon-species/838/'},\n",
       "  {'name': 'coalossal',\n",
       "   'url': 'https://pokeapi.co/api/v2/pokemon-species/839/'},\n",
       "  {'name': 'overqwil',\n",
       "   'url': 'https://pokeapi.co/api/v2/pokemon-species/904/'},\n",
       "  {'name': 'toedscruel',\n",
       "   'url': 'https://pokeapi.co/api/v2/pokemon-species/949/'},\n",
       "  {'name': 'kingambit',\n",
       "   'url': 'https://pokeapi.co/api/v2/pokemon-species/983/'}]}"
      ]
     },
     "execution_count": 4,
     "metadata": {},
     "output_type": "execute_result"
    }
   ],
   "source": [
    "llamada.json()"
   ]
  },
  {
   "cell_type": "code",
   "execution_count": 8,
   "metadata": {},
   "outputs": [],
   "source": [
    "\n",
    "def llamar_api(url):\n",
    "    llamada = requests.get(url)\n",
    "    contenido = llamada.json()\n",
    "\n",
    "    return contenido"
   ]
  },
  {
   "cell_type": "code",
   "execution_count": 9,
   "metadata": {},
   "outputs": [
    {
     "ename": "JSONDecodeError",
     "evalue": "Expecting value: line 1 column 1 (char 0)",
     "output_type": "error",
     "traceback": [
      "\u001b[0;31m---------------------------------------------------------------------------\u001b[0m",
      "\u001b[0;31mJSONDecodeError\u001b[0m                           Traceback (most recent call last)",
      "File \u001b[0;32m~/Library/Python/3.9/lib/python/site-packages/requests/models.py:974\u001b[0m, in \u001b[0;36mResponse.json\u001b[0;34m(self, **kwargs)\u001b[0m\n\u001b[1;32m    973\u001b[0m \u001b[38;5;28;01mtry\u001b[39;00m:\n\u001b[0;32m--> 974\u001b[0m     \u001b[38;5;28;01mreturn\u001b[39;00m \u001b[43mcomplexjson\u001b[49m\u001b[38;5;241;43m.\u001b[39;49m\u001b[43mloads\u001b[49m\u001b[43m(\u001b[49m\u001b[38;5;28;43mself\u001b[39;49m\u001b[38;5;241;43m.\u001b[39;49m\u001b[43mtext\u001b[49m\u001b[43m,\u001b[49m\u001b[43m \u001b[49m\u001b[38;5;241;43m*\u001b[39;49m\u001b[38;5;241;43m*\u001b[39;49m\u001b[43mkwargs\u001b[49m\u001b[43m)\u001b[49m\n\u001b[1;32m    975\u001b[0m \u001b[38;5;28;01mexcept\u001b[39;00m JSONDecodeError \u001b[38;5;28;01mas\u001b[39;00m e:\n\u001b[1;32m    976\u001b[0m     \u001b[38;5;66;03m# Catch JSON-related errors and raise as requests.JSONDecodeError\u001b[39;00m\n\u001b[1;32m    977\u001b[0m     \u001b[38;5;66;03m# This aliases json.JSONDecodeError and simplejson.JSONDecodeError\u001b[39;00m\n",
      "File \u001b[0;32m/Library/Developer/CommandLineTools/Library/Frameworks/Python3.framework/Versions/3.9/lib/python3.9/json/__init__.py:346\u001b[0m, in \u001b[0;36mloads\u001b[0;34m(s, cls, object_hook, parse_float, parse_int, parse_constant, object_pairs_hook, **kw)\u001b[0m\n\u001b[1;32m    343\u001b[0m \u001b[38;5;28;01mif\u001b[39;00m (\u001b[38;5;28mcls\u001b[39m \u001b[38;5;129;01mis\u001b[39;00m \u001b[38;5;28;01mNone\u001b[39;00m \u001b[38;5;129;01mand\u001b[39;00m object_hook \u001b[38;5;129;01mis\u001b[39;00m \u001b[38;5;28;01mNone\u001b[39;00m \u001b[38;5;129;01mand\u001b[39;00m\n\u001b[1;32m    344\u001b[0m         parse_int \u001b[38;5;129;01mis\u001b[39;00m \u001b[38;5;28;01mNone\u001b[39;00m \u001b[38;5;129;01mand\u001b[39;00m parse_float \u001b[38;5;129;01mis\u001b[39;00m \u001b[38;5;28;01mNone\u001b[39;00m \u001b[38;5;129;01mand\u001b[39;00m\n\u001b[1;32m    345\u001b[0m         parse_constant \u001b[38;5;129;01mis\u001b[39;00m \u001b[38;5;28;01mNone\u001b[39;00m \u001b[38;5;129;01mand\u001b[39;00m object_pairs_hook \u001b[38;5;129;01mis\u001b[39;00m \u001b[38;5;28;01mNone\u001b[39;00m \u001b[38;5;129;01mand\u001b[39;00m \u001b[38;5;129;01mnot\u001b[39;00m kw):\n\u001b[0;32m--> 346\u001b[0m     \u001b[38;5;28;01mreturn\u001b[39;00m \u001b[43m_default_decoder\u001b[49m\u001b[38;5;241;43m.\u001b[39;49m\u001b[43mdecode\u001b[49m\u001b[43m(\u001b[49m\u001b[43ms\u001b[49m\u001b[43m)\u001b[49m\n\u001b[1;32m    347\u001b[0m \u001b[38;5;28;01mif\u001b[39;00m \u001b[38;5;28mcls\u001b[39m \u001b[38;5;129;01mis\u001b[39;00m \u001b[38;5;28;01mNone\u001b[39;00m:\n",
      "File \u001b[0;32m/Library/Developer/CommandLineTools/Library/Frameworks/Python3.framework/Versions/3.9/lib/python3.9/json/decoder.py:337\u001b[0m, in \u001b[0;36mJSONDecoder.decode\u001b[0;34m(self, s, _w)\u001b[0m\n\u001b[1;32m    333\u001b[0m \u001b[38;5;250m\u001b[39m\u001b[38;5;124;03m\"\"\"Return the Python representation of ``s`` (a ``str`` instance\u001b[39;00m\n\u001b[1;32m    334\u001b[0m \u001b[38;5;124;03mcontaining a JSON document).\u001b[39;00m\n\u001b[1;32m    335\u001b[0m \n\u001b[1;32m    336\u001b[0m \u001b[38;5;124;03m\"\"\"\u001b[39;00m\n\u001b[0;32m--> 337\u001b[0m obj, end \u001b[38;5;241m=\u001b[39m \u001b[38;5;28;43mself\u001b[39;49m\u001b[38;5;241;43m.\u001b[39;49m\u001b[43mraw_decode\u001b[49m\u001b[43m(\u001b[49m\u001b[43ms\u001b[49m\u001b[43m,\u001b[49m\u001b[43m \u001b[49m\u001b[43midx\u001b[49m\u001b[38;5;241;43m=\u001b[39;49m\u001b[43m_w\u001b[49m\u001b[43m(\u001b[49m\u001b[43ms\u001b[49m\u001b[43m,\u001b[49m\u001b[43m \u001b[49m\u001b[38;5;241;43m0\u001b[39;49m\u001b[43m)\u001b[49m\u001b[38;5;241;43m.\u001b[39;49m\u001b[43mend\u001b[49m\u001b[43m(\u001b[49m\u001b[43m)\u001b[49m\u001b[43m)\u001b[49m\n\u001b[1;32m    338\u001b[0m end \u001b[38;5;241m=\u001b[39m _w(s, end)\u001b[38;5;241m.\u001b[39mend()\n",
      "File \u001b[0;32m/Library/Developer/CommandLineTools/Library/Frameworks/Python3.framework/Versions/3.9/lib/python3.9/json/decoder.py:355\u001b[0m, in \u001b[0;36mJSONDecoder.raw_decode\u001b[0;34m(self, s, idx)\u001b[0m\n\u001b[1;32m    354\u001b[0m \u001b[38;5;28;01mexcept\u001b[39;00m \u001b[38;5;167;01mStopIteration\u001b[39;00m \u001b[38;5;28;01mas\u001b[39;00m err:\n\u001b[0;32m--> 355\u001b[0m     \u001b[38;5;28;01mraise\u001b[39;00m JSONDecodeError(\u001b[38;5;124m\"\u001b[39m\u001b[38;5;124mExpecting value\u001b[39m\u001b[38;5;124m\"\u001b[39m, s, err\u001b[38;5;241m.\u001b[39mvalue) \u001b[38;5;28;01mfrom\u001b[39;00m \u001b[38;5;28;01mNone\u001b[39;00m\n\u001b[1;32m    356\u001b[0m \u001b[38;5;28;01mreturn\u001b[39;00m obj, end\n",
      "\u001b[0;31mJSONDecodeError\u001b[0m: Expecting value: line 1 column 1 (char 0)",
      "\nDuring handling of the above exception, another exception occurred:\n",
      "\u001b[0;31mJSONDecodeError\u001b[0m                           Traceback (most recent call last)",
      "Cell \u001b[0;32mIn[9], line 6\u001b[0m\n\u001b[1;32m      3\u001b[0m \u001b[38;5;28;01mfor\u001b[39;00m color \u001b[38;5;129;01min\u001b[39;00m lista_colores:\n\u001b[1;32m      4\u001b[0m     url_colores \u001b[38;5;241m=\u001b[39m\u001b[38;5;124m'\u001b[39m\u001b[38;5;124mhttps://pokeapi.co/api/v2/pokemon-color/\u001b[39m\u001b[38;5;132;01m{color}\u001b[39;00m\u001b[38;5;124m'\u001b[39m\n\u001b[0;32m----> 6\u001b[0m     resultado \u001b[38;5;241m=\u001b[39m \u001b[43mllamar_api\u001b[49m\u001b[43m(\u001b[49m\u001b[43murl_colores\u001b[49m\u001b[43m)\u001b[49m\n\u001b[1;32m      8\u001b[0m     \u001b[38;5;28mprint\u001b[39m(resultado\u001b[38;5;241m.\u001b[39mjson())\n",
      "Cell \u001b[0;32mIn[8], line 5\u001b[0m, in \u001b[0;36mllamar_api\u001b[0;34m(url)\u001b[0m\n\u001b[1;32m      3\u001b[0m \u001b[38;5;28;01mdef\u001b[39;00m \u001b[38;5;21mllamar_api\u001b[39m(url):\n\u001b[1;32m      4\u001b[0m     llamada \u001b[38;5;241m=\u001b[39m requests\u001b[38;5;241m.\u001b[39mget(url)\n\u001b[0;32m----> 5\u001b[0m     contenido \u001b[38;5;241m=\u001b[39m \u001b[43mllamada\u001b[49m\u001b[38;5;241;43m.\u001b[39;49m\u001b[43mjson\u001b[49m\u001b[43m(\u001b[49m\u001b[43m)\u001b[49m\n\u001b[1;32m      7\u001b[0m     \u001b[38;5;28;01mreturn\u001b[39;00m contenido\n",
      "File \u001b[0;32m~/Library/Python/3.9/lib/python/site-packages/requests/models.py:978\u001b[0m, in \u001b[0;36mResponse.json\u001b[0;34m(self, **kwargs)\u001b[0m\n\u001b[1;32m    974\u001b[0m     \u001b[38;5;28;01mreturn\u001b[39;00m complexjson\u001b[38;5;241m.\u001b[39mloads(\u001b[38;5;28mself\u001b[39m\u001b[38;5;241m.\u001b[39mtext, \u001b[38;5;241m*\u001b[39m\u001b[38;5;241m*\u001b[39mkwargs)\n\u001b[1;32m    975\u001b[0m \u001b[38;5;28;01mexcept\u001b[39;00m JSONDecodeError \u001b[38;5;28;01mas\u001b[39;00m e:\n\u001b[1;32m    976\u001b[0m     \u001b[38;5;66;03m# Catch JSON-related errors and raise as requests.JSONDecodeError\u001b[39;00m\n\u001b[1;32m    977\u001b[0m     \u001b[38;5;66;03m# This aliases json.JSONDecodeError and simplejson.JSONDecodeError\u001b[39;00m\n\u001b[0;32m--> 978\u001b[0m     \u001b[38;5;28;01mraise\u001b[39;00m RequestsJSONDecodeError(e\u001b[38;5;241m.\u001b[39mmsg, e\u001b[38;5;241m.\u001b[39mdoc, e\u001b[38;5;241m.\u001b[39mpos)\n",
      "\u001b[0;31mJSONDecodeError\u001b[0m: Expecting value: line 1 column 1 (char 0)"
     ]
    }
   ],
   "source": [
    "diccionario_resultado_color ={'color': [], 'especies': []}\n",
    "lista_colores = ['black', 'blue', 'green']\n",
    "\n",
    "for color in lista_colores:\n",
    "    url_colores ='https://pokeapi.co/api/v2/pokemon-color/{color}'\n",
    "\n",
    "    resultado = llamar_api(url_colores)\n",
    "\n",
    "    diccionario_resultado_color['color'].append()\n",
    "\n"
   ]
  },
  {
   "cell_type": "code",
   "execution_count": null,
   "metadata": {},
   "outputs": [],
   "source": [
    "llamada = requests.get(url, headers=headers, params=params)  # Realiza una solicitud GET a la URL proporcionada y almacena la respuesta en 'llamada'.\n",
    "headers = {\n",
    "    \"Authorization\": api_key\n",
    "}"
   ]
  }
 ],
 "metadata": {
  "kernelspec": {
   "display_name": "base",
   "language": "python",
   "name": "python3"
  },
  "language_info": {
   "codemirror_mode": {
    "name": "ipython",
    "version": 3
   },
   "file_extension": ".py",
   "mimetype": "text/x-python",
   "name": "python",
   "nbconvert_exporter": "python",
   "pygments_lexer": "ipython3",
   "version": "3.11.9"
  }
 },
 "nbformat": 4,
 "nbformat_minor": 2
}
