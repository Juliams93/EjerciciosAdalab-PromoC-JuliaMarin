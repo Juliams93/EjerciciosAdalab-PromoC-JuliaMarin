{
 "cells": [
  {
   "cell_type": "code",
   "execution_count": 1,
   "metadata": {},
   "outputs": [
    {
     "name": "stdout",
     "output_type": "stream",
     "text": [
      "13\n"
     ]
    }
   ],
   "source": [
    "a = 5\n",
    "b = 8\n",
    "\n",
    "suma = a + b\n",
    "print(suma)"
   ]
  },
  {
   "cell_type": "code",
   "execution_count": 2,
   "metadata": {},
   "outputs": [
    {
     "name": "stdout",
     "output_type": "stream",
     "text": [
      "16\n"
     ]
    }
   ],
   "source": [
    "a = 10\n",
    "b = 6\n",
    "\n",
    "suma = a + b \n",
    "print(suma)"
   ]
  },
  {
   "cell_type": "code",
   "execution_count": 11,
   "metadata": {},
   "outputs": [],
   "source": [
    "def sumar_numeros(a,  b = 8): # El 8,(siempre en la última posición) sería Parametro por defecto, siempre prioriza el que de el usuario, si no da ninguno se ejecuta este.\n",
    "    suma = a + b\n",
    "    print('Vas a sumar los siguientes números:', a, b)\n",
    "    return suma"
   ]
  },
  {
   "cell_type": "code",
   "execution_count": null,
   "metadata": {},
   "outputs": [],
   "source": [
    "def restar_numeros(a, b):\n",
    "    resta = a - b\n",
    "    print('Vas a restar los siguientes números:', a, b)\n",
    "    return resta"
   ]
  },
  {
   "cell_type": "code",
   "execution_count": 10,
   "metadata": {},
   "outputs": [
    {
     "name": "stdout",
     "output_type": "stream",
     "text": [
      "Vas a sumar los siguientes números: 3 8\n"
     ]
    },
    {
     "data": {
      "text/plain": [
       "11"
      ]
     },
     "execution_count": 10,
     "metadata": {},
     "output_type": "execute_result"
    }
   ],
   "source": [
    "sumar_numeros(3)"
   ]
  },
  {
   "cell_type": "code",
   "execution_count": 7,
   "metadata": {},
   "outputs": [
    {
     "name": "stdout",
     "output_type": "stream",
     "text": [
      "Vas a sumar los siguientes números: 5 8\n"
     ]
    },
    {
     "data": {
      "text/plain": [
       "13"
      ]
     },
     "execution_count": 7,
     "metadata": {},
     "output_type": "execute_result"
    }
   ],
   "source": [
    "sumar_numeros(5, 8)"
   ]
  },
  {
   "cell_type": "code",
   "execution_count": 8,
   "metadata": {},
   "outputs": [
    {
     "name": "stdout",
     "output_type": "stream",
     "text": [
      "Vas a sumar los siguientes números: 10 6\n"
     ]
    },
    {
     "data": {
      "text/plain": [
       "16"
      ]
     },
     "execution_count": 8,
     "metadata": {},
     "output_type": "execute_result"
    }
   ],
   "source": [
    "sumar_numeros(10, 6)"
   ]
  },
  {
   "cell_type": "code",
   "execution_count": null,
   "metadata": {},
   "outputs": [],
   "source": [
    "mensaje_global = 'Hola desde el ámbito global'\n",
    "\n",
    "def funcion_local():\n",
    "    mensaje_local = 'Hola desde el ámbito local'\n",
    "    print(mensaje_local)"
   ]
  },
  {
   "cell_type": "code",
   "execution_count": 13,
   "metadata": {},
   "outputs": [],
   "source": [
    "mensaje_global = 'Hola desde el ámbito global'\n",
    "\n",
    "def funcion_local():\n",
    "    mensaje_local = 'Hola desde el ámbito local'\n",
    "    return mensaje_local\n"
   ]
  },
  {
   "cell_type": "code",
   "execution_count": 16,
   "metadata": {},
   "outputs": [
    {
     "data": {
      "text/plain": [
       "'Hola desde el ámbito global'"
      ]
     },
     "execution_count": 16,
     "metadata": {},
     "output_type": "execute_result"
    }
   ],
   "source": [
    "mensaje_global"
   ]
  },
  {
   "cell_type": "code",
   "execution_count": 15,
   "metadata": {},
   "outputs": [
    {
     "name": "stdout",
     "output_type": "stream",
     "text": [
      "Hola desde el ámbito local\n"
     ]
    }
   ],
   "source": [
    "funcion_local()"
   ]
  },
  {
   "cell_type": "code",
   "execution_count": 17,
   "metadata": {},
   "outputs": [],
   "source": [
    "# 1. Escribir una función que reciba una cadena de texto como parametro y devuelva un diccionario con las frecuencias y el conteo de cada letra."
   ]
  },
  {
   "cell_type": "code",
   "execution_count": 18,
   "metadata": {},
   "outputs": [],
   "source": [
    "texto = 'Me encantan las funciones'"
   ]
  },
  {
   "cell_type": "code",
   "execution_count": 20,
   "metadata": {},
   "outputs": [],
   "source": [
    "def contar_letras(texto):\n",
    "    diccionario_letras = {}\n",
    "\n",
    "    for letra in texto:\n",
    "        if letra != ' ':\n",
    "            diccionario_letras[letra] = texto.count(letra)\n",
    "            \n",
    "    return diccionario_letras"
   ]
  },
  {
   "cell_type": "code",
   "execution_count": 22,
   "metadata": {},
   "outputs": [
    {
     "data": {
      "text/plain": [
       "{'H': 2, 'o': 2, 'l': 3, 'a': 3, 'J': 1, 'u': 1, 'i': 1}"
      ]
     },
     "execution_count": 22,
     "metadata": {},
     "output_type": "execute_result"
    }
   ],
   "source": [
    "contar_letras('Hola Hola Julia')"
   ]
  },
  {
   "cell_type": "code",
   "execution_count": 23,
   "metadata": {},
   "outputs": [
    {
     "data": {
      "text/plain": [
       "{'E': 1,\n",
       " 's': 2,\n",
       " 't': 2,\n",
       " 'a': 1,\n",
       " 'm': 1,\n",
       " 'o': 2,\n",
       " 'e': 2,\n",
       " 'n': 1,\n",
       " 'c': 1,\n",
       " 'u': 1,\n",
       " 'b': 1,\n",
       " 'r': 1}"
      ]
     },
     "execution_count": 23,
     "metadata": {},
     "output_type": "execute_result"
    }
   ],
   "source": [
    "contar_letras('Estamos en octubre')"
   ]
  },
  {
   "cell_type": "code",
   "execution_count": 24,
   "metadata": {},
   "outputs": [],
   "source": [
    "# 2. Crea una función, que dada una lista, cree una variable sumando solo los pares."
   ]
  },
  {
   "cell_type": "code",
   "execution_count": 30,
   "metadata": {},
   "outputs": [],
   "source": [
    "numeros = [1, 2, 3, 4, 5, 6]\n",
    "suma_pares = 0\n",
    "\n",
    "for num in numeros:\n",
    "    if num%2 == 0:\n",
    "        suma_pares += num"
   ]
  },
  {
   "cell_type": "code",
   "execution_count": 25,
   "metadata": {},
   "outputs": [],
   "source": [
    "# Función = ejercicio + def + nombre función + parámetro(s) + (return)"
   ]
  },
  {
   "cell_type": "code",
   "execution_count": 27,
   "metadata": {},
   "outputs": [],
   "source": [
    "def suma_pares(numeros):\n",
    "    suma_pares = 0\n",
    "\n",
    "    for num in numeros:\n",
    "        if num%2 == 0:\n",
    "            suma_pares += num\n",
    "    \n",
    "    return suma_pares"
   ]
  },
  {
   "cell_type": "code",
   "execution_count": 28,
   "metadata": {},
   "outputs": [],
   "source": [
    "lista1 = [2, 3, 5, 7, 9]\n",
    "lista2 = [1, 8, 9, 3]"
   ]
  },
  {
   "cell_type": "code",
   "execution_count": 29,
   "metadata": {},
   "outputs": [
    {
     "data": {
      "text/plain": [
       "2"
      ]
     },
     "execution_count": 29,
     "metadata": {},
     "output_type": "execute_result"
    }
   ],
   "source": [
    "suma_pares1 = suma_pares(lista1)\n",
    "suma_pares1"
   ]
  },
  {
   "cell_type": "code",
   "execution_count": 31,
   "metadata": {},
   "outputs": [],
   "source": [
    "# Ejercicio: Crear una función que añada estudiantes a un estudio de yoga, pidiéndoles nombre, edad y email.\n",
    "# Si el estudiante está registrado, mostrar un mensaje de que ya está registrado."
   ]
  },
  {
   "cell_type": "code",
   "execution_count": null,
   "metadata": {},
   "outputs": [],
   "source": [
    "# Para funciones, pensar primero en el cuerpo de la función. (Como si solo se hiciera una vez) y después convertirlo en función."
   ]
  },
  {
   "cell_type": "markdown",
   "metadata": {},
   "source": [
    "- inicializar una lista.\n",
    "- 1 estudiante: almacenar nombre, edad y email( a través de parámetros)\n",
    "- "
   ]
  },
  {
   "cell_type": "code",
   "execution_count": 36,
   "metadata": {},
   "outputs": [],
   "source": [
    "estudiantes = []\n",
    "\n",
    "def añadir_estudiante(nombre, edad, email):\n",
    "\n",
    "    for estudiante in estudiantes:\n",
    "        if estudiante ['nombre'] == nombre:\n",
    "            print('El estudiante ya está registrado')\n",
    "        else:\n",
    "            nuevo_estudiante = {'nombre': nombre, 'edad': edad, 'email': email}\n",
    "        \n",
    "    estudiantes.append(nuevo_estudiante)\n",
    "\n",
    "    return estudiantes \n"
   ]
  },
  {
   "cell_type": "code",
   "execution_count": 38,
   "metadata": {},
   "outputs": [],
   "source": [
    "def añadir_estudiante(nombre, edad, email):\n",
    "    # Verificar si el estudiante ya existe\n",
    "    for estudiante in estudiantes:\n",
    "        if estudiante['nombre'] == nombre:\n",
    "            print('El estudiante ya está registrado')\n",
    "            return estudiantes  # Salimos de la función si ya existe\n",
    "    \n",
    "    # Si no está registrado, lo añadimos\n",
    "    nuevo_estudiante = {'nombre': nombre, 'edad': edad, 'email': email}\n",
    "    estudiantes.append(nuevo_estudiante)\n",
    "    \n",
    "    return estudiantes"
   ]
  },
  {
   "cell_type": "code",
   "execution_count": 35,
   "metadata": {},
   "outputs": [],
   "source": [
    "nombre = 'Elena'\n",
    "edad = 20\n",
    "email = 'elena@gmail.com'"
   ]
  },
  {
   "cell_type": "code",
   "execution_count": 37,
   "metadata": {},
   "outputs": [
    {
     "data": {
      "text/plain": [
       "[{'nombre': 'Elena', 'edad': 20, 'email': 'elena@gmail.com'}]"
      ]
     },
     "execution_count": 37,
     "metadata": {},
     "output_type": "execute_result"
    }
   ],
   "source": [
    "añadir_estudiante('Elena', 20, 'elena@gmail.com')"
   ]
  },
  {
   "cell_type": "code",
   "execution_count": null,
   "metadata": {},
   "outputs": [],
   "source": [
    "try:\n",
    "    numero_clases = int(input('Introduce el número de clases:'))\n",
    "    precio_clase = float(input('Introduce el precio por clase: '))\n",
    "\n",
    "    precio_total = numero_clases*precio_clase\n",
    "    print('El precio total es:', precio_total)\n",
    "\n",
    "except ValueError:\n",
    "    print('Por favor, introduce un valor válido.')"
   ]
  },
  {
   "cell_type": "code",
   "execution_count": null,
   "metadata": {},
   "outputs": [],
   "source": [
    "def calcular_precio_total(numero_clases, precio_clases):\n",
    "    precio_total = numero_clases*precio_total\n",
    "    print('El precio total es:', precio_total)"
   ]
  }
 ],
 "metadata": {
  "kernelspec": {
   "display_name": "Python 3",
   "language": "python",
   "name": "python3"
  },
  "language_info": {
   "codemirror_mode": {
    "name": "ipython",
    "version": 3
   },
   "file_extension": ".py",
   "mimetype": "text/x-python",
   "name": "python",
   "nbconvert_exporter": "python",
   "pygments_lexer": "ipython3",
   "version": "3.9.6"
  }
 },
 "nbformat": 4,
 "nbformat_minor": 2
}
