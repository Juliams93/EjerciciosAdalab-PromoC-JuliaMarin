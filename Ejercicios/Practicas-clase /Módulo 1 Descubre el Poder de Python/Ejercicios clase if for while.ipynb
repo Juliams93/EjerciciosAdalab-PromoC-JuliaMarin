{
 "cells": [
  {
   "cell_type": "code",
   "execution_count": 1,
   "metadata": {},
   "outputs": [],
   "source": [
    "# if else\n",
    "# iteraciones\n",
    "    # - for\n",
    "    # - while\n",
    "# control de bucles\n",
    "# manejo de errores"
   ]
  },
  {
   "cell_type": "code",
   "execution_count": 2,
   "metadata": {},
   "outputs": [],
   "source": [
    "a = 10\n",
    "b = 20"
   ]
  },
  {
   "cell_type": "code",
   "execution_count": 3,
   "metadata": {},
   "outputs": [
    {
     "data": {
      "text/plain": [
       "False"
      ]
     },
     "execution_count": 3,
     "metadata": {},
     "output_type": "execute_result"
    }
   ],
   "source": [
    "a == b"
   ]
  },
  {
   "cell_type": "code",
   "execution_count": 4,
   "metadata": {},
   "outputs": [
    {
     "name": "stdout",
     "output_type": "stream",
     "text": [
      "a es menor que b\n"
     ]
    }
   ],
   "source": [
    "if a < b:\n",
    "    print('a es menor que b')\n",
    "elif a > b:\n",
    "    print('a es mayor que b')\n",
    "else:\n",
    "    print('a y b son iguales')"
   ]
  },
  {
   "cell_type": "code",
   "execution_count": null,
   "metadata": {},
   "outputs": [],
   "source": [
    "numero = int(input('Por favor, introduce un número'))\n",
    "\n",
    "if numero > 0:\n",
    "    print('El número es positivo.')\n",
    "\n",
    "    if numero % 2 == 0:\n",
    "        print('El número es par.')\n",
    "    else:\n",
    "        print('El número no es par.')\n",
    "elif numero < 0:\n",
    "    print('El número es negativo.')\n",
    "else:\n",
    "    print('El número es 0.')"
   ]
  },
  {
   "cell_type": "code",
   "execution_count": 8,
   "metadata": {},
   "outputs": [
    {
     "name": "stdout",
     "output_type": "stream",
     "text": [
      "manzana\n",
      "pera\n",
      "naranja\n"
     ]
    }
   ],
   "source": [
    "# Bucle for\n",
    "\n",
    "frutas = ['manzana', 'pera', 'naranja']\n",
    "\n",
    "for fruta in frutas:\n",
    "    print(fruta)"
   ]
  },
  {
   "cell_type": "code",
   "execution_count": 10,
   "metadata": {},
   "outputs": [
    {
     "name": "stdout",
     "output_type": "stream",
     "text": [
      "1\n",
      "3\n",
      "5\n",
      "7\n",
      "9\n",
      "Has acabado el for\n"
     ]
    }
   ],
   "source": [
    "for i in range(1, 10, 2):\n",
    "    print(i)\n",
    "\n",
    "print('Has acabado el for')"
   ]
  },
  {
   "cell_type": "code",
   "execution_count": 15,
   "metadata": {},
   "outputs": [
    {
     "name": "stdout",
     "output_type": "stream",
     "text": [
      "2\n",
      "4\n",
      "6\n",
      "8\n",
      "10\n"
     ]
    }
   ],
   "source": [
    "for i in range(1, 11):\n",
    "    if i % 2 == 0:\n",
    "        print(i)"
   ]
  },
  {
   "cell_type": "code",
   "execution_count": 16,
   "metadata": {},
   "outputs": [],
   "source": [
    "alumnas = {'nombre': 'Maria', 'edad': 25, 'ciudad': 'Valencia', 'ocupación': 'analista'}"
   ]
  },
  {
   "cell_type": "code",
   "execution_count": 17,
   "metadata": {},
   "outputs": [
    {
     "data": {
      "text/plain": [
       "dict_keys(['nombre', 'edad', 'ciudad', 'ocupación'])"
      ]
     },
     "execution_count": 17,
     "metadata": {},
     "output_type": "execute_result"
    }
   ],
   "source": [
    "alumnas.keys()"
   ]
  },
  {
   "cell_type": "code",
   "execution_count": 18,
   "metadata": {},
   "outputs": [
    {
     "data": {
      "text/plain": [
       "dict_values(['Maria', 25, 'Valencia', 'analista'])"
      ]
     },
     "execution_count": 18,
     "metadata": {},
     "output_type": "execute_result"
    }
   ],
   "source": [
    "alumnas.values()"
   ]
  },
  {
   "cell_type": "code",
   "execution_count": 19,
   "metadata": {},
   "outputs": [
    {
     "data": {
      "text/plain": [
       "dict_items([('nombre', 'Maria'), ('edad', 25), ('ciudad', 'Valencia'), ('ocupación', 'analista')])"
      ]
     },
     "execution_count": 19,
     "metadata": {},
     "output_type": "execute_result"
    }
   ],
   "source": [
    "alumnas.items()"
   ]
  },
  {
   "cell_type": "code",
   "execution_count": 20,
   "metadata": {},
   "outputs": [
    {
     "name": "stdout",
     "output_type": "stream",
     "text": [
      "nombre\n",
      "edad\n",
      "ciudad\n",
      "ocupación\n"
     ]
    }
   ],
   "source": [
    "for k in alumnas.keys():\n",
    "    print(k)"
   ]
  },
  {
   "cell_type": "code",
   "execution_count": 22,
   "metadata": {},
   "outputs": [
    {
     "name": "stdout",
     "output_type": "stream",
     "text": [
      "Maria\n",
      "25\n",
      "Valencia\n",
      "analista\n"
     ]
    }
   ],
   "source": [
    "for v in alumnas.values():\n",
    "    print(v)"
   ]
  },
  {
   "cell_type": "code",
   "execution_count": 24,
   "metadata": {},
   "outputs": [
    {
     "name": "stdout",
     "output_type": "stream",
     "text": [
      "nombre Maria\n",
      "edad 25\n",
      "ciudad Valencia\n",
      "ocupación analista\n"
     ]
    }
   ],
   "source": [
    "for k, v in alumnas.items():\n",
    "    print(k, v)\n",
    "# si pones i te lo muestra en tupla."
   ]
  },
  {
   "cell_type": "code",
   "execution_count": 25,
   "metadata": {},
   "outputs": [],
   "source": [
    "# while"
   ]
  },
  {
   "cell_type": "code",
   "execution_count": 28,
   "metadata": {},
   "outputs": [
    {
     "name": "stdout",
     "output_type": "stream",
     "text": [
      "0\n",
      "1\n",
      "2\n",
      "3\n",
      "4\n"
     ]
    }
   ],
   "source": [
    "contador = 0\n",
    "\n",
    "while contador < 5:\n",
    "    print(contador)\n",
    "    contador+=1 #incrementar en 1 el contador."
   ]
  },
  {
   "cell_type": "code",
   "execution_count": 29,
   "metadata": {},
   "outputs": [],
   "source": [
    "# Control de bucles\n",
    "\n",
    "# break\n",
    "# continue\n",
    "# pass"
   ]
  },
  {
   "cell_type": "code",
   "execution_count": 32,
   "metadata": {},
   "outputs": [
    {
     "name": "stdout",
     "output_type": "stream",
     "text": [
      "Número actual: 1\n",
      "Número actual: 2\n",
      "Se ha encontrado el número\n"
     ]
    }
   ],
   "source": [
    "for numero in range(1, 6):\n",
    "    if numero == 3:\n",
    "        print('Se ha encontrado el número')\n",
    "        break\n",
    "    print('Número actual:', numero)"
   ]
  },
  {
   "cell_type": "code",
   "execution_count": 33,
   "metadata": {},
   "outputs": [
    {
     "name": "stdout",
     "output_type": "stream",
     "text": [
      "Número actual: 1\n",
      "Número actual: 2\n",
      "Salta el número 3\n",
      "Número actual: 4\n",
      "Número actual: 5\n"
     ]
    }
   ],
   "source": [
    "for numero in range(1, 6):\n",
    "    if numero == 3:\n",
    "        print('Salta el número 3')\n",
    "        continue\n",
    "    print('Número actual:', numero)"
   ]
  },
  {
   "cell_type": "code",
   "execution_count": 35,
   "metadata": {},
   "outputs": [],
   "source": [
    "# if_else \n",
    "# for / while\n",
    "# controlar for / while: break, continue\n",
    "# gestionar errores: try except"
   ]
  },
  {
   "cell_type": "code",
   "execution_count": 34,
   "metadata": {},
   "outputs": [
    {
     "name": "stdout",
     "output_type": "stream",
     "text": [
      "El número que has introducido es: 10\n",
      "El resultado de la operación es: 10.0\n"
     ]
    }
   ],
   "source": [
    "try:\n",
    "    num = int(input('Por favor, introduce un número: '))\n",
    "\n",
    "    print('El número que has introducido es:', num)\n",
    "\n",
    "    resultado = 100/num\n",
    "\n",
    "    print('El resultado de la operación es:', round(resultado, 2))\n",
    "    \n",
    "except ZeroDivisionError:\n",
    "    print('No se puede dividir por 0.')"
   ]
  }
 ],
 "metadata": {
  "kernelspec": {
   "display_name": "Python 3",
   "language": "python",
   "name": "python3"
  },
  "language_info": {
   "codemirror_mode": {
    "name": "ipython",
    "version": 3
   },
   "file_extension": ".py",
   "mimetype": "text/x-python",
   "name": "python",
   "nbconvert_exporter": "python",
   "pygments_lexer": "ipython3",
   "version": "3.9.6"
  }
 },
 "nbformat": 4,
 "nbformat_minor": 2
}
