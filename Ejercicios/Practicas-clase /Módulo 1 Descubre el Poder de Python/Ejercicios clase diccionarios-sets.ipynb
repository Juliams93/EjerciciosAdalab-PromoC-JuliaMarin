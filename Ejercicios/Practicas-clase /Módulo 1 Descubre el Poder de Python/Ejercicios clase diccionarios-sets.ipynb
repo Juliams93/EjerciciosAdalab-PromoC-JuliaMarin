{
 "cells": [
  {
   "cell_type": "code",
   "execution_count": 1,
   "metadata": {},
   "outputs": [],
   "source": [
    "# Listas y Tuplas\n",
    "# [] vs ()"
   ]
  },
  {
   "cell_type": "code",
   "execution_count": 2,
   "metadata": {},
   "outputs": [],
   "source": [
    "# Diccionarios y Sets"
   ]
  },
  {
   "cell_type": "code",
   "execution_count": null,
   "metadata": {},
   "outputs": [],
   "source": []
  },
  {
   "cell_type": "markdown",
   "metadata": {},
   "source": [
    "# Diccionarios \n",
    "Colección no ordenada de pares. Clave-valor. Claves únicas. Valores: cualquier tipo de objeto. Mutable."
   ]
  },
  {
   "cell_type": "code",
   "execution_count": 3,
   "metadata": {},
   "outputs": [],
   "source": [
    "# {}\n",
    "# Se almacenan pares de valores: key-value / clave-valor."
   ]
  },
  {
   "cell_type": "code",
   "execution_count": 4,
   "metadata": {},
   "outputs": [
    {
     "name": "stdout",
     "output_type": "stream",
     "text": [
      "{'Lunes': 'Monday', 'Martes': 'Tuesday', 'Miercoles': 'Wednesday'}\n"
     ]
    }
   ],
   "source": [
    "dic1 = {'lunes' : 'monday' , 'martes' : 'tuesday', 'miércoles' : 'wednesday'}\n",
    "print(dic1)"
   ]
  },
  {
   "cell_type": "code",
   "execution_count": 5,
   "metadata": {},
   "outputs": [
    {
     "name": "stdout",
     "output_type": "stream",
     "text": [
      "{'lunes': ['mañana', 'tarde'], 'martes': ['mañana', 'tarde']}\n"
     ]
    }
   ],
   "source": [
    "dic2 = {'lunes' : ['mañana', 'tarde'], 'martes' : ['mañana', 'tarde']}\n",
    "print(dic2)"
   ]
  },
  {
   "cell_type": "code",
   "execution_count": 7,
   "metadata": {},
   "outputs": [
    {
     "name": "stdout",
     "output_type": "stream",
     "text": [
      "{'jueves': 'thursday', 'viernes': 'friday'}\n"
     ]
    }
   ],
   "source": [
    "dic3 = dict(jueves = 'thursday', viernes = 'friday')\n",
    "print(dic3)"
   ]
  },
  {
   "cell_type": "code",
   "execution_count": 9,
   "metadata": {},
   "outputs": [
    {
     "name": "stdout",
     "output_type": "stream",
     "text": [
      "{'jueves': [5, 6, 7], 'viernes': [5, 6, 7], 'sabado': [5, 6, 7]}\n"
     ]
    }
   ],
   "source": [
    "claves = ['jueves', 'viernes', 'sabado']\n",
    "valores_predeterminados = [5, 6, 7]\n",
    "\n",
    "dic4 = dict.fromkeys(claves, valores_predeterminados)\n",
    "print(dic4)"
   ]
  },
  {
   "cell_type": "code",
   "execution_count": 10,
   "metadata": {},
   "outputs": [],
   "source": [
    "# {}\n",
    "# dict()\n",
    "# dict.fromkeys()"
   ]
  },
  {
   "cell_type": "code",
   "execution_count": 14,
   "metadata": {},
   "outputs": [
    {
     "name": "stdout",
     "output_type": "stream",
     "text": [
      "{'nombres': ['Lola', 'Marta', 'Elena'], 'notas': [8, 9, 10]}\n"
     ]
    }
   ],
   "source": [
    "# Propiedades\n",
    "\n",
    "dic_alumnas = {\"nombres\": [\"Lola\", \"Marta\", \"Elena\"], \"notas\": [8, 9, 10]}\n",
    "print(dic_alumnas)"
   ]
  },
  {
   "cell_type": "code",
   "execution_count": 15,
   "metadata": {},
   "outputs": [
    {
     "name": "stdout",
     "output_type": "stream",
     "text": [
      "2\n"
     ]
    }
   ],
   "source": [
    "print(len(dic_alumnas))"
   ]
  },
  {
   "cell_type": "code",
   "execution_count": 16,
   "metadata": {},
   "outputs": [
    {
     "data": {
      "text/plain": [
       "True"
      ]
     },
     "execution_count": 16,
     "metadata": {},
     "output_type": "execute_result"
    }
   ],
   "source": [
    "\"nombres\" in dic_alumnas"
   ]
  },
  {
   "cell_type": "code",
   "execution_count": 17,
   "metadata": {},
   "outputs": [
    {
     "data": {
      "text/plain": [
       "False"
      ]
     },
     "execution_count": 17,
     "metadata": {},
     "output_type": "execute_result"
    }
   ],
   "source": [
    "\"Lola\" in dic_alumnas"
   ]
  },
  {
   "cell_type": "code",
   "execution_count": 18,
   "metadata": {},
   "outputs": [
    {
     "data": {
      "text/plain": [
       "dict_keys(['nombres', 'notas'])"
      ]
     },
     "execution_count": 18,
     "metadata": {},
     "output_type": "execute_result"
    }
   ],
   "source": [
    "dic_alumnas.keys()"
   ]
  },
  {
   "cell_type": "code",
   "execution_count": 19,
   "metadata": {},
   "outputs": [
    {
     "data": {
      "text/plain": [
       "dict_values([['Lola', 'Marta', 'Elena'], [8, 9, 10]])"
      ]
     },
     "execution_count": 19,
     "metadata": {},
     "output_type": "execute_result"
    }
   ],
   "source": [
    "dic_alumnas.values()"
   ]
  },
  {
   "cell_type": "code",
   "execution_count": 20,
   "metadata": {},
   "outputs": [],
   "source": [
    "# Métodos"
   ]
  },
  {
   "cell_type": "code",
   "execution_count": 21,
   "metadata": {},
   "outputs": [
    {
     "name": "stdout",
     "output_type": "stream",
     "text": [
      "{'nombres': ['Lola', 'Marta', 'Elena'], 'notas': [8, 9, 10]}\n"
     ]
    }
   ],
   "source": [
    "print(dic_alumnas)"
   ]
  },
  {
   "cell_type": "code",
   "execution_count": 22,
   "metadata": {},
   "outputs": [],
   "source": [
    "# copia\n",
    "# a = b"
   ]
  },
  {
   "cell_type": "code",
   "execution_count": 23,
   "metadata": {},
   "outputs": [],
   "source": [
    "dic_alumnas_copy = dic_alumnas.copy()"
   ]
  },
  {
   "cell_type": "code",
   "execution_count": 25,
   "metadata": {},
   "outputs": [
    {
     "name": "stdout",
     "output_type": "stream",
     "text": [
      "{'nombres': ['Lola', 'Marta', 'Elena'], 'notas': [8, 9, 10], 'hermanos': ['si', 'no', 'si']}\n"
     ]
    }
   ],
   "source": [
    "nueva_clave = {\"hermanos\" : [\"si\", \"no\", \"si\"]}\n",
    "dic_alumnas.update(nueva_clave)\n",
    "print(dic_alumnas)"
   ]
  },
  {
   "cell_type": "code",
   "execution_count": 27,
   "metadata": {},
   "outputs": [
    {
     "name": "stdout",
     "output_type": "stream",
     "text": [
      "{}\n"
     ]
    }
   ],
   "source": [
    "dic_alumnas_copy.clear()\n",
    "print(dic_alumnas_copy)"
   ]
  },
  {
   "cell_type": "code",
   "execution_count": 28,
   "metadata": {},
   "outputs": [
    {
     "name": "stdout",
     "output_type": "stream",
     "text": [
      "dict_keys(['nombres', 'notas', 'hermanos'])\n",
      "dict_values([['Lola', 'Marta', 'Elena'], [8, 9, 10], ['si', 'no', 'si']])\n"
     ]
    }
   ],
   "source": [
    "print(dic_alumnas.keys())\n",
    "print(dic_alumnas.values())"
   ]
  },
  {
   "cell_type": "code",
   "execution_count": 29,
   "metadata": {},
   "outputs": [
    {
     "name": "stdout",
     "output_type": "stream",
     "text": [
      "['Lola', 'Marta', 'Elena']\n"
     ]
    }
   ],
   "source": [
    "print(dic_alumnas.get('nombres'))"
   ]
  },
  {
   "cell_type": "code",
   "execution_count": 30,
   "metadata": {},
   "outputs": [
    {
     "name": "stdout",
     "output_type": "stream",
     "text": [
      "['Lola', 'Marta', 'Elena']\n"
     ]
    }
   ],
   "source": [
    "print(dic_alumnas['nombres'])"
   ]
  },
  {
   "cell_type": "code",
   "execution_count": 31,
   "metadata": {},
   "outputs": [
    {
     "name": "stdout",
     "output_type": "stream",
     "text": [
      "None\n"
     ]
    }
   ],
   "source": [
    "print(dic_alumnas.get('apellidos'))"
   ]
  },
  {
   "cell_type": "code",
   "execution_count": 33,
   "metadata": {},
   "outputs": [
    {
     "name": "stdout",
     "output_type": "stream",
     "text": [
      "No existe\n"
     ]
    }
   ],
   "source": [
    "dic_alumnas.setdefault('apellidos', 'No existe')\n",
    "print(dic_alumnas.get('apellidos'))"
   ]
  },
  {
   "cell_type": "code",
   "execution_count": 36,
   "metadata": {},
   "outputs": [
    {
     "data": {
      "text/plain": [
       "dict_keys(['nombres', 'hermanos', 'apellidos'])"
      ]
     },
     "execution_count": 36,
     "metadata": {},
     "output_type": "execute_result"
    }
   ],
   "source": [
    "dic_alumnas.keys()"
   ]
  },
  {
   "cell_type": "code",
   "execution_count": 34,
   "metadata": {},
   "outputs": [
    {
     "data": {
      "text/plain": [
       "[8, 9, 10]"
      ]
     },
     "execution_count": 34,
     "metadata": {},
     "output_type": "execute_result"
    }
   ],
   "source": [
    "dic_alumnas.pop('notas')"
   ]
  },
  {
   "cell_type": "code",
   "execution_count": 35,
   "metadata": {},
   "outputs": [
    {
     "name": "stdout",
     "output_type": "stream",
     "text": [
      "{'nombres': ['Lola', 'Marta', 'Elena'], 'hermanos': ['si', 'no', 'si'], 'apellidos': 'No existe'}\n"
     ]
    }
   ],
   "source": [
    "print(dic_alumnas)"
   ]
  },
  {
   "cell_type": "code",
   "execution_count": 38,
   "metadata": {},
   "outputs": [
    {
     "name": "stdout",
     "output_type": "stream",
     "text": [
      "{'nombre': 'almu', 'ciudad': 'madrid', 'modalidad': 'full-time'}\n"
     ]
    }
   ],
   "source": [
    "dic_profe = {'nombre' : 'almu', 'ciudad' : 'madrid', 'modalidad' : 'part-time'}\n",
    "dic_profe['modalidad'] = 'full-time'\n",
    "print(dic_profe)"
   ]
  },
  {
   "cell_type": "markdown",
   "metadata": {},
   "source": [
    "# Sets :\n",
    "Colecciones no ordenadas.\n",
    "No pueden haber repeticiones / duplicados.\n",
    "Son mutables."
   ]
  },
  {
   "cell_type": "code",
   "execution_count": 41,
   "metadata": {},
   "outputs": [],
   "source": [
    "dic_frutas = {'uva': 2, 'pera': 0, 'platano': 3}  #Diccionario."
   ]
  },
  {
   "cell_type": "code",
   "execution_count": 42,
   "metadata": {},
   "outputs": [
    {
     "name": "stdout",
     "output_type": "stream",
     "text": [
      "{'pera', 'uva', 'plátano', 'melón'}\n"
     ]
    }
   ],
   "source": [
    "frutas1 = {'uva', 'pera', 'plátano', 'melón'} #Set\n",
    "print(frutas1)"
   ]
  },
  {
   "cell_type": "code",
   "execution_count": 43,
   "metadata": {},
   "outputs": [],
   "source": [
    "lista_frutas = ['manzana', 'higo', 'pomelo']\n",
    "tupla_frutas = ('sandia', 'uva', 'manzana')"
   ]
  },
  {
   "cell_type": "code",
   "execution_count": 44,
   "metadata": {},
   "outputs": [
    {
     "name": "stdout",
     "output_type": "stream",
     "text": [
      "{'pomelo', 'higo', 'manzana'}\n",
      "{'sandia', 'uva', 'manzana'}\n"
     ]
    }
   ],
   "source": [
    "frutas2 = set(lista_frutas)\n",
    "frutas3 = set(tupla_frutas)\n",
    "print(frutas2)\n",
    "print(frutas3)"
   ]
  },
  {
   "cell_type": "code",
   "execution_count": 46,
   "metadata": {},
   "outputs": [
    {
     "name": "stdout",
     "output_type": "stream",
     "text": [
      "{'uva', 'plátano', 'coco', 'pera', 'melón'}\n"
     ]
    }
   ],
   "source": [
    "frutas1.add('coco')\n",
    "print(frutas1)"
   ]
  },
  {
   "cell_type": "code",
   "execution_count": 47,
   "metadata": {},
   "outputs": [
    {
     "name": "stdout",
     "output_type": "stream",
     "text": [
      "{'uva', 'plátano', 'coco', 'pera', 'melón'}\n"
     ]
    }
   ],
   "source": [
    "frutas1.add('pera')\n",
    "print(frutas1)"
   ]
  },
  {
   "cell_type": "code",
   "execution_count": 48,
   "metadata": {},
   "outputs": [
    {
     "ename": "TypeError",
     "evalue": "unhashable type: 'list'",
     "output_type": "error",
     "traceback": [
      "\u001b[0;31m---------------------------------------------------------------------------\u001b[0m",
      "\u001b[0;31mTypeError\u001b[0m                                 Traceback (most recent call last)",
      "Cell \u001b[0;32mIn[48], line 1\u001b[0m\n\u001b[0;32m----> 1\u001b[0m \u001b[43mfrutas1\u001b[49m\u001b[38;5;241;43m.\u001b[39;49m\u001b[43madd\u001b[49m\u001b[43m(\u001b[49m\u001b[43m[\u001b[49m\u001b[38;5;124;43m'\u001b[39;49m\u001b[38;5;124;43mciruela\u001b[39;49m\u001b[38;5;124;43m'\u001b[39;49m\u001b[43m,\u001b[49m\u001b[43m \u001b[49m\u001b[38;5;124;43m'\u001b[39;49m\u001b[38;5;124;43mpapaya\u001b[39;49m\u001b[38;5;124;43m'\u001b[39;49m\u001b[43m]\u001b[49m\u001b[43m)\u001b[49m\n",
      "\u001b[0;31mTypeError\u001b[0m: unhashable type: 'list'"
     ]
    }
   ],
   "source": [
    "frutas1.add(['ciruela', 'papaya'])"
   ]
  },
  {
   "cell_type": "code",
   "execution_count": 49,
   "metadata": {},
   "outputs": [
    {
     "name": "stdout",
     "output_type": "stream",
     "text": [
      "{'ciruela', 'papaya', 'uva', 'plátano', 'coco', 'pera', 'melón'}\n"
     ]
    }
   ],
   "source": [
    "nuevas_frutas = ['ciruela', 'papaya']\n",
    "frutas1.update(nuevas_frutas)\n",
    "print(frutas1)"
   ]
  },
  {
   "cell_type": "code",
   "execution_count": 50,
   "metadata": {},
   "outputs": [],
   "source": [
    "# pop()\n",
    "# remove()\n",
    "# clear()\n"
   ]
  },
  {
   "cell_type": "code",
   "execution_count": 51,
   "metadata": {},
   "outputs": [
    {
     "name": "stdout",
     "output_type": "stream",
     "text": [
      "{'ciruela', 'papaya', 'uva', 'plátano', 'coco', 'pera', 'melón'}\n",
      "{'pomelo', 'higo', 'manzana'}\n",
      "{'sandia', 'uva', 'manzana'}\n"
     ]
    }
   ],
   "source": [
    "# Operaciones\n",
    "\n",
    "print(frutas1)\n",
    "print(frutas2)\n",
    "print(frutas3)"
   ]
  },
  {
   "cell_type": "code",
   "execution_count": 53,
   "metadata": {},
   "outputs": [
    {
     "name": "stdout",
     "output_type": "stream",
     "text": [
      "{'ciruela', 'higo', 'manzana', 'papaya', 'uva', 'plátano', 'pomelo', 'coco', 'pera', 'melón'}\n"
     ]
    }
   ],
   "source": [
    "# unión \n",
    "\n",
    "union1_2 = frutas1.union(frutas2)\n",
    "\n",
    "print(union1_2)"
   ]
  },
  {
   "cell_type": "code",
   "execution_count": 55,
   "metadata": {},
   "outputs": [
    {
     "name": "stdout",
     "output_type": "stream",
     "text": [
      "{'uva'}\n"
     ]
    }
   ],
   "source": [
    "# intersección\n",
    "\n",
    "inter_1_3 = frutas1.intersection(frutas3)\n",
    "print(inter_1_3)"
   ]
  },
  {
   "cell_type": "code",
   "execution_count": 57,
   "metadata": {},
   "outputs": [
    {
     "name": "stdout",
     "output_type": "stream",
     "text": [
      "{'pomelo', 'higo'}\n"
     ]
    }
   ],
   "source": [
    "# diferencia\n",
    "\n",
    "dif_2_3 = frutas2.difference(frutas3)\n",
    "print(dif_2_3) "
   ]
  }
 ],
 "metadata": {
  "kernelspec": {
   "display_name": "Python 3",
   "language": "python",
   "name": "python3"
  },
  "language_info": {
   "codemirror_mode": {
    "name": "ipython",
    "version": 3
   },
   "file_extension": ".py",
   "mimetype": "text/x-python",
   "name": "python",
   "nbconvert_exporter": "python",
   "pygments_lexer": "ipython3",
   "version": "3.9.6"
  }
 },
 "nbformat": 4,
 "nbformat_minor": 2
}
