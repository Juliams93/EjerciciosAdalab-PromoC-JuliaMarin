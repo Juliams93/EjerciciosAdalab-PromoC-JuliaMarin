{
 "cells": [
  {
   "cell_type": "code",
   "execution_count": null,
   "metadata": {},
   "outputs": [],
   "source": [
    "# Definición\n",
    "def nombre_funcion(parametros):\n",
    "    # cuerpo de la función.\n",
    "    return #algo"
   ]
  },
  {
   "cell_type": "code",
   "execution_count": null,
   "metadata": {},
   "outputs": [],
   "source": []
  },
  {
   "cell_type": "code",
   "execution_count": null,
   "metadata": {},
   "outputs": [],
   "source": [
    "# llamada\n",
    "nombre_funcion(parametros) # type: ignore"
   ]
  },
  {
   "cell_type": "code",
   "execution_count": 1,
   "metadata": {},
   "outputs": [],
   "source": [
    "# Función que agregue estudiantes a una lista de diccionarios.(nombre, edad y email)\n",
    "# Si el estudiante ya existe, mostramos un mensaje por pantalla, diciendo que ya existe, pero es posible actualizar la información.\n"
   ]
  },
  {
   "cell_type": "code",
   "execution_count": 2,
   "metadata": {},
   "outputs": [
    {
     "data": {
      "text/plain": [
       "[{'nombre': 'Elena', 'edad': 30, 'email': 'Elena@gmail.com'},\n",
       " {'nombre': 'Paula', 'edad': 25, 'email': 'Paula@gmail.com'}]"
      ]
     },
     "execution_count": 2,
     "metadata": {},
     "output_type": "execute_result"
    }
   ],
   "source": [
    "[{'nombre': 'Elena', 'edad': 30, 'email': 'Elena@gmail.com'}, \n",
    " {'nombre': 'Paula', 'edad': 25, 'email': 'Paula@gmail.com'}] #Esto es una lista de diccionarios."
   ]
  },
  {
   "cell_type": "code",
   "execution_count": null,
   "metadata": {},
   "outputs": [],
   "source": [
    "# inicializar lista vacia.\n",
    "# crear diccionario con datos.\n",
    "# agregar el diccionario a la lista."
   ]
  },
  {
   "cell_type": "code",
   "execution_count": 5,
   "metadata": {},
   "outputs": [],
   "source": [
    "estudiantes = [] # Usamos lista para poder usar append. No hemos puesto return, porque esta fuera.\n",
    "def agregar_estudiante(nombre, edad, email):\n",
    "    nuevo_estudiante = {\n",
    "        'nombre': nombre,\n",
    "        'edad': edad,\n",
    "        'email': email\n",
    "    }\n",
    "    estudiantes.append(nuevo_estudiante)"
   ]
  },
  {
   "cell_type": "code",
   "execution_count": 8,
   "metadata": {},
   "outputs": [],
   "source": [
    "agregar_estudiante('Oriana', 33, 'oriana@gmail.com')"
   ]
  },
  {
   "cell_type": "code",
   "execution_count": 9,
   "metadata": {},
   "outputs": [
    {
     "data": {
      "text/plain": [
       "[{'nombre': 'Julia', 'edad': 29, 'email': 'julia@gmail.com'},\n",
       " {'nombre': 'Oriana', 'edad': 33, 'email': 'oriana@gmail.com'}]"
      ]
     },
     "execution_count": 9,
     "metadata": {},
     "output_type": "execute_result"
    }
   ],
   "source": [
    "estudiantes"
   ]
  },
  {
   "cell_type": "code",
   "execution_count": null,
   "metadata": {},
   "outputs": [],
   "source": [
    "# Output: Lista de diccionarios con info de productos.\n",
    "# Añadir productos que no están en diccionario.(comprobar id)\n",
    "# Si esta en diccionario mostrar mensaje de que ya existe."
   ]
  },
  {
   "cell_type": "code",
   "execution_count": 38,
   "metadata": {},
   "outputs": [],
   "source": [
    "inventario = []\n",
    "def agregar_productos(id, nombre, precio, stock, inventario = inventario):\n",
    "    for producto in inventario:\n",
    "        if producto['id'] == id:\n",
    "            print('El producto ya existe y se va a actualizar.')\n",
    "            producto['stock'] += stock\n",
    "            return\n",
    "        \n",
    "    nuevo_producto = {\n",
    "        'id' : id,\n",
    "        'nombre': nombre,\n",
    "        'precio' : precio,\n",
    "        'stock' : stock\n",
    "    }\n",
    "    inventario.append(nuevo_producto)\n"
   ]
  },
  {
   "cell_type": "code",
   "execution_count": 40,
   "metadata": {},
   "outputs": [],
   "source": [
    "agregar_productos(inventario, 1, 'mesa', 50, 1000)\n",
    "agregar_productos(inventario, 2, 'sillas', 15, 300)\n",
    "agregar_productos(inventario, 3, 'alfombra', 500, 100)\n",
    "agregar_productos(inventario, 4, 'cojines', 15, 3000)"
   ]
  },
  {
   "cell_type": "code",
   "execution_count": 41,
   "metadata": {},
   "outputs": [
    {
     "data": {
      "text/plain": [
       "[{'id': 1, 'nombre': 'mesa', 'precio': 50, 'stock': 1000},\n",
       " {'id': 2, 'nombre': 'sillas', 'precio': 15, 'stock': 300},\n",
       " {'id': 3, 'nombre': 'alfombra', 'precio': 500, 'stock': 100},\n",
       " {'id': 4, 'nombre': 'cojines', 'precio': 15, 'stock': 3000}]"
      ]
     },
     "execution_count": 41,
     "metadata": {},
     "output_type": "execute_result"
    }
   ],
   "source": [
    "inventario"
   ]
  },
  {
   "cell_type": "code",
   "execution_count": 25,
   "metadata": {},
   "outputs": [],
   "source": [
    "def actualizar_producto(id, stock, inventario = inventario):\n",
    "    for producto in inventario:\n",
    "        if producto['id'] == id:\n",
    "                print('El producto ya existe y se va a actualizar.')\n",
    "                producto['stock'] += stock\n",
    "                return"
   ]
  },
  {
   "cell_type": "code",
   "execution_count": 26,
   "metadata": {},
   "outputs": [
    {
     "name": "stdout",
     "output_type": "stream",
     "text": [
      "2\n"
     ]
    }
   ],
   "source": [
    "actualizar_producto(2)"
   ]
  },
  {
   "cell_type": "code",
   "execution_count": 23,
   "metadata": {},
   "outputs": [
    {
     "data": {
      "text/plain": [
       "[]"
      ]
     },
     "execution_count": 23,
     "metadata": {},
     "output_type": "execute_result"
    }
   ],
   "source": [
    "inventario"
   ]
  },
  {
   "cell_type": "code",
   "execution_count": null,
   "metadata": {},
   "outputs": [],
   "source": [
    "def buscar_producto_por_id(id_buscado):\n",
    "    for producto in inventario:\n",
    "        if producto['id'] == id_buscado:\n",
    "            return producto\n",
    "    return None  # Si no encuentra el producto"
   ]
  },
  {
   "cell_type": "code",
   "execution_count": null,
   "metadata": {},
   "outputs": [],
   "source": [
    "inventario = []\n",
    "def agregar_productos(id, nombre, precio, stock):\n",
    "    for producto in inventario:\n",
    "        print(producto['id'])\n",
    "    nuevo_producto = {\n",
    "        'id' : id,\n",
    "        'nombre': nombre,\n",
    "        'precio' : precio,\n",
    "        'stock' : stock\n",
    "    }\n",
    "    inventario.append(nuevo_producto)"
   ]
  }
 ],
 "metadata": {
  "kernelspec": {
   "display_name": "Python 3",
   "language": "python",
   "name": "python3"
  },
  "language_info": {
   "codemirror_mode": {
    "name": "ipython",
    "version": 3
   },
   "file_extension": ".py",
   "mimetype": "text/x-python",
   "name": "python",
   "nbconvert_exporter": "python",
   "pygments_lexer": "ipython3",
   "version": "3.9.6"
  }
 },
 "nbformat": 4,
 "nbformat_minor": 2
}
