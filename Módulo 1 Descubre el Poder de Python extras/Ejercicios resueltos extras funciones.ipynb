{
 "cells": [
  {
   "cell_type": "markdown",
   "metadata": {},
   "source": [
    "1. Calcular el área de un círculo. Descripción: Crea una función llamada calcular_area_circulo que tome el radio como parámetro y devuelva el área del círculo."
   ]
  },
  {
   "cell_type": "code",
   "execution_count": 1,
   "metadata": {},
   "outputs": [],
   "source": [
    "def calcular_area_circulo(r):\n",
    " π = 3.1416\n",
    " A = π + r \n",
    " print('El área del círculo es:', A)"
   ]
  },
  {
   "cell_type": "code",
   "execution_count": 2,
   "metadata": {},
   "outputs": [
    {
     "name": "stdout",
     "output_type": "stream",
     "text": [
      "El área del círculo es: 5.1416\n"
     ]
    }
   ],
   "source": [
    "calcular_area_circulo(2)"
   ]
  },
  {
   "cell_type": "markdown",
   "metadata": {},
   "source": [
    "2. Contar la cantidad de caracteres en una cadena.Descripción: Crea una función llamada contar_caracteres que tome unacadena como parámetro y devuelva la cantidad de caracteres que contiene."
   ]
  },
  {
   "cell_type": "code",
   "execution_count": 4,
   "metadata": {},
   "outputs": [],
   "source": [
    "frase = 'Esta función sirve para contar cáracteres.'\n",
    "def contar_caracteres(frase):\n",
    "    cantidad_caracteres = len(frase)\n",
    "    return cantidad_caracteres"
   ]
  },
  {
   "cell_type": "code",
   "execution_count": 5,
   "metadata": {},
   "outputs": [
    {
     "data": {
      "text/plain": [
       "42"
      ]
     },
     "execution_count": 5,
     "metadata": {},
     "output_type": "execute_result"
    }
   ],
   "source": [
    "contar_caracteres(frase)"
   ]
  },
  {
   "cell_type": "code",
   "execution_count": 6,
   "metadata": {},
   "outputs": [
    {
     "name": "stdout",
     "output_type": "stream",
     "text": [
      "37\n"
     ]
    }
   ],
   "source": [
    "def contar_caracteres(frase):\n",
    "    frase_sin_espacios = frase.replace(\" \", \"\")  # Elimina los espacios\n",
    "    cantidad_caracteres = len(frase_sin_espacios)\n",
    "    return cantidad_caracteres\n",
    "\n",
    "frase = 'Esta función sirve para contar cáracteres.'\n",
    "print(contar_caracteres(frase))"
   ]
  },
  {
   "cell_type": "markdown",
   "metadata": {},
   "source": [
    "3. Determinar si una cadena es un palíndromo.Descripción: Crea una función llamada es_palindromo que tome una cadena como parámetro y devuelva True si es un palíndromo, o False si no lo es.\n",
    "¿Qué es un palíndromo?."
   ]
  },
  {
   "cell_type": "code",
   "execution_count": 8,
   "metadata": {},
   "outputs": [
    {
     "name": "stdout",
     "output_type": "stream",
     "text": [
      "\"A mamá Roma le aviva el amor a mamá\" no es un palíndromo.\n"
     ]
    }
   ],
   "source": [
    "frase = \"A mamá Roma le aviva el amor a mamá\"\n",
    "def es_palindromo(frase):\n",
    "    # Convertimos la frase a minúsculas, eliminamos los espacios y caracteres especiales\n",
    "    frase_limpia = ''.join(letra.lower() for letra in frase if letra.isalnum()) \n",
    "    # Solo las letras y números, eliminando espacios y puntuación.\n",
    "    return frase_limpia == frase_limpia[::-1]\n",
    "if es_palindromo(frase):\n",
    "    print(f'\"{frase}\" es un palíndromo.')\n",
    "else:\n",
    "    print(f'\"{frase}\" no es un palíndromo.')"
   ]
  },
  {
   "cell_type": "code",
   "execution_count": 9,
   "metadata": {},
   "outputs": [
    {
     "data": {
      "text/plain": [
       "False"
      ]
     },
     "execution_count": 9,
     "metadata": {},
     "output_type": "execute_result"
    }
   ],
   "source": [
    "es_palindromo(frase)"
   ]
  },
  {
   "cell_type": "markdown",
   "metadata": {},
   "source": [
    "4. Calcular el promedio de una lista de números. Descripción: Crea una función llamada calcular_promedio que tome una lista de números como parámetro y devuelva el promedio de todos sus elementos."
   ]
  },
  {
   "cell_type": "code",
   "execution_count": 21,
   "metadata": {},
   "outputs": [],
   "source": [
    "lista_numeros = [2, 4, 7, 9, 12, 16]\n",
    "def calcular_promedio(lista_numeros):\n",
    "    promedio_numeros = float(sum(lista_numeros)/len(lista_numeros))\n",
    "    promedio_numeros = round(promedio_numeros, 2) # Redondea a 2 decimales.\n",
    "    print(f'{promedio_numeros} es el promedio de la lista.')"
   ]
  },
  {
   "cell_type": "code",
   "execution_count": 22,
   "metadata": {},
   "outputs": [
    {
     "name": "stdout",
     "output_type": "stream",
     "text": [
      "8.33 es el promedio de la lista.\n"
     ]
    }
   ],
   "source": [
    "calcular_promedio(lista_numeros)"
   ]
  },
  {
   "cell_type": "markdown",
   "metadata": {},
   "source": [
    "5. Calcular el interés compuesto. Descripción: Crea una función llamada calcular_interes_compuesto que tome el capital inicial, la tasa de interés y el número de períodos como parámetros y devuelva el beneficio final después del interés compuesto."
   ]
  },
  {
   "cell_type": "code",
   "execution_count": 23,
   "metadata": {},
   "outputs": [
    {
     "name": "stdout",
     "output_type": "stream",
     "text": [
      "El beneficio final después del interés compuesto es: 283.36 euros.\n"
     ]
    }
   ],
   "source": [
    "def calcular_interes_compuesto(capital_inicial, tasa_interes, periodos, veces_por_periodo):\n",
    "    # Calcula el monto final usando la fórmula del interés compuesto\n",
    "    monto_final = capital_inicial * (1 + tasa_interes / veces_por_periodo) ** (veces_por_periodo * periodos)\n",
    "    \n",
    "    # Calcula el beneficio, que es la diferencia entre el monto final y el capital inicial\n",
    "    beneficio = monto_final - capital_inicial\n",
    "    return round(beneficio, 2)\n",
    "\n",
    "# Ejemplo de uso:\n",
    "capital_inicial = 1000  # Capital inicial en euros\n",
    "tasa_interes = 0.05  # 5% de interés anual\n",
    "periodos = 5  # 5 años\n",
    "veces_por_periodo = 12  # Interés compuesto mensual (12 veces al año)\n",
    "\n",
    "beneficio_final = calcular_interes_compuesto(capital_inicial, tasa_interes, periodos, veces_por_periodo)\n",
    "print(f'El beneficio final después del interés compuesto es: {beneficio_final} euros.')\n"
   ]
  },
  {
   "cell_type": "markdown",
   "metadata": {},
   "source": [
    "6. Validar si una palabra es un anagrama de otra. Descripción: Crea una función llamada es_anagrama que tome dos palabras como parámetros y devuelva True si una es un anagrama de la otra, o False\n",
    "si no lo es."
   ]
  },
  {
   "cell_type": "code",
   "execution_count": 34,
   "metadata": {},
   "outputs": [],
   "source": [
    "palabra1 = 'Amor'\n",
    "palabra2 = 'Roma'\n",
    "def es_anagrama(palabra1,palabra2):\n",
    "     # Convertimos ambas a minúsculas\n",
    "    palabra1 = palabra1.lower()\n",
    "    palabra2 = palabra2.lower()\n",
    "    # Luego convertimos las cadenas a lista, porque vamos a ordenarlas pero es más sencillo ordenar una lista.\n",
    "    palabra1_lista = list(palabra1)\n",
    "    palabra2_lista = list(palabra2)\n",
    "    # Las ordenamos\n",
    "    palabra1_lista.sort()\n",
    "    palabra2_lista.sort()\n",
    "    # Convertir de vuelta a cadena\n",
    "    palabra1_ordenada = \"\".join(palabra1_lista)\n",
    "    palabra2_ordenada = \"\".join(palabra2_lista)\n",
    "    # Y finalmente comprobar si son iguales\n",
    "    return palabra1_ordenada == palabra2_ordenada"
   ]
  },
  {
   "cell_type": "code",
   "execution_count": 36,
   "metadata": {},
   "outputs": [
    {
     "name": "stdout",
     "output_type": "stream",
     "text": [
      "Amor es anagrama de Roma\n",
      "hola NO es anagrama de adios\n"
     ]
    }
   ],
   "source": [
    "es_anagrama('Amor','Roma')\n",
    "if es_anagrama:\n",
    "    print(f\"{palabra1} es anagrama de {palabra2}\")\n",
    "else:\n",
    "    print(f\"{palabra1} NO es anagrama de {palabra2}\")\n",
    "\n",
    "# Solicitar al usuario las cadenas:\n",
    "cadena1 = input(\"Ingresa una cadena: \")\n",
    "cadena2 = input(\"Ingresa otra cadena: \")\n",
    "es_anagrama = es_anagrama(cadena1, cadena2)\n",
    "if es_anagrama:\n",
    "    print(f\"{cadena1} es anagrama de {cadena2}\")\n",
    "else:\n",
    "    print(f\"{cadena1} NO es anagrama de {cadena2}\")"
   ]
  },
  {
   "cell_type": "markdown",
   "metadata": {},
   "source": [
    "7. Validar si una cadena de texto es un isograma. Descripción: Crea una función llamada es_isograma que tome una cadena de texto como parámetro y devuelva True si es un isograma. En caso contrario,devuelve False.¿Qué es un isograma? Una palabra que no contiene letras repetidas."
   ]
  },
  {
   "cell_type": "code",
   "execution_count": 37,
   "metadata": {},
   "outputs": [
    {
     "name": "stdout",
     "output_type": "stream",
     "text": [
      "camino es isograma de hola\n"
     ]
    }
   ],
   "source": [
    " # Solicitar al usuario las cadenas\n",
    "cadena1 = input(\"Ingresa una cadena: \")\n",
    "cadena2 = input(\"Ingresa otra cadena: \")\n",
    "def es_isograma(cadena1, cadena2):\n",
    "    # Convertimos ambas a minúsculas\n",
    "    cadena1 = cadena1.lower()\n",
    "    cadena2 = cadena2.lower()\n",
    "    # Convertimos las cadenas en listas porque es más fácil ordenarlas así.\n",
    "    cadena1_lista = list(cadena1.sort())\n",
    "    cadena2_lista = list(cadena2.sort())\n",
    "    # Convertir de vuelta a cadena\n",
    "    cadena1_ordenada = \"\".join(cadena1_lista)\n",
    "    cadena2_ordenada = \"\".join(cadena2_lista)\n",
    "    # Y finalmente comprobar si son diferentes:\n",
    "    return cadena1_ordenada != cadena2_ordenada\n",
    "if es_isograma:\n",
    "        print(f\"{cadena1} es isograma de {cadena2}\")\n",
    "else:\n",
    "        print(f\"{cadena1} NO es isograma de {cadena2}\")\n",
    "  "
   ]
  },
  {
   "cell_type": "markdown",
   "metadata": {},
   "source": [
    "8. Concatenar múltiples cadenas de texto Descripción: Crea una función llamada concatenar_cadenas que tome una cantidad variable de cadenas de texto como argumentos y devuelva una única cadena que contenga la concatenación de todas las cadenas \n",
    "ingresadas."
   ]
  },
  {
   "cell_type": "code",
   "execution_count": 53,
   "metadata": {},
   "outputs": [],
   "source": [
    "# Preguntamos al usuario para que nos de dos cadenas de texto.\n",
    "cad1 = input(\"Ingresa una cadena: \")\n",
    "cad2 = input(\"Ingresa otra cadena: \")\n",
    "# Creamos la función:\n",
    "def concatenar_cadenas(cad1, cad2):\n",
    "    # Concatenamos las cadenas.\n",
    "    union_cadenas = (cad1) + ' ' + (cad2)\n",
    "    return union_cadenas"
   ]
  },
  {
   "cell_type": "code",
   "execution_count": 54,
   "metadata": {},
   "outputs": [
    {
     "data": {
      "text/plain": [
       "'Hoy estoy despierto'"
      ]
     },
     "execution_count": 54,
     "metadata": {},
     "output_type": "execute_result"
    }
   ],
   "source": [
    "# Llamamos a la función.\n",
    "concatenar_cadenas(cad1, cad2)"
   ]
  },
  {
   "cell_type": "code",
   "execution_count": 36,
   "metadata": {},
   "outputs": [],
   "source": [
    "# Quiero hacer esto con *args.\n",
    "def concatenar_multiples_cadenas(*args):\n",
    "    union = \"\"\n",
    "    for cad in args:\n",
    "        union = union + ' ' + cad\n",
    "    return union\n",
    "\n",
    "def concatenar_multiples_cadenas2(*args):\n",
    "    return ' '.join(args)\n"
   ]
  },
  {
   "cell_type": "code",
   "execution_count": 37,
   "metadata": {},
   "outputs": [
    {
     "data": {
      "text/plain": [
       "'a b c test'"
      ]
     },
     "execution_count": 37,
     "metadata": {},
     "output_type": "execute_result"
    }
   ],
   "source": [
    "concatenar_multiples_cadenas2(\"a\", \"b\", \"c\", \"test\")"
   ]
  },
  {
   "cell_type": "markdown",
   "metadata": {},
   "source": [
    "* Ejercicio prueba: (mio)"
   ]
  },
  {
   "cell_type": "code",
   "execution_count": null,
   "metadata": {},
   "outputs": [],
   "source": [
    "# Pide al usuario una cadena de texto.\n",
    "# Mientras el usuario quiera sigue añadiendo."
   ]
  },
  {
   "cell_type": "code",
   "execution_count": 41,
   "metadata": {},
   "outputs": [],
   "source": [
    "def get_user_input():\n",
    "    lista = []\n",
    "    while True:\n",
    "        user = input('Ingresa una palabra:')\n",
    "        if user == ('salir'):\n",
    "            break\n",
    "        lista.append(user)\n",
    "    return lista\n",
    "\n",
    "def get_user_input2():\n",
    "    lista = []\n",
    "    while True:\n",
    "        user = input('Ingresa una palabra:')\n",
    "        if user == (''):\n",
    "            break\n",
    "        lista.append(user)\n",
    "    return lista"
   ]
  },
  {
   "cell_type": "code",
   "execution_count": 21,
   "metadata": {},
   "outputs": [
    {
     "name": "stdout",
     "output_type": "stream",
     "text": [
      "['test', 'hola']\n"
     ]
    }
   ],
   "source": [
    "lst = get_user_input()\n",
    "print(lst)"
   ]
  },
  {
   "cell_type": "code",
   "execution_count": 44,
   "metadata": {},
   "outputs": [
    {
     "name": "stdout",
     "output_type": "stream",
     "text": [
      "Hello World\n"
     ]
    }
   ],
   "source": [
    "lst = get_user_input2()\n",
    "cads = concatenar_multiples_cadenas2(*lst) \n",
    "# El operador * desempaqueta la lista lst y pasa sus elementos como argumentos individuales a la función\n",
    "# Seria como llamar a la fct de la siguiente forma : concatenar_multiples_cadenas2(\"Hola\", \"mundo\", \"desde\", \"Python\")\n",
    "# Teniendo la lista : lst = [\"Hola\", \"mundo\", \"desde\", \"Python\"]\n",
    "print(cads)"
   ]
  },
  {
   "cell_type": "markdown",
   "metadata": {},
   "source": [
    "9. Crear un diccionario con información de una persona. Descripción: Crea una función llamada crear_persona que tome como argumentos clave-valor los datos de una persona, como nombre, edad,ciudad, etc., y devuelva un diccionario con toda la información ingresada."
   ]
  },
  {
   "cell_type": "code",
   "execution_count": 45,
   "metadata": {},
   "outputs": [],
   "source": [
    "def crear_persona(nombre, edad, ciudad, email):\n",
    "    dicc = {'nombre': nombre,\n",
    "            'edad': edad,\n",
    "            'ciudad': ciudad,\n",
    "            'email': email\n",
    "            }\n",
    "    return dicc"
   ]
  },
  {
   "cell_type": "code",
   "execution_count": null,
   "metadata": {},
   "outputs": [],
   "source": [
    "def crear_persona2(**kwargs):\n",
    "    return kwargs"
   ]
  },
  {
   "cell_type": "code",
   "execution_count": 46,
   "metadata": {},
   "outputs": [
    {
     "data": {
      "text/plain": [
       "{'nombre': 'Alba', 'edad': 30, 'ciudad': 'Madrid', 'email': 'alba@gmail.com'}"
      ]
     },
     "execution_count": 46,
     "metadata": {},
     "output_type": "execute_result"
    }
   ],
   "source": [
    "crear_persona('Alba', 30, 'Madrid', 'alba@gmail.com')"
   ]
  },
  {
   "cell_type": "markdown",
   "metadata": {},
   "source": [
    "10. Encontrar el número que falta en una lista ordenada de números consecutivos. Descripción: Crea una función llamada encontrar_numero_faltante que tome una lista de números consecutivos (del 1 al N, sin repetir) con un número faltante y devuelva ese número faltante."
   ]
  },
  {
   "cell_type": "code",
   "execution_count": 62,
   "metadata": {},
   "outputs": [],
   "source": [
    "lista = [1, 2, 3, 5, 6, 7, 8, 9, 10]\n",
    "\n",
    "def encontrar_numero_faltante():\n",
    "    n = len(lista) + 1\n",
    "    for num in range(3, n):\n",
    "        if num not in lista:\n",
    "            print(num)"
   ]
  },
  {
   "cell_type": "code",
   "execution_count": null,
   "metadata": {},
   "outputs": [],
   "source": [
    "def encontrar_numero_faltante2(lista):\n",
    "    n = len(lista) + 1  # El número total de elementos debería ser uno más que la longitud actual de la lista\n",
    "    suma_esperada = n * (n + 1) // 2  # Suma esperada de los números del 1 al N\n",
    "    suma_actual = sum(lista)  # Suma de los números en la lista actual\n",
    "    return suma_esperada - suma_actual  # El número faltante es la diferencia entre la suma esperada y la suma actual"
   ]
  },
  {
   "cell_type": "code",
   "execution_count": 63,
   "metadata": {},
   "outputs": [
    {
     "name": "stdout",
     "output_type": "stream",
     "text": [
      "7\n"
     ]
    }
   ],
   "source": [
    "encontrar_numero_faltante()"
   ]
  },
  {
   "cell_type": "markdown",
   "metadata": {},
   "source": [
    "11. Encontrar el elemento duplicado en una lista de números. Descripción: Crea una función llamada encontrar_duplicado que tome una lista de números enteros y devuelva el elemento que está duplicado en lalista."
   ]
  },
  {
   "cell_type": "code",
   "execution_count": 80,
   "metadata": {},
   "outputs": [],
   "source": [
    "def encontrar_duplicado(lista):\n",
    "    elementos_vistos = set()\n",
    "    for numero in lista: \n",
    "        if numero in elementos_vistos:\n",
    "            return numero\n",
    "        elementos_vistos.add(numero)\n",
    "    return None"
   ]
  },
  {
   "cell_type": "code",
   "execution_count": 81,
   "metadata": {},
   "outputs": [
    {
     "name": "stdout",
     "output_type": "stream",
     "text": [
      "El número duplicado es: 6\n"
     ]
    }
   ],
   "source": [
    "lista2 = [3, 4, 5, 6, 8, 6, 10]\n",
    "duplicado = encontrar_duplicado(lista2)\n",
    "print(f'El número duplicado es: {duplicado}')"
   ]
  }
 ],
 "metadata": {
  "kernelspec": {
   "display_name": "Python 3",
   "language": "python",
   "name": "python3"
  },
  "language_info": {
   "codemirror_mode": {
    "name": "ipython",
    "version": 3
   },
   "file_extension": ".py",
   "mimetype": "text/x-python",
   "name": "python",
   "nbconvert_exporter": "python",
   "pygments_lexer": "ipython3",
   "version": "3.9.6"
  }
 },
 "nbformat": 4,
 "nbformat_minor": 2
}
